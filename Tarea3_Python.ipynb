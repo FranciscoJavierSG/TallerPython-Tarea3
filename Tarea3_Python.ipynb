{
  "cells": [
    {
      "cell_type": "markdown",
      "source": [
        "#Tarea 3 - Taller de Python para Ciencias de Datos\n",
        "Por: Cristofer Alarcón, Felipe Espinoza y Francisco Salazar\n"
      ],
      "metadata": {
        "id": "dqSKhbHd6Zeu"
      }
    },
    {
      "cell_type": "markdown",
      "metadata": {
        "id": "2tP3VHqbIfF_"
      },
      "source": [
        "Importar librerías"
      ]
    },
    {
      "cell_type": "code",
      "execution_count": 47,
      "metadata": {
        "id": "fSPRSVfUIfVv"
      },
      "outputs": [],
      "source": [
        "import pandas as pd\n",
        "import matplotlib as mpl\n",
        "import numpy as np\n",
        "import matplotlib.pyplot as plt"
      ]
    },
    {
      "cell_type": "markdown",
      "metadata": {
        "id": "5Ee-OwsWIiNv"
      },
      "source": [
        "Cargar el conjunto de datos antes procesados en la tarea 2 "
      ]
    },
    {
      "cell_type": "code",
      "execution_count": 3,
      "metadata": {
        "colab": {
          "base_uri": "https://localhost:8080/",
          "height": 424
        },
        "id": "JhIJQeGPIiav",
        "outputId": "54a688e1-db5f-4306-c1cd-0d0b1f0d8f17"
      },
      "outputs": [
        {
          "output_type": "execute_result",
          "data": {
            "text/plain": [
              "     model  year  price transmission  mileage fuelType         tax   mpg  \\\n",
              "0   Fiesta  2017  12000    Automatic    15944   Petrol  113.417932  57.7   \n",
              "1    Focus  2018  14000       Manual     9083   Petrol  150.000000  57.7   \n",
              "2    Focus  2017  13000       Manual    12456   Petrol  150.000000  57.7   \n",
              "3   Fiesta  2019  17500       Manual    10460   Petrol  145.000000  40.3   \n",
              "4   Fiesta  2019  16500    Automatic     1482   Petrol  145.000000  48.7   \n",
              "5   Fiesta  2015  10500       Manual    35432   Petrol  113.417932  47.9   \n",
              "6     Puma  2019  22500       Manual     2029   Petrol  145.000000  50.4   \n",
              "7   Fiesta  2017   9000       Manual    13054   Petrol  113.417932  54.3   \n",
              "8     Kuga  2019  25500    Automatic     6894   Diesel  145.000000  42.2   \n",
              "9    Focus  2018  10000       Manual    48141   Petrol  113.417932  61.4   \n",
              "\n",
              "   engineSize  km/L           km  km/LNorm    kmNorm gastos-en-km/L  \\\n",
              "0         1.0    24  25659.31696  0.285927  0.089753           Bajo   \n",
              "1         1.0    24  14617.63522  0.285927  0.051130           Bajo   \n",
              "2         1.0    24  20045.93904  0.285927  0.070118           Bajo   \n",
              "3         1.5    17  16833.69640  0.199703  0.058882           Bajo   \n",
              "4         1.0    20   2385.04188  0.241328  0.008343           Bajo   \n",
              "5         1.6    20  57022.13488  0.237364  0.199455           Bajo   \n",
              "6         1.0    21   3265.35086  0.249752  0.011422           Bajo   \n",
              "7         1.2    23  21008.32436  0.269078  0.073484           Bajo   \n",
              "8         2.0    17  11094.78996  0.209118  0.038808           Bajo   \n",
              "9         1.0    26  77475.23694  0.304262  0.270997           Bajo   \n",
              "\n",
              "   Transmision Automatica  Transmision Manual  Transmision Semi-Automatica  \n",
              "0                       1                   0                            0  \n",
              "1                       0                   1                            0  \n",
              "2                       0                   1                            0  \n",
              "3                       0                   1                            0  \n",
              "4                       1                   0                            0  \n",
              "5                       0                   1                            0  \n",
              "6                       0                   1                            0  \n",
              "7                       0                   1                            0  \n",
              "8                       1                   0                            0  \n",
              "9                       0                   1                            0  "
            ],
            "text/html": [
              "\n",
              "  <div id=\"df-9d260ae9-8856-46e5-9adb-17c93ce6a482\">\n",
              "    <div class=\"colab-df-container\">\n",
              "      <div>\n",
              "<style scoped>\n",
              "    .dataframe tbody tr th:only-of-type {\n",
              "        vertical-align: middle;\n",
              "    }\n",
              "\n",
              "    .dataframe tbody tr th {\n",
              "        vertical-align: top;\n",
              "    }\n",
              "\n",
              "    .dataframe thead th {\n",
              "        text-align: right;\n",
              "    }\n",
              "</style>\n",
              "<table border=\"1\" class=\"dataframe\">\n",
              "  <thead>\n",
              "    <tr style=\"text-align: right;\">\n",
              "      <th></th>\n",
              "      <th>model</th>\n",
              "      <th>year</th>\n",
              "      <th>price</th>\n",
              "      <th>transmission</th>\n",
              "      <th>mileage</th>\n",
              "      <th>fuelType</th>\n",
              "      <th>tax</th>\n",
              "      <th>mpg</th>\n",
              "      <th>engineSize</th>\n",
              "      <th>km/L</th>\n",
              "      <th>km</th>\n",
              "      <th>km/LNorm</th>\n",
              "      <th>kmNorm</th>\n",
              "      <th>gastos-en-km/L</th>\n",
              "      <th>Transmision Automatica</th>\n",
              "      <th>Transmision Manual</th>\n",
              "      <th>Transmision Semi-Automatica</th>\n",
              "    </tr>\n",
              "  </thead>\n",
              "  <tbody>\n",
              "    <tr>\n",
              "      <th>0</th>\n",
              "      <td>Fiesta</td>\n",
              "      <td>2017</td>\n",
              "      <td>12000</td>\n",
              "      <td>Automatic</td>\n",
              "      <td>15944</td>\n",
              "      <td>Petrol</td>\n",
              "      <td>113.417932</td>\n",
              "      <td>57.7</td>\n",
              "      <td>1.0</td>\n",
              "      <td>24</td>\n",
              "      <td>25659.31696</td>\n",
              "      <td>0.285927</td>\n",
              "      <td>0.089753</td>\n",
              "      <td>Bajo</td>\n",
              "      <td>1</td>\n",
              "      <td>0</td>\n",
              "      <td>0</td>\n",
              "    </tr>\n",
              "    <tr>\n",
              "      <th>1</th>\n",
              "      <td>Focus</td>\n",
              "      <td>2018</td>\n",
              "      <td>14000</td>\n",
              "      <td>Manual</td>\n",
              "      <td>9083</td>\n",
              "      <td>Petrol</td>\n",
              "      <td>150.000000</td>\n",
              "      <td>57.7</td>\n",
              "      <td>1.0</td>\n",
              "      <td>24</td>\n",
              "      <td>14617.63522</td>\n",
              "      <td>0.285927</td>\n",
              "      <td>0.051130</td>\n",
              "      <td>Bajo</td>\n",
              "      <td>0</td>\n",
              "      <td>1</td>\n",
              "      <td>0</td>\n",
              "    </tr>\n",
              "    <tr>\n",
              "      <th>2</th>\n",
              "      <td>Focus</td>\n",
              "      <td>2017</td>\n",
              "      <td>13000</td>\n",
              "      <td>Manual</td>\n",
              "      <td>12456</td>\n",
              "      <td>Petrol</td>\n",
              "      <td>150.000000</td>\n",
              "      <td>57.7</td>\n",
              "      <td>1.0</td>\n",
              "      <td>24</td>\n",
              "      <td>20045.93904</td>\n",
              "      <td>0.285927</td>\n",
              "      <td>0.070118</td>\n",
              "      <td>Bajo</td>\n",
              "      <td>0</td>\n",
              "      <td>1</td>\n",
              "      <td>0</td>\n",
              "    </tr>\n",
              "    <tr>\n",
              "      <th>3</th>\n",
              "      <td>Fiesta</td>\n",
              "      <td>2019</td>\n",
              "      <td>17500</td>\n",
              "      <td>Manual</td>\n",
              "      <td>10460</td>\n",
              "      <td>Petrol</td>\n",
              "      <td>145.000000</td>\n",
              "      <td>40.3</td>\n",
              "      <td>1.5</td>\n",
              "      <td>17</td>\n",
              "      <td>16833.69640</td>\n",
              "      <td>0.199703</td>\n",
              "      <td>0.058882</td>\n",
              "      <td>Bajo</td>\n",
              "      <td>0</td>\n",
              "      <td>1</td>\n",
              "      <td>0</td>\n",
              "    </tr>\n",
              "    <tr>\n",
              "      <th>4</th>\n",
              "      <td>Fiesta</td>\n",
              "      <td>2019</td>\n",
              "      <td>16500</td>\n",
              "      <td>Automatic</td>\n",
              "      <td>1482</td>\n",
              "      <td>Petrol</td>\n",
              "      <td>145.000000</td>\n",
              "      <td>48.7</td>\n",
              "      <td>1.0</td>\n",
              "      <td>20</td>\n",
              "      <td>2385.04188</td>\n",
              "      <td>0.241328</td>\n",
              "      <td>0.008343</td>\n",
              "      <td>Bajo</td>\n",
              "      <td>1</td>\n",
              "      <td>0</td>\n",
              "      <td>0</td>\n",
              "    </tr>\n",
              "    <tr>\n",
              "      <th>5</th>\n",
              "      <td>Fiesta</td>\n",
              "      <td>2015</td>\n",
              "      <td>10500</td>\n",
              "      <td>Manual</td>\n",
              "      <td>35432</td>\n",
              "      <td>Petrol</td>\n",
              "      <td>113.417932</td>\n",
              "      <td>47.9</td>\n",
              "      <td>1.6</td>\n",
              "      <td>20</td>\n",
              "      <td>57022.13488</td>\n",
              "      <td>0.237364</td>\n",
              "      <td>0.199455</td>\n",
              "      <td>Bajo</td>\n",
              "      <td>0</td>\n",
              "      <td>1</td>\n",
              "      <td>0</td>\n",
              "    </tr>\n",
              "    <tr>\n",
              "      <th>6</th>\n",
              "      <td>Puma</td>\n",
              "      <td>2019</td>\n",
              "      <td>22500</td>\n",
              "      <td>Manual</td>\n",
              "      <td>2029</td>\n",
              "      <td>Petrol</td>\n",
              "      <td>145.000000</td>\n",
              "      <td>50.4</td>\n",
              "      <td>1.0</td>\n",
              "      <td>21</td>\n",
              "      <td>3265.35086</td>\n",
              "      <td>0.249752</td>\n",
              "      <td>0.011422</td>\n",
              "      <td>Bajo</td>\n",
              "      <td>0</td>\n",
              "      <td>1</td>\n",
              "      <td>0</td>\n",
              "    </tr>\n",
              "    <tr>\n",
              "      <th>7</th>\n",
              "      <td>Fiesta</td>\n",
              "      <td>2017</td>\n",
              "      <td>9000</td>\n",
              "      <td>Manual</td>\n",
              "      <td>13054</td>\n",
              "      <td>Petrol</td>\n",
              "      <td>113.417932</td>\n",
              "      <td>54.3</td>\n",
              "      <td>1.2</td>\n",
              "      <td>23</td>\n",
              "      <td>21008.32436</td>\n",
              "      <td>0.269078</td>\n",
              "      <td>0.073484</td>\n",
              "      <td>Bajo</td>\n",
              "      <td>0</td>\n",
              "      <td>1</td>\n",
              "      <td>0</td>\n",
              "    </tr>\n",
              "    <tr>\n",
              "      <th>8</th>\n",
              "      <td>Kuga</td>\n",
              "      <td>2019</td>\n",
              "      <td>25500</td>\n",
              "      <td>Automatic</td>\n",
              "      <td>6894</td>\n",
              "      <td>Diesel</td>\n",
              "      <td>145.000000</td>\n",
              "      <td>42.2</td>\n",
              "      <td>2.0</td>\n",
              "      <td>17</td>\n",
              "      <td>11094.78996</td>\n",
              "      <td>0.209118</td>\n",
              "      <td>0.038808</td>\n",
              "      <td>Bajo</td>\n",
              "      <td>1</td>\n",
              "      <td>0</td>\n",
              "      <td>0</td>\n",
              "    </tr>\n",
              "    <tr>\n",
              "      <th>9</th>\n",
              "      <td>Focus</td>\n",
              "      <td>2018</td>\n",
              "      <td>10000</td>\n",
              "      <td>Manual</td>\n",
              "      <td>48141</td>\n",
              "      <td>Petrol</td>\n",
              "      <td>113.417932</td>\n",
              "      <td>61.4</td>\n",
              "      <td>1.0</td>\n",
              "      <td>26</td>\n",
              "      <td>77475.23694</td>\n",
              "      <td>0.304262</td>\n",
              "      <td>0.270997</td>\n",
              "      <td>Bajo</td>\n",
              "      <td>0</td>\n",
              "      <td>1</td>\n",
              "      <td>0</td>\n",
              "    </tr>\n",
              "  </tbody>\n",
              "</table>\n",
              "</div>\n",
              "      <button class=\"colab-df-convert\" onclick=\"convertToInteractive('df-9d260ae9-8856-46e5-9adb-17c93ce6a482')\"\n",
              "              title=\"Convert this dataframe to an interactive table.\"\n",
              "              style=\"display:none;\">\n",
              "        \n",
              "  <svg xmlns=\"http://www.w3.org/2000/svg\" height=\"24px\"viewBox=\"0 0 24 24\"\n",
              "       width=\"24px\">\n",
              "    <path d=\"M0 0h24v24H0V0z\" fill=\"none\"/>\n",
              "    <path d=\"M18.56 5.44l.94 2.06.94-2.06 2.06-.94-2.06-.94-.94-2.06-.94 2.06-2.06.94zm-11 1L8.5 8.5l.94-2.06 2.06-.94-2.06-.94L8.5 2.5l-.94 2.06-2.06.94zm10 10l.94 2.06.94-2.06 2.06-.94-2.06-.94-.94-2.06-.94 2.06-2.06.94z\"/><path d=\"M17.41 7.96l-1.37-1.37c-.4-.4-.92-.59-1.43-.59-.52 0-1.04.2-1.43.59L10.3 9.45l-7.72 7.72c-.78.78-.78 2.05 0 2.83L4 21.41c.39.39.9.59 1.41.59.51 0 1.02-.2 1.41-.59l7.78-7.78 2.81-2.81c.8-.78.8-2.07 0-2.86zM5.41 20L4 18.59l7.72-7.72 1.47 1.35L5.41 20z\"/>\n",
              "  </svg>\n",
              "      </button>\n",
              "      \n",
              "  <style>\n",
              "    .colab-df-container {\n",
              "      display:flex;\n",
              "      flex-wrap:wrap;\n",
              "      gap: 12px;\n",
              "    }\n",
              "\n",
              "    .colab-df-convert {\n",
              "      background-color: #E8F0FE;\n",
              "      border: none;\n",
              "      border-radius: 50%;\n",
              "      cursor: pointer;\n",
              "      display: none;\n",
              "      fill: #1967D2;\n",
              "      height: 32px;\n",
              "      padding: 0 0 0 0;\n",
              "      width: 32px;\n",
              "    }\n",
              "\n",
              "    .colab-df-convert:hover {\n",
              "      background-color: #E2EBFA;\n",
              "      box-shadow: 0px 1px 2px rgba(60, 64, 67, 0.3), 0px 1px 3px 1px rgba(60, 64, 67, 0.15);\n",
              "      fill: #174EA6;\n",
              "    }\n",
              "\n",
              "    [theme=dark] .colab-df-convert {\n",
              "      background-color: #3B4455;\n",
              "      fill: #D2E3FC;\n",
              "    }\n",
              "\n",
              "    [theme=dark] .colab-df-convert:hover {\n",
              "      background-color: #434B5C;\n",
              "      box-shadow: 0px 1px 3px 1px rgba(0, 0, 0, 0.15);\n",
              "      filter: drop-shadow(0px 1px 2px rgba(0, 0, 0, 0.3));\n",
              "      fill: #FFFFFF;\n",
              "    }\n",
              "  </style>\n",
              "\n",
              "      <script>\n",
              "        const buttonEl =\n",
              "          document.querySelector('#df-9d260ae9-8856-46e5-9adb-17c93ce6a482 button.colab-df-convert');\n",
              "        buttonEl.style.display =\n",
              "          google.colab.kernel.accessAllowed ? 'block' : 'none';\n",
              "\n",
              "        async function convertToInteractive(key) {\n",
              "          const element = document.querySelector('#df-9d260ae9-8856-46e5-9adb-17c93ce6a482');\n",
              "          const dataTable =\n",
              "            await google.colab.kernel.invokeFunction('convertToInteractive',\n",
              "                                                     [key], {});\n",
              "          if (!dataTable) return;\n",
              "\n",
              "          const docLinkHtml = 'Like what you see? Visit the ' +\n",
              "            '<a target=\"_blank\" href=https://colab.research.google.com/notebooks/data_table.ipynb>data table notebook</a>'\n",
              "            + ' to learn more about interactive tables.';\n",
              "          element.innerHTML = '';\n",
              "          dataTable['output_type'] = 'display_data';\n",
              "          await google.colab.output.renderOutput(dataTable, element);\n",
              "          const docLink = document.createElement('div');\n",
              "          docLink.innerHTML = docLinkHtml;\n",
              "          element.appendChild(docLink);\n",
              "        }\n",
              "      </script>\n",
              "    </div>\n",
              "  </div>\n",
              "  "
            ]
          },
          "metadata": {},
          "execution_count": 3
        }
      ],
      "source": [
        "df = pd.read_csv(\"datos_vehiculos_procesados.csv\", skiprows=0, low_memory=False)\n",
        "df.head(10)"
      ]
    },
    {
      "cell_type": "markdown",
      "metadata": {
        "id": "tzhdvWfdgFBe"
      },
      "source": [
        "# Generar al menos 5 tipos diferentes de gráficos para mostrar características del conjunto de datos"
      ]
    },
    {
      "cell_type": "markdown",
      "metadata": {
        "id": "WfloVqumkJOc"
      },
      "source": [
        "Cambiar nombre de algunas columnas para que se entiendan de mejor forma"
      ]
    },
    {
      "cell_type": "code",
      "execution_count": 4,
      "metadata": {
        "colab": {
          "base_uri": "https://localhost:8080/",
          "height": 598
        },
        "id": "T5Mz2nEGgMt-",
        "outputId": "b9c04208-3888-4e97-de14-d04ddc4d1119"
      },
      "outputs": [
        {
          "output_type": "execute_result",
          "data": {
            "text/plain": [
              "        model  year  price transmission  mileage fuelType         tax  \\\n",
              "0      Fiesta  2017  12000    Automatic    15944   Petrol  113.417932   \n",
              "1       Focus  2018  14000       Manual     9083   Petrol  150.000000   \n",
              "2       Focus  2017  13000       Manual    12456   Petrol  150.000000   \n",
              "3      Fiesta  2019  17500       Manual    10460   Petrol  145.000000   \n",
              "4      Fiesta  2019  16500    Automatic     1482   Petrol  145.000000   \n",
              "5      Fiesta  2015  10500       Manual    35432   Petrol  113.417932   \n",
              "6        Puma  2019  22500       Manual     2029   Petrol  145.000000   \n",
              "7      Fiesta  2017   9000       Manual    13054   Petrol  113.417932   \n",
              "8        Kuga  2019  25500    Automatic     6894   Diesel  145.000000   \n",
              "9       Focus  2018  10000       Manual    48141   Petrol  113.417932   \n",
              "10     Fiesta  2018  11561       Manual    18803   Petrol  145.000000   \n",
              "11   EcoSport  2018  13500       Manual    12065   Petrol  145.000000   \n",
              "12     Fiesta  2017  11000       Manual    20978   Petrol  113.417932   \n",
              "13       Kuga  2018  17999    Semi-Auto     9002   Diesel  145.000000   \n",
              "14       Kuga  2018  18999    Semi-Auto     8970   Diesel  145.000000   \n",
              "\n",
              "    fuel consumption(mpg)  engineSize  fuel consumption(km/l)           km  \\\n",
              "0                    57.7         1.0                      24  25659.31696   \n",
              "1                    57.7         1.0                      24  14617.63522   \n",
              "2                    57.7         1.0                      24  20045.93904   \n",
              "3                    40.3         1.5                      17  16833.69640   \n",
              "4                    48.7         1.0                      20   2385.04188   \n",
              "5                    47.9         1.6                      20  57022.13488   \n",
              "6                    50.4         1.0                      21   3265.35086   \n",
              "7                    54.3         1.2                      23  21008.32436   \n",
              "8                    42.2         2.0                      17  11094.78996   \n",
              "9                    61.4         1.0                      26  77475.23694   \n",
              "10                   56.5         1.0                      24  30260.42002   \n",
              "11                   54.3         1.0                      23  19416.68710   \n",
              "12                   65.7         1.0                      27  33760.73452   \n",
              "13                   54.3         2.0                      23  14487.27868   \n",
              "14                   58.9         1.5                      25  14435.77980   \n",
              "\n",
              "    km/LNorm    kmNorm gastos-en-km/L  Transmision Automatica  \\\n",
              "0   0.285927  0.089753           Bajo                       1   \n",
              "1   0.285927  0.051130           Bajo                       0   \n",
              "2   0.285927  0.070118           Bajo                       0   \n",
              "3   0.199703  0.058882           Bajo                       0   \n",
              "4   0.241328  0.008343           Bajo                       1   \n",
              "5   0.237364  0.199455           Bajo                       0   \n",
              "6   0.249752  0.011422           Bajo                       0   \n",
              "7   0.269078  0.073484           Bajo                       0   \n",
              "8   0.209118  0.038808           Bajo                       1   \n",
              "9   0.304262  0.270997           Bajo                       0   \n",
              "10  0.279980  0.105847           Bajo                       0   \n",
              "11  0.269078  0.067917           Bajo                       0   \n",
              "12  0.325570  0.118090           Bajo                       0   \n",
              "13  0.269078  0.050674           Bajo                       0   \n",
              "14  0.291873  0.050494           Bajo                       0   \n",
              "\n",
              "    Transmision Manual  Transmision Semi-Automatica  \n",
              "0                    0                            0  \n",
              "1                    1                            0  \n",
              "2                    1                            0  \n",
              "3                    1                            0  \n",
              "4                    0                            0  \n",
              "5                    1                            0  \n",
              "6                    1                            0  \n",
              "7                    1                            0  \n",
              "8                    0                            0  \n",
              "9                    1                            0  \n",
              "10                   1                            0  \n",
              "11                   1                            0  \n",
              "12                   1                            0  \n",
              "13                   0                            1  \n",
              "14                   0                            1  "
            ],
            "text/html": [
              "\n",
              "  <div id=\"df-d4d7e9f5-8e11-4373-bd79-9741dd71d07b\">\n",
              "    <div class=\"colab-df-container\">\n",
              "      <div>\n",
              "<style scoped>\n",
              "    .dataframe tbody tr th:only-of-type {\n",
              "        vertical-align: middle;\n",
              "    }\n",
              "\n",
              "    .dataframe tbody tr th {\n",
              "        vertical-align: top;\n",
              "    }\n",
              "\n",
              "    .dataframe thead th {\n",
              "        text-align: right;\n",
              "    }\n",
              "</style>\n",
              "<table border=\"1\" class=\"dataframe\">\n",
              "  <thead>\n",
              "    <tr style=\"text-align: right;\">\n",
              "      <th></th>\n",
              "      <th>model</th>\n",
              "      <th>year</th>\n",
              "      <th>price</th>\n",
              "      <th>transmission</th>\n",
              "      <th>mileage</th>\n",
              "      <th>fuelType</th>\n",
              "      <th>tax</th>\n",
              "      <th>fuel consumption(mpg)</th>\n",
              "      <th>engineSize</th>\n",
              "      <th>fuel consumption(km/l)</th>\n",
              "      <th>km</th>\n",
              "      <th>km/LNorm</th>\n",
              "      <th>kmNorm</th>\n",
              "      <th>gastos-en-km/L</th>\n",
              "      <th>Transmision Automatica</th>\n",
              "      <th>Transmision Manual</th>\n",
              "      <th>Transmision Semi-Automatica</th>\n",
              "    </tr>\n",
              "  </thead>\n",
              "  <tbody>\n",
              "    <tr>\n",
              "      <th>0</th>\n",
              "      <td>Fiesta</td>\n",
              "      <td>2017</td>\n",
              "      <td>12000</td>\n",
              "      <td>Automatic</td>\n",
              "      <td>15944</td>\n",
              "      <td>Petrol</td>\n",
              "      <td>113.417932</td>\n",
              "      <td>57.7</td>\n",
              "      <td>1.0</td>\n",
              "      <td>24</td>\n",
              "      <td>25659.31696</td>\n",
              "      <td>0.285927</td>\n",
              "      <td>0.089753</td>\n",
              "      <td>Bajo</td>\n",
              "      <td>1</td>\n",
              "      <td>0</td>\n",
              "      <td>0</td>\n",
              "    </tr>\n",
              "    <tr>\n",
              "      <th>1</th>\n",
              "      <td>Focus</td>\n",
              "      <td>2018</td>\n",
              "      <td>14000</td>\n",
              "      <td>Manual</td>\n",
              "      <td>9083</td>\n",
              "      <td>Petrol</td>\n",
              "      <td>150.000000</td>\n",
              "      <td>57.7</td>\n",
              "      <td>1.0</td>\n",
              "      <td>24</td>\n",
              "      <td>14617.63522</td>\n",
              "      <td>0.285927</td>\n",
              "      <td>0.051130</td>\n",
              "      <td>Bajo</td>\n",
              "      <td>0</td>\n",
              "      <td>1</td>\n",
              "      <td>0</td>\n",
              "    </tr>\n",
              "    <tr>\n",
              "      <th>2</th>\n",
              "      <td>Focus</td>\n",
              "      <td>2017</td>\n",
              "      <td>13000</td>\n",
              "      <td>Manual</td>\n",
              "      <td>12456</td>\n",
              "      <td>Petrol</td>\n",
              "      <td>150.000000</td>\n",
              "      <td>57.7</td>\n",
              "      <td>1.0</td>\n",
              "      <td>24</td>\n",
              "      <td>20045.93904</td>\n",
              "      <td>0.285927</td>\n",
              "      <td>0.070118</td>\n",
              "      <td>Bajo</td>\n",
              "      <td>0</td>\n",
              "      <td>1</td>\n",
              "      <td>0</td>\n",
              "    </tr>\n",
              "    <tr>\n",
              "      <th>3</th>\n",
              "      <td>Fiesta</td>\n",
              "      <td>2019</td>\n",
              "      <td>17500</td>\n",
              "      <td>Manual</td>\n",
              "      <td>10460</td>\n",
              "      <td>Petrol</td>\n",
              "      <td>145.000000</td>\n",
              "      <td>40.3</td>\n",
              "      <td>1.5</td>\n",
              "      <td>17</td>\n",
              "      <td>16833.69640</td>\n",
              "      <td>0.199703</td>\n",
              "      <td>0.058882</td>\n",
              "      <td>Bajo</td>\n",
              "      <td>0</td>\n",
              "      <td>1</td>\n",
              "      <td>0</td>\n",
              "    </tr>\n",
              "    <tr>\n",
              "      <th>4</th>\n",
              "      <td>Fiesta</td>\n",
              "      <td>2019</td>\n",
              "      <td>16500</td>\n",
              "      <td>Automatic</td>\n",
              "      <td>1482</td>\n",
              "      <td>Petrol</td>\n",
              "      <td>145.000000</td>\n",
              "      <td>48.7</td>\n",
              "      <td>1.0</td>\n",
              "      <td>20</td>\n",
              "      <td>2385.04188</td>\n",
              "      <td>0.241328</td>\n",
              "      <td>0.008343</td>\n",
              "      <td>Bajo</td>\n",
              "      <td>1</td>\n",
              "      <td>0</td>\n",
              "      <td>0</td>\n",
              "    </tr>\n",
              "    <tr>\n",
              "      <th>5</th>\n",
              "      <td>Fiesta</td>\n",
              "      <td>2015</td>\n",
              "      <td>10500</td>\n",
              "      <td>Manual</td>\n",
              "      <td>35432</td>\n",
              "      <td>Petrol</td>\n",
              "      <td>113.417932</td>\n",
              "      <td>47.9</td>\n",
              "      <td>1.6</td>\n",
              "      <td>20</td>\n",
              "      <td>57022.13488</td>\n",
              "      <td>0.237364</td>\n",
              "      <td>0.199455</td>\n",
              "      <td>Bajo</td>\n",
              "      <td>0</td>\n",
              "      <td>1</td>\n",
              "      <td>0</td>\n",
              "    </tr>\n",
              "    <tr>\n",
              "      <th>6</th>\n",
              "      <td>Puma</td>\n",
              "      <td>2019</td>\n",
              "      <td>22500</td>\n",
              "      <td>Manual</td>\n",
              "      <td>2029</td>\n",
              "      <td>Petrol</td>\n",
              "      <td>145.000000</td>\n",
              "      <td>50.4</td>\n",
              "      <td>1.0</td>\n",
              "      <td>21</td>\n",
              "      <td>3265.35086</td>\n",
              "      <td>0.249752</td>\n",
              "      <td>0.011422</td>\n",
              "      <td>Bajo</td>\n",
              "      <td>0</td>\n",
              "      <td>1</td>\n",
              "      <td>0</td>\n",
              "    </tr>\n",
              "    <tr>\n",
              "      <th>7</th>\n",
              "      <td>Fiesta</td>\n",
              "      <td>2017</td>\n",
              "      <td>9000</td>\n",
              "      <td>Manual</td>\n",
              "      <td>13054</td>\n",
              "      <td>Petrol</td>\n",
              "      <td>113.417932</td>\n",
              "      <td>54.3</td>\n",
              "      <td>1.2</td>\n",
              "      <td>23</td>\n",
              "      <td>21008.32436</td>\n",
              "      <td>0.269078</td>\n",
              "      <td>0.073484</td>\n",
              "      <td>Bajo</td>\n",
              "      <td>0</td>\n",
              "      <td>1</td>\n",
              "      <td>0</td>\n",
              "    </tr>\n",
              "    <tr>\n",
              "      <th>8</th>\n",
              "      <td>Kuga</td>\n",
              "      <td>2019</td>\n",
              "      <td>25500</td>\n",
              "      <td>Automatic</td>\n",
              "      <td>6894</td>\n",
              "      <td>Diesel</td>\n",
              "      <td>145.000000</td>\n",
              "      <td>42.2</td>\n",
              "      <td>2.0</td>\n",
              "      <td>17</td>\n",
              "      <td>11094.78996</td>\n",
              "      <td>0.209118</td>\n",
              "      <td>0.038808</td>\n",
              "      <td>Bajo</td>\n",
              "      <td>1</td>\n",
              "      <td>0</td>\n",
              "      <td>0</td>\n",
              "    </tr>\n",
              "    <tr>\n",
              "      <th>9</th>\n",
              "      <td>Focus</td>\n",
              "      <td>2018</td>\n",
              "      <td>10000</td>\n",
              "      <td>Manual</td>\n",
              "      <td>48141</td>\n",
              "      <td>Petrol</td>\n",
              "      <td>113.417932</td>\n",
              "      <td>61.4</td>\n",
              "      <td>1.0</td>\n",
              "      <td>26</td>\n",
              "      <td>77475.23694</td>\n",
              "      <td>0.304262</td>\n",
              "      <td>0.270997</td>\n",
              "      <td>Bajo</td>\n",
              "      <td>0</td>\n",
              "      <td>1</td>\n",
              "      <td>0</td>\n",
              "    </tr>\n",
              "    <tr>\n",
              "      <th>10</th>\n",
              "      <td>Fiesta</td>\n",
              "      <td>2018</td>\n",
              "      <td>11561</td>\n",
              "      <td>Manual</td>\n",
              "      <td>18803</td>\n",
              "      <td>Petrol</td>\n",
              "      <td>145.000000</td>\n",
              "      <td>56.5</td>\n",
              "      <td>1.0</td>\n",
              "      <td>24</td>\n",
              "      <td>30260.42002</td>\n",
              "      <td>0.279980</td>\n",
              "      <td>0.105847</td>\n",
              "      <td>Bajo</td>\n",
              "      <td>0</td>\n",
              "      <td>1</td>\n",
              "      <td>0</td>\n",
              "    </tr>\n",
              "    <tr>\n",
              "      <th>11</th>\n",
              "      <td>EcoSport</td>\n",
              "      <td>2018</td>\n",
              "      <td>13500</td>\n",
              "      <td>Manual</td>\n",
              "      <td>12065</td>\n",
              "      <td>Petrol</td>\n",
              "      <td>145.000000</td>\n",
              "      <td>54.3</td>\n",
              "      <td>1.0</td>\n",
              "      <td>23</td>\n",
              "      <td>19416.68710</td>\n",
              "      <td>0.269078</td>\n",
              "      <td>0.067917</td>\n",
              "      <td>Bajo</td>\n",
              "      <td>0</td>\n",
              "      <td>1</td>\n",
              "      <td>0</td>\n",
              "    </tr>\n",
              "    <tr>\n",
              "      <th>12</th>\n",
              "      <td>Fiesta</td>\n",
              "      <td>2017</td>\n",
              "      <td>11000</td>\n",
              "      <td>Manual</td>\n",
              "      <td>20978</td>\n",
              "      <td>Petrol</td>\n",
              "      <td>113.417932</td>\n",
              "      <td>65.7</td>\n",
              "      <td>1.0</td>\n",
              "      <td>27</td>\n",
              "      <td>33760.73452</td>\n",
              "      <td>0.325570</td>\n",
              "      <td>0.118090</td>\n",
              "      <td>Bajo</td>\n",
              "      <td>0</td>\n",
              "      <td>1</td>\n",
              "      <td>0</td>\n",
              "    </tr>\n",
              "    <tr>\n",
              "      <th>13</th>\n",
              "      <td>Kuga</td>\n",
              "      <td>2018</td>\n",
              "      <td>17999</td>\n",
              "      <td>Semi-Auto</td>\n",
              "      <td>9002</td>\n",
              "      <td>Diesel</td>\n",
              "      <td>145.000000</td>\n",
              "      <td>54.3</td>\n",
              "      <td>2.0</td>\n",
              "      <td>23</td>\n",
              "      <td>14487.27868</td>\n",
              "      <td>0.269078</td>\n",
              "      <td>0.050674</td>\n",
              "      <td>Bajo</td>\n",
              "      <td>0</td>\n",
              "      <td>0</td>\n",
              "      <td>1</td>\n",
              "    </tr>\n",
              "    <tr>\n",
              "      <th>14</th>\n",
              "      <td>Kuga</td>\n",
              "      <td>2018</td>\n",
              "      <td>18999</td>\n",
              "      <td>Semi-Auto</td>\n",
              "      <td>8970</td>\n",
              "      <td>Diesel</td>\n",
              "      <td>145.000000</td>\n",
              "      <td>58.9</td>\n",
              "      <td>1.5</td>\n",
              "      <td>25</td>\n",
              "      <td>14435.77980</td>\n",
              "      <td>0.291873</td>\n",
              "      <td>0.050494</td>\n",
              "      <td>Bajo</td>\n",
              "      <td>0</td>\n",
              "      <td>0</td>\n",
              "      <td>1</td>\n",
              "    </tr>\n",
              "  </tbody>\n",
              "</table>\n",
              "</div>\n",
              "      <button class=\"colab-df-convert\" onclick=\"convertToInteractive('df-d4d7e9f5-8e11-4373-bd79-9741dd71d07b')\"\n",
              "              title=\"Convert this dataframe to an interactive table.\"\n",
              "              style=\"display:none;\">\n",
              "        \n",
              "  <svg xmlns=\"http://www.w3.org/2000/svg\" height=\"24px\"viewBox=\"0 0 24 24\"\n",
              "       width=\"24px\">\n",
              "    <path d=\"M0 0h24v24H0V0z\" fill=\"none\"/>\n",
              "    <path d=\"M18.56 5.44l.94 2.06.94-2.06 2.06-.94-2.06-.94-.94-2.06-.94 2.06-2.06.94zm-11 1L8.5 8.5l.94-2.06 2.06-.94-2.06-.94L8.5 2.5l-.94 2.06-2.06.94zm10 10l.94 2.06.94-2.06 2.06-.94-2.06-.94-.94-2.06-.94 2.06-2.06.94z\"/><path d=\"M17.41 7.96l-1.37-1.37c-.4-.4-.92-.59-1.43-.59-.52 0-1.04.2-1.43.59L10.3 9.45l-7.72 7.72c-.78.78-.78 2.05 0 2.83L4 21.41c.39.39.9.59 1.41.59.51 0 1.02-.2 1.41-.59l7.78-7.78 2.81-2.81c.8-.78.8-2.07 0-2.86zM5.41 20L4 18.59l7.72-7.72 1.47 1.35L5.41 20z\"/>\n",
              "  </svg>\n",
              "      </button>\n",
              "      \n",
              "  <style>\n",
              "    .colab-df-container {\n",
              "      display:flex;\n",
              "      flex-wrap:wrap;\n",
              "      gap: 12px;\n",
              "    }\n",
              "\n",
              "    .colab-df-convert {\n",
              "      background-color: #E8F0FE;\n",
              "      border: none;\n",
              "      border-radius: 50%;\n",
              "      cursor: pointer;\n",
              "      display: none;\n",
              "      fill: #1967D2;\n",
              "      height: 32px;\n",
              "      padding: 0 0 0 0;\n",
              "      width: 32px;\n",
              "    }\n",
              "\n",
              "    .colab-df-convert:hover {\n",
              "      background-color: #E2EBFA;\n",
              "      box-shadow: 0px 1px 2px rgba(60, 64, 67, 0.3), 0px 1px 3px 1px rgba(60, 64, 67, 0.15);\n",
              "      fill: #174EA6;\n",
              "    }\n",
              "\n",
              "    [theme=dark] .colab-df-convert {\n",
              "      background-color: #3B4455;\n",
              "      fill: #D2E3FC;\n",
              "    }\n",
              "\n",
              "    [theme=dark] .colab-df-convert:hover {\n",
              "      background-color: #434B5C;\n",
              "      box-shadow: 0px 1px 3px 1px rgba(0, 0, 0, 0.15);\n",
              "      filter: drop-shadow(0px 1px 2px rgba(0, 0, 0, 0.3));\n",
              "      fill: #FFFFFF;\n",
              "    }\n",
              "  </style>\n",
              "\n",
              "      <script>\n",
              "        const buttonEl =\n",
              "          document.querySelector('#df-d4d7e9f5-8e11-4373-bd79-9741dd71d07b button.colab-df-convert');\n",
              "        buttonEl.style.display =\n",
              "          google.colab.kernel.accessAllowed ? 'block' : 'none';\n",
              "\n",
              "        async function convertToInteractive(key) {\n",
              "          const element = document.querySelector('#df-d4d7e9f5-8e11-4373-bd79-9741dd71d07b');\n",
              "          const dataTable =\n",
              "            await google.colab.kernel.invokeFunction('convertToInteractive',\n",
              "                                                     [key], {});\n",
              "          if (!dataTable) return;\n",
              "\n",
              "          const docLinkHtml = 'Like what you see? Visit the ' +\n",
              "            '<a target=\"_blank\" href=https://colab.research.google.com/notebooks/data_table.ipynb>data table notebook</a>'\n",
              "            + ' to learn more about interactive tables.';\n",
              "          element.innerHTML = '';\n",
              "          dataTable['output_type'] = 'display_data';\n",
              "          await google.colab.output.renderOutput(dataTable, element);\n",
              "          const docLink = document.createElement('div');\n",
              "          docLink.innerHTML = docLinkHtml;\n",
              "          element.appendChild(docLink);\n",
              "        }\n",
              "      </script>\n",
              "    </div>\n",
              "  </div>\n",
              "  "
            ]
          },
          "metadata": {},
          "execution_count": 4
        }
      ],
      "source": [
        "df.rename(columns={'mpg':'fuel consumption(mpg)','km/L':'fuel consumption(km/l)'}, inplace=True)\n",
        "#df=df.set_index('model')\n",
        "df.head(15)\n"
      ]
    },
    {
      "cell_type": "markdown",
      "metadata": {
        "id": "jyGmtQoKnjRB"
      },
      "source": [
        "Comprobar que las columnas esten en formato string"
      ]
    },
    {
      "cell_type": "code",
      "execution_count": 5,
      "metadata": {
        "colab": {
          "base_uri": "https://localhost:8080/"
        },
        "id": "hHIskCVrkY9P",
        "outputId": "5f962c34-eff8-4635-ae24-1a13162c8157"
      },
      "outputs": [
        {
          "output_type": "execute_result",
          "data": {
            "text/plain": [
              "True"
            ]
          },
          "metadata": {},
          "execution_count": 5
        }
      ],
      "source": [
        "all(isinstance(column, str) for column in df.columns)"
      ]
    },
    {
      "cell_type": "markdown",
      "metadata": {
        "id": "PgBBVwKMv3m4"
      },
      "source": [
        "# Visualización de datos usando Matplotlib<a id=\"4\"></a>"
      ]
    },
    {
      "cell_type": "code",
      "execution_count": 6,
      "metadata": {
        "colab": {
          "base_uri": "https://localhost:8080/"
        },
        "id": "ctKR8tD3v4UX",
        "outputId": "89863762-7a81-4e79-f841-57ce29ffe188"
      },
      "outputs": [
        {
          "output_type": "stream",
          "name": "stdout",
          "text": [
            "Matplotlib version:  3.2.2\n"
          ]
        }
      ],
      "source": [
        "# se hará uso del despliegue de figuras en línea o dentro de Jupyter Notebook\n",
        "%matplotlib inline\n",
        "\n",
        "mpl.style.use('ggplot')  # opcional: para estilo similar a ggplot\n",
        "\n",
        "# verificar la versión de Matplotlib\n",
        "print('Matplotlib version: ', mpl.__version__)"
      ]
    },
    {
      "cell_type": "markdown",
      "metadata": {
        "id": "7iH6Sr9mnhvi"
      },
      "source": [
        "# Grafico de dispersion"
      ]
    },
    {
      "cell_type": "markdown",
      "metadata": {
        "id": "9lG3zSE-8wOe"
      },
      "source": [
        "Aqui se crea un dataframe utilizando el csv de datos "
      ]
    },
    {
      "cell_type": "code",
      "execution_count": 7,
      "metadata": {
        "colab": {
          "base_uri": "https://localhost:8080/"
        },
        "id": "tb3Y0rsO0vph",
        "outputId": "15de3864-41b4-491f-c7cc-000fe37b7067"
      },
      "outputs": [
        {
          "output_type": "execute_result",
          "data": {
            "text/plain": [
              "model                           object\n",
              "year                             int64\n",
              "price                            int64\n",
              "transmission                    object\n",
              "mileage                          int64\n",
              "fuelType                        object\n",
              "tax                            float64\n",
              "fuel consumption(mpg)          float64\n",
              "engineSize                     float64\n",
              "fuel consumption(km/l)           int64\n",
              "km                             float64\n",
              "km/LNorm                       float64\n",
              "kmNorm                         float64\n",
              "gastos-en-km/L                  object\n",
              "Transmision Automatica           int64\n",
              "Transmision Manual               int64\n",
              "Transmision Semi-Automatica      int64\n",
              "dtype: object"
            ]
          },
          "metadata": {},
          "execution_count": 7
        }
      ],
      "source": [
        "#df = pd.read_csv(\"datosfinalfinal.csv\", skiprows=0, low_memory=False)\n",
        "#dftest.rename(columns={'mpg':'fuel consumption(mpg)'}, inplace=True)\n",
        "df.dtypes"
      ]
    },
    {
      "cell_type": "markdown",
      "source": [
        "Encontramos algun dato que este errado, en este caso el tamaño del motor no podria ser de 0 cc "
      ],
      "metadata": {
        "id": "uFSNC1rGqxxI"
      }
    },
    {
      "cell_type": "code",
      "execution_count": 8,
      "metadata": {
        "colab": {
          "base_uri": "https://localhost:8080/"
        },
        "id": "jNGQ6VqK2op-",
        "outputId": "28b25d34-3204-449e-a6dd-af5a478bb6ba"
      },
      "outputs": [
        {
          "output_type": "execute_result",
          "data": {
            "text/plain": [
              "0.0"
            ]
          },
          "metadata": {},
          "execution_count": 8
        }
      ],
      "source": [
        "df['engineSize'].min()"
      ]
    },
    {
      "cell_type": "code",
      "execution_count": 9,
      "metadata": {
        "colab": {
          "base_uri": "https://localhost:8080/",
          "height": 362
        },
        "id": "4LOhy2qb5fBD",
        "outputId": "20c78352-f63c-4ee5-d551-03aeaea8703e"
      },
      "outputs": [
        {
          "output_type": "execute_result",
          "data": {
            "text/plain": [
              "               year         price        mileage           tax  \\\n",
              "count  17966.000000  17966.000000   17966.000000  17966.000000   \n",
              "mean    2016.866470  12279.534844   23362.608761    113.417932   \n",
              "std        2.050336   4741.343657   19472.054349     61.877253   \n",
              "min     1996.000000    495.000000       1.000000      0.000000   \n",
              "25%     2016.000000   8999.000000    9987.000000     30.000000   \n",
              "50%     2017.000000  11291.000000   18242.500000    145.000000   \n",
              "75%     2018.000000  15299.000000   31060.000000    145.000000   \n",
              "max     2060.000000  54995.000000  177644.000000    580.000000   \n",
              "\n",
              "       fuel consumption(mpg)    engineSize  fuel consumption(km/l)  \\\n",
              "count           17966.000000  17966.000000            17966.000000   \n",
              "mean               57.906980      1.350807               24.151954   \n",
              "std                10.125696      0.432367                4.248823   \n",
              "min                20.800000      0.000000                8.000000   \n",
              "25%                52.300000      1.000000               22.000000   \n",
              "50%                58.900000      1.200000               25.000000   \n",
              "75%                65.700000      1.500000               27.000000   \n",
              "max               201.800000      5.000000               85.000000   \n",
              "\n",
              "                  km      km/LNorm        kmNorm  Transmision Automatica  \\\n",
              "count   17966.000000  17966.000000  17966.000000            17966.000000   \n",
              "mean    37598.380783      0.286952      0.131514                0.075754   \n",
              "std     31337.155946      0.050177      0.109613                0.264612   \n",
              "min         1.609340      0.103072      0.000006                0.000000   \n",
              "25%     16072.478580      0.259167      0.056219                0.000000   \n",
              "50%     29358.384950      0.291873      0.102691                0.000000   \n",
              "75%     49986.100400      0.325570      0.174844                0.000000   \n",
              "max    285889.594960      1.000000      1.000000                1.000000   \n",
              "\n",
              "       Transmision Manual  Transmision Semi-Automatica  \n",
              "count        17966.000000                 17966.000000  \n",
              "mean             0.863743                     0.060503  \n",
              "std              0.343071                     0.238423  \n",
              "min              0.000000                     0.000000  \n",
              "25%              1.000000                     0.000000  \n",
              "50%              1.000000                     0.000000  \n",
              "75%              1.000000                     0.000000  \n",
              "max              1.000000                     1.000000  "
            ],
            "text/html": [
              "\n",
              "  <div id=\"df-a09680d2-5484-4efa-84d8-acd793a582a0\">\n",
              "    <div class=\"colab-df-container\">\n",
              "      <div>\n",
              "<style scoped>\n",
              "    .dataframe tbody tr th:only-of-type {\n",
              "        vertical-align: middle;\n",
              "    }\n",
              "\n",
              "    .dataframe tbody tr th {\n",
              "        vertical-align: top;\n",
              "    }\n",
              "\n",
              "    .dataframe thead th {\n",
              "        text-align: right;\n",
              "    }\n",
              "</style>\n",
              "<table border=\"1\" class=\"dataframe\">\n",
              "  <thead>\n",
              "    <tr style=\"text-align: right;\">\n",
              "      <th></th>\n",
              "      <th>year</th>\n",
              "      <th>price</th>\n",
              "      <th>mileage</th>\n",
              "      <th>tax</th>\n",
              "      <th>fuel consumption(mpg)</th>\n",
              "      <th>engineSize</th>\n",
              "      <th>fuel consumption(km/l)</th>\n",
              "      <th>km</th>\n",
              "      <th>km/LNorm</th>\n",
              "      <th>kmNorm</th>\n",
              "      <th>Transmision Automatica</th>\n",
              "      <th>Transmision Manual</th>\n",
              "      <th>Transmision Semi-Automatica</th>\n",
              "    </tr>\n",
              "  </thead>\n",
              "  <tbody>\n",
              "    <tr>\n",
              "      <th>count</th>\n",
              "      <td>17966.000000</td>\n",
              "      <td>17966.000000</td>\n",
              "      <td>17966.000000</td>\n",
              "      <td>17966.000000</td>\n",
              "      <td>17966.000000</td>\n",
              "      <td>17966.000000</td>\n",
              "      <td>17966.000000</td>\n",
              "      <td>17966.000000</td>\n",
              "      <td>17966.000000</td>\n",
              "      <td>17966.000000</td>\n",
              "      <td>17966.000000</td>\n",
              "      <td>17966.000000</td>\n",
              "      <td>17966.000000</td>\n",
              "    </tr>\n",
              "    <tr>\n",
              "      <th>mean</th>\n",
              "      <td>2016.866470</td>\n",
              "      <td>12279.534844</td>\n",
              "      <td>23362.608761</td>\n",
              "      <td>113.417932</td>\n",
              "      <td>57.906980</td>\n",
              "      <td>1.350807</td>\n",
              "      <td>24.151954</td>\n",
              "      <td>37598.380783</td>\n",
              "      <td>0.286952</td>\n",
              "      <td>0.131514</td>\n",
              "      <td>0.075754</td>\n",
              "      <td>0.863743</td>\n",
              "      <td>0.060503</td>\n",
              "    </tr>\n",
              "    <tr>\n",
              "      <th>std</th>\n",
              "      <td>2.050336</td>\n",
              "      <td>4741.343657</td>\n",
              "      <td>19472.054349</td>\n",
              "      <td>61.877253</td>\n",
              "      <td>10.125696</td>\n",
              "      <td>0.432367</td>\n",
              "      <td>4.248823</td>\n",
              "      <td>31337.155946</td>\n",
              "      <td>0.050177</td>\n",
              "      <td>0.109613</td>\n",
              "      <td>0.264612</td>\n",
              "      <td>0.343071</td>\n",
              "      <td>0.238423</td>\n",
              "    </tr>\n",
              "    <tr>\n",
              "      <th>min</th>\n",
              "      <td>1996.000000</td>\n",
              "      <td>495.000000</td>\n",
              "      <td>1.000000</td>\n",
              "      <td>0.000000</td>\n",
              "      <td>20.800000</td>\n",
              "      <td>0.000000</td>\n",
              "      <td>8.000000</td>\n",
              "      <td>1.609340</td>\n",
              "      <td>0.103072</td>\n",
              "      <td>0.000006</td>\n",
              "      <td>0.000000</td>\n",
              "      <td>0.000000</td>\n",
              "      <td>0.000000</td>\n",
              "    </tr>\n",
              "    <tr>\n",
              "      <th>25%</th>\n",
              "      <td>2016.000000</td>\n",
              "      <td>8999.000000</td>\n",
              "      <td>9987.000000</td>\n",
              "      <td>30.000000</td>\n",
              "      <td>52.300000</td>\n",
              "      <td>1.000000</td>\n",
              "      <td>22.000000</td>\n",
              "      <td>16072.478580</td>\n",
              "      <td>0.259167</td>\n",
              "      <td>0.056219</td>\n",
              "      <td>0.000000</td>\n",
              "      <td>1.000000</td>\n",
              "      <td>0.000000</td>\n",
              "    </tr>\n",
              "    <tr>\n",
              "      <th>50%</th>\n",
              "      <td>2017.000000</td>\n",
              "      <td>11291.000000</td>\n",
              "      <td>18242.500000</td>\n",
              "      <td>145.000000</td>\n",
              "      <td>58.900000</td>\n",
              "      <td>1.200000</td>\n",
              "      <td>25.000000</td>\n",
              "      <td>29358.384950</td>\n",
              "      <td>0.291873</td>\n",
              "      <td>0.102691</td>\n",
              "      <td>0.000000</td>\n",
              "      <td>1.000000</td>\n",
              "      <td>0.000000</td>\n",
              "    </tr>\n",
              "    <tr>\n",
              "      <th>75%</th>\n",
              "      <td>2018.000000</td>\n",
              "      <td>15299.000000</td>\n",
              "      <td>31060.000000</td>\n",
              "      <td>145.000000</td>\n",
              "      <td>65.700000</td>\n",
              "      <td>1.500000</td>\n",
              "      <td>27.000000</td>\n",
              "      <td>49986.100400</td>\n",
              "      <td>0.325570</td>\n",
              "      <td>0.174844</td>\n",
              "      <td>0.000000</td>\n",
              "      <td>1.000000</td>\n",
              "      <td>0.000000</td>\n",
              "    </tr>\n",
              "    <tr>\n",
              "      <th>max</th>\n",
              "      <td>2060.000000</td>\n",
              "      <td>54995.000000</td>\n",
              "      <td>177644.000000</td>\n",
              "      <td>580.000000</td>\n",
              "      <td>201.800000</td>\n",
              "      <td>5.000000</td>\n",
              "      <td>85.000000</td>\n",
              "      <td>285889.594960</td>\n",
              "      <td>1.000000</td>\n",
              "      <td>1.000000</td>\n",
              "      <td>1.000000</td>\n",
              "      <td>1.000000</td>\n",
              "      <td>1.000000</td>\n",
              "    </tr>\n",
              "  </tbody>\n",
              "</table>\n",
              "</div>\n",
              "      <button class=\"colab-df-convert\" onclick=\"convertToInteractive('df-a09680d2-5484-4efa-84d8-acd793a582a0')\"\n",
              "              title=\"Convert this dataframe to an interactive table.\"\n",
              "              style=\"display:none;\">\n",
              "        \n",
              "  <svg xmlns=\"http://www.w3.org/2000/svg\" height=\"24px\"viewBox=\"0 0 24 24\"\n",
              "       width=\"24px\">\n",
              "    <path d=\"M0 0h24v24H0V0z\" fill=\"none\"/>\n",
              "    <path d=\"M18.56 5.44l.94 2.06.94-2.06 2.06-.94-2.06-.94-.94-2.06-.94 2.06-2.06.94zm-11 1L8.5 8.5l.94-2.06 2.06-.94-2.06-.94L8.5 2.5l-.94 2.06-2.06.94zm10 10l.94 2.06.94-2.06 2.06-.94-2.06-.94-.94-2.06-.94 2.06-2.06.94z\"/><path d=\"M17.41 7.96l-1.37-1.37c-.4-.4-.92-.59-1.43-.59-.52 0-1.04.2-1.43.59L10.3 9.45l-7.72 7.72c-.78.78-.78 2.05 0 2.83L4 21.41c.39.39.9.59 1.41.59.51 0 1.02-.2 1.41-.59l7.78-7.78 2.81-2.81c.8-.78.8-2.07 0-2.86zM5.41 20L4 18.59l7.72-7.72 1.47 1.35L5.41 20z\"/>\n",
              "  </svg>\n",
              "      </button>\n",
              "      \n",
              "  <style>\n",
              "    .colab-df-container {\n",
              "      display:flex;\n",
              "      flex-wrap:wrap;\n",
              "      gap: 12px;\n",
              "    }\n",
              "\n",
              "    .colab-df-convert {\n",
              "      background-color: #E8F0FE;\n",
              "      border: none;\n",
              "      border-radius: 50%;\n",
              "      cursor: pointer;\n",
              "      display: none;\n",
              "      fill: #1967D2;\n",
              "      height: 32px;\n",
              "      padding: 0 0 0 0;\n",
              "      width: 32px;\n",
              "    }\n",
              "\n",
              "    .colab-df-convert:hover {\n",
              "      background-color: #E2EBFA;\n",
              "      box-shadow: 0px 1px 2px rgba(60, 64, 67, 0.3), 0px 1px 3px 1px rgba(60, 64, 67, 0.15);\n",
              "      fill: #174EA6;\n",
              "    }\n",
              "\n",
              "    [theme=dark] .colab-df-convert {\n",
              "      background-color: #3B4455;\n",
              "      fill: #D2E3FC;\n",
              "    }\n",
              "\n",
              "    [theme=dark] .colab-df-convert:hover {\n",
              "      background-color: #434B5C;\n",
              "      box-shadow: 0px 1px 3px 1px rgba(0, 0, 0, 0.15);\n",
              "      filter: drop-shadow(0px 1px 2px rgba(0, 0, 0, 0.3));\n",
              "      fill: #FFFFFF;\n",
              "    }\n",
              "  </style>\n",
              "\n",
              "      <script>\n",
              "        const buttonEl =\n",
              "          document.querySelector('#df-a09680d2-5484-4efa-84d8-acd793a582a0 button.colab-df-convert');\n",
              "        buttonEl.style.display =\n",
              "          google.colab.kernel.accessAllowed ? 'block' : 'none';\n",
              "\n",
              "        async function convertToInteractive(key) {\n",
              "          const element = document.querySelector('#df-a09680d2-5484-4efa-84d8-acd793a582a0');\n",
              "          const dataTable =\n",
              "            await google.colab.kernel.invokeFunction('convertToInteractive',\n",
              "                                                     [key], {});\n",
              "          if (!dataTable) return;\n",
              "\n",
              "          const docLinkHtml = 'Like what you see? Visit the ' +\n",
              "            '<a target=\"_blank\" href=https://colab.research.google.com/notebooks/data_table.ipynb>data table notebook</a>'\n",
              "            + ' to learn more about interactive tables.';\n",
              "          element.innerHTML = '';\n",
              "          dataTable['output_type'] = 'display_data';\n",
              "          await google.colab.output.renderOutput(dataTable, element);\n",
              "          const docLink = document.createElement('div');\n",
              "          docLink.innerHTML = docLinkHtml;\n",
              "          element.appendChild(docLink);\n",
              "        }\n",
              "      </script>\n",
              "    </div>\n",
              "  </div>\n",
              "  "
            ]
          },
          "metadata": {},
          "execution_count": 9
        }
      ],
      "source": [
        "df.describe()"
      ]
    },
    {
      "cell_type": "markdown",
      "source": [
        "Revisamos si existe algun dato nulo en el dataframe"
      ],
      "metadata": {
        "id": "wpyWgRleq-oC"
      }
    },
    {
      "cell_type": "code",
      "execution_count": 11,
      "metadata": {
        "colab": {
          "base_uri": "https://localhost:8080/"
        },
        "id": "RVQeJn4B6lma",
        "outputId": "688e4a70-5c8a-40d6-92cc-e192b2431428"
      },
      "outputs": [
        {
          "output_type": "execute_result",
          "data": {
            "text/plain": [
              "model                          0\n",
              "year                           0\n",
              "price                          0\n",
              "transmission                   0\n",
              "mileage                        0\n",
              "fuelType                       0\n",
              "tax                            0\n",
              "fuel consumption(mpg)          0\n",
              "engineSize                     0\n",
              "fuel consumption(km/l)         0\n",
              "km                             0\n",
              "km/LNorm                       0\n",
              "kmNorm                         0\n",
              "gastos-en-km/L                 0\n",
              "Transmision Automatica         0\n",
              "Transmision Manual             0\n",
              "Transmision Semi-Automatica    0\n",
              "dtype: int64"
            ]
          },
          "metadata": {},
          "execution_count": 11
        }
      ],
      "source": [
        "df.isnull().sum()"
      ]
    },
    {
      "cell_type": "markdown",
      "source": [
        "Reemplazamos los valores 0 en el campo del tamaño del motor para que se reemplace por el promedio de los datos del motor asi los datos serian mejor representados dentro del dataframe"
      ],
      "metadata": {
        "id": "BTjNckKarCeS"
      }
    },
    {
      "cell_type": "code",
      "execution_count": 12,
      "metadata": {
        "colab": {
          "base_uri": "https://localhost:8080/"
        },
        "id": "AMmLGITh7rHp",
        "outputId": "e331650a-4f4a-49d8-a981-2129ca53ee51"
      },
      "outputs": [
        {
          "output_type": "stream",
          "name": "stdout",
          "text": [
            "El promedio de la columna engineSize es: 1.3546525258163575\n"
          ]
        }
      ],
      "source": [
        "df.replace(0.0, np.nan, inplace = True)\n",
        "engineSize_prom= df[\"engineSize\"].astype(\"float\").mean(axis=0)\n",
        "df[\"engineSize\"].replace(np.nan, engineSize_prom, inplace=True)\n",
        "print(\"El promedio de la columna engineSize es:\", engineSize_prom)"
      ]
    },
    {
      "cell_type": "markdown",
      "source": [
        "Se crea el grafico de dispersion de engineSize v/s km/L (consumo de combustible medido en kilometros por litro)"
      ],
      "metadata": {
        "id": "xjQ01n7orWDE"
      }
    },
    {
      "cell_type": "code",
      "execution_count": 13,
      "metadata": {
        "colab": {
          "base_uri": "https://localhost:8080/",
          "height": 626
        },
        "id": "gUBloBWyaqrO",
        "outputId": "a1a062f2-c1e6-4b29-8b0c-534fbdc26196"
      },
      "outputs": [
        {
          "output_type": "display_data",
          "data": {
            "text/plain": [
              "<Figure size 1152x720 with 1 Axes>"
            ],
            "image/png": "[encoded data removed]"
          },
          "metadata": {}
        }
      ],
      "source": [
        "\n",
        "df.plot(kind='scatter', x='engineSize', y='fuel consumption(km/l)', figsize=(16, 10), color='darkblue', alpha=0.3)\n",
        "plt.title('Tamaño del motor vs consumo de combustible')\n",
        "plt.xlabel('Tamaño del motor (L)')\n",
        "plt.ylabel('km/L')\n",
        "plt.annotate('El mejor consumo de combustible \\n proviene de vehiculos hibridos', xy=(2.53, 85),  xycoords='data',\n",
        "            xytext=(0.7, 0.98), textcoords='axes fraction',\n",
        "            arrowprops=dict(facecolor='black', shrink=0.03),\n",
        "            horizontalalignment='right', verticalalignment='top')\n",
        "\n",
        "#Guarda imagen en png\n",
        "plt.savefig(\"Dispersion.png\")\n",
        "plt.show()"
      ]
    },
    {
      "cell_type": "markdown",
      "source": [
        "Se puede apreciar que algunos vehículos que son híbridos tienen un consumo de combustible sobresaliente. Esto tiene sentido, puesto que al ser apoyados por un motor eléctrico, su consumo de combustible se vería reducido de una gran manera. Además, los puntos más transparentes permiten visualizar a los vehículos que se encuentran una menor cantidad de veces en nuestro dataframe."
      ],
      "metadata": {
        "id": "mszLEE7mrksQ"
      }
    },
    {
      "cell_type": "markdown",
      "source": [
        "#Gráfico de Palabras"
      ],
      "metadata": {
        "id": "ci_63k3n8Ee3"
      }
    },
    {
      "cell_type": "markdown",
      "source": [
        "Se procede a instalar wordcloud para crear la nube de palabras"
      ],
      "metadata": {
        "id": "iytVNaa4sgw2"
      }
    },
    {
      "cell_type": "code",
      "execution_count": 14,
      "metadata": {
        "colab": {
          "base_uri": "https://localhost:8080/"
        },
        "id": "xKwV16x2-BFT",
        "outputId": "8f2869f0-9fd9-405c-9b9e-23c26d78797c"
      },
      "outputs": [
        {
          "output_type": "stream",
          "name": "stdout",
          "text": [
            "Looking in indexes: https://pypi.org/simple, https://us-python.pkg.dev/colab-wheels/public/simple/\n",
            "Requirement already satisfied: wordcloud in /usr/local/lib/python3.7/dist-packages (1.5.0)\n",
            "Requirement already satisfied: pillow in /usr/local/lib/python3.7/dist-packages (from wordcloud) (7.1.2)\n",
            "Requirement already satisfied: numpy>=1.6.1 in /usr/local/lib/python3.7/dist-packages (from wordcloud) (1.21.6)\n",
            "Looking in indexes: https://pypi.org/simple, https://us-python.pkg.dev/colab-wheels/public/simple/\n",
            "Requirement already satisfied: NLTK in /usr/local/lib/python3.7/dist-packages (3.2.5)\n",
            "Requirement already satisfied: six in /usr/local/lib/python3.7/dist-packages (from NLTK) (1.15.0)\n"
          ]
        }
      ],
      "source": [
        "# instalar wordcloud\n",
        "!pip3 install wordcloud\n",
        "\n",
        "# instalar NLTK\n",
        "!pip3 install NLTK"
      ]
    },
    {
      "cell_type": "markdown",
      "source": [
        "Se importan las bibliotecas necesarias"
      ],
      "metadata": {
        "id": "ShgAKXYvsuCm"
      }
    },
    {
      "cell_type": "code",
      "execution_count": 15,
      "metadata": {
        "colab": {
          "base_uri": "https://localhost:8080/"
        },
        "id": "9FQqMDzy_f4f",
        "outputId": "60641c8c-fa48-48d2-ab89-87df7d019453"
      },
      "outputs": [
        {
          "output_type": "stream",
          "name": "stdout",
          "text": [
            "[nltk_data] Downloading package stopwords to /root/nltk_data...\n",
            "[nltk_data]   Unzipping corpora/stopwords.zip.\n"
          ]
        }
      ],
      "source": [
        "# importar los paquetes y su conjunto de stop words\n",
        "import nltk\n",
        "nltk.download('stopwords')\n",
        "from wordcloud import WordCloud\n",
        "from nltk.corpus import stopwords"
      ]
    },
    {
      "cell_type": "code",
      "execution_count": 16,
      "metadata": {
        "colab": {
          "base_uri": "https://localhost:8080/"
        },
        "id": "BHIIqLmDxBYb",
        "outputId": "72bea7f1-78dd-4e9a-b288-15d4e7029283"
      },
      "outputs": [
        {
          "output_type": "stream",
          "name": "stdout",
          "text": [
            "<class 'pandas.core.frame.DataFrame'>\n",
            "RangeIndex: 17966 entries, 0 to 17965\n",
            "Data columns (total 17 columns):\n",
            " #   Column                       Non-Null Count  Dtype  \n",
            "---  ------                       --------------  -----  \n",
            " 0   model                        17966 non-null  object \n",
            " 1   year                         17966 non-null  int64  \n",
            " 2   price                        17966 non-null  int64  \n",
            " 3   transmission                 17966 non-null  object \n",
            " 4   mileage                      17966 non-null  int64  \n",
            " 5   fuelType                     17966 non-null  object \n",
            " 6   tax                          15829 non-null  float64\n",
            " 7   fuel consumption(mpg)        17966 non-null  float64\n",
            " 8   engineSize                   17966 non-null  float64\n",
            " 9   fuel consumption(km/l)       17966 non-null  int64  \n",
            " 10  km                           17966 non-null  float64\n",
            " 11  km/LNorm                     17966 non-null  float64\n",
            " 12  kmNorm                       17966 non-null  float64\n",
            " 13  gastos-en-km/L               17966 non-null  object \n",
            " 14  Transmision Automatica       1361 non-null   float64\n",
            " 15  Transmision Manual           15518 non-null  float64\n",
            " 16  Transmision Semi-Automatica  1087 non-null   float64\n",
            "dtypes: float64(9), int64(4), object(4)\n",
            "memory usage: 2.3+ MB\n"
          ]
        }
      ],
      "source": [
        "df.info()"
      ]
    },
    {
      "cell_type": "markdown",
      "source": [
        "Se agrega agregan los datos de la columna 'model' del DataFrame a una lista, luego se agrega a un String con la totalidad de los datos de la columna 'model'.  \n",
        "Esto es util por que permite entregar de mejor manera los datos a la nube de palabras."
      ],
      "metadata": {
        "id": "TNHIU_IWtFbB"
      }
    },
    {
      "cell_type": "code",
      "execution_count": 17,
      "metadata": {
        "colab": {
          "base_uri": "https://localhost:8080/",
          "height": 105
        },
        "id": "FsmJD42YD0du",
        "outputId": "9aeeb6b9-b663-451b-fef0-ffd9166bd94f"
      },
      "outputs": [
        {
          "output_type": "execute_result",
          "data": {
            "text/plain": [
              "' Fiesta  Focus  Focus  Fiesta  Fiesta  Fiesta  Puma  Fiesta  Kuga  Focus  Fiesta  EcoSport  Fiesta  Kuga  Kuga  Kuga  Kuga  Kuga  Fiesta  Fiesta  Fiesta  Fiesta  Fiesta  Kuga  Fiesta  Focus  C-MAX  Fiesta  Fiesta  Fiesta  Fiesta  Fiesta  Focus  Fiesta  Kuga  Mondeo  EcoSport  Kuga  Fiesta  Ka+  Fiesta  Fiesta  Kuga  Fiesta  Fiesta  Kuga  Focus  Fiesta  Focus  C-MAX  Fiesta  Ka+  Ka+  Fiesta  Focus  Tourneo Custom  S-MAX  Focus  Fiesta  Kuga  Kuga  Kuga  B-MAX  Focus  S-MAX  Fiesta  Kuga  Kuga  EcoSport  Kuga  Fiesta  Focus  Kuga  Fiesta  Fiesta  Kuga  Fiesta  Focus  Fiesta  Edge  Fiesta  Fiesta  Focus  Fiesta  Kuga  Fiesta  Fiesta  Fiesta  Fiesta  Fiesta  Focus  Focus  Fiesta  Fiesta  Tourneo Connect  Fiesta  Fiesta  Focus  Focus  Fiesta  Fiesta  Kuga  Kuga  Kuga  Kuga  EcoSport  Tourneo Connect  Focus  Focus  Focus  C-MAX  Kuga  Fiesta  Focus  Kuga  Fiesta  Tourneo Connect  Kuga  EcoSport  Fiesta  Fiesta  Ka+  Puma  Kuga  Fiesta  Kuga  Fiesta  Ka+  EcoSport  Fiesta  Focus  Focus  Focus  C-MAX  Tourneo Custom  C-MAX  Focus  Kuga  Mondeo  Grand C-MAX  C-MAX  Focus  EcoSport  Tourneo Connect  Fiesta  Focus  Kuga  Focus  B-MAX  Fiesta  Fiesta  Fiesta  Focus  Kuga  Fiesta  Focus  Kuga  Focus  Kuga  Focus  EcoSport  Focus  Kuga  Fiesta  Fiesta  Fiesta  Focus  Mondeo  Focus  EcoSport  Focus  EcoSport  Focus  Kuga  Focus  Fiesta  B-MAX  Focus  Fiesta  Fiesta  Focus  Fiesta  Focus  Focus  Fiesta  Kuga  Kuga  Focus  Fiesta  Fiesta  Focus  Focus  Fiesta  Fiesta  Ka+  EcoSport  Fiesta  Kuga  Fiesta  Ka+  Kuga  Focus  EcoSport  C-MAX  Fiesta  Focus  Fiesta  Focus  Fiesta  Fiesta  Fiesta  Focus  Kuga  Kuga  EcoSport  B-MAX  C-MAX  EcoSport  Fiesta  Kuga  Focus  Fiesta  KA  Focus  Fiesta  Kuga  Fiesta  Grand C-MAX  Focus  Fiesta  S-MAX  EcoSport  Focus  EcoSport  Fiesta  Focus  Focus  Kuga  C-MAX  Focus  Focus  Focus  Fiesta  EcoSport  Fiesta  Focus  EcoSport  B-MAX  Focus  Fiesta  Fiesta  Kuga  Fiesta  Grand C-MAX  Fiesta  C-MAX  Focus  EcoSport  EcoSport  Fiesta  Galaxy  C-MAX  Fiesta  Focus  Focus  Focus  Fiesta  Kuga  Focus  EcoSport  EcoSport  EcoSport  Fiesta  Fiesta  Kuga  Focus  Kuga  Kuga  Fiesta  Fiesta  Focus  EcoSport  EcoSport  EcoSport  EcoSport  Kuga  Galaxy  Kuga  Fiesta  EcoSport  C-MAX  C-MAX  C-MAX  C-MAX  C-MAX  Focus  Fiesta  Fiesta  Fiesta  Kuga  Focus  Focus  Mustang  Kuga  Focus  Focus  Fiesta  Focus  Focus  Grand Tourneo Connect  Kuga  Focus  Focus  EcoSport  Kuga  Fiesta  Focus  Focus  Mondeo  Kuga  Focus  Fiesta  Mondeo  Fiesta  Focus  Fiesta  Fiesta  Fiesta  C-MAX  EcoSport  Kuga  Fiesta  Focus  Fiesta  Fiesta  Kuga  Fiesta  C-MAX  Edge  Mustang  Fiesta  Fiesta  Fiesta  Kuga  Focus  Fiesta  Kuga  Focus  Focus  Focus  EcoSport  C-MAX  EcoSport  Mustang  Mustang  Focus  Grand Tourneo Connect  Focus  EcoSport  S-MAX  S-MAX  Fiesta  Focus  Kuga  Mustang  Kuga  Edge  Focus  Grand Tourneo Connect  B-MAX  Focus  Focus  Kuga  Focus  EcoSport  Fiesta  Edge  Fiesta  EcoSport  Fiesta  Kuga  Fiesta  Kuga  Fiesta  Ka+  Kuga  Focus  Mustang  Fiesta  Fiesta  Focus  Fiesta  Fiesta  Fiesta  Kuga  Fiesta  Kuga  Kuga  Kuga  Focus  EcoSport  Fiesta  B-MAX  Mondeo  Ka+  Focus  Focus  Kuga  Kuga  C-MAX  Kuga  Focus  Fiesta  EcoSport  Focus  EcoSport  Ka+  Focus  EcoSport  Focus  Kuga  Fiesta  Fiesta  Fiesta  Fiesta  Focus  Fiesta  Focus  Fiesta  Focus  Focus  Kuga  Fiesta  Fiesta  EcoSport  Kuga  Kuga  Kuga  Kuga  Focus  Fiesta  EcoSport  Fiesta  Fiesta  Kuga  Focus  C-MAX  Grand C-MAX  Kuga  Fiesta  Focus  Ka+  Focus  Focus  B-MAX  Kuga  Kuga  C-MAX  Fiesta  Kuga  Kuga  Fiesta  C-MAX  Focus  EcoSport  Fiesta  Kuga  Grand C-MAX  Galaxy  B-MAX  Kuga  Fiesta  C-MAX  C-MAX  Kuga  Kuga  Focus  B-MAX  Focus  Kuga  S-MAX  EcoSport  Edge  C-MAX  Fiesta  Fiesta  Focus  Focus  Focus  Fiesta  C-MAX  Focus  Fiesta  S-MAX  Fiesta  C-MAX  Focus  Focus  Focus  Fiesta  Kuga  Fiesta  Focus  Fiesta  Focus  Kuga  Fiesta  Mondeo  Tourneo Custom  Tourneo Custom  EcoSport  Focus  Grand Tourneo Connect  Focus  Fiesta  Focus  Ka+  Focus  Focus  Focus  Focus  Focus  Fiesta  Grand C-MAX  Focus  Focus  Focus  Ka+  Ka+  Ka+  Fiesta  B-MAX  EcoSport  Focus  Focus  Focus  Kuga  Focus  Fiesta  Fiesta  Focus  B-MAX  Kuga  EcoSport  Fiesta  EcoSport  Fiesta  Fiesta  Fiesta  Fiesta  Kuga  Fiesta  Focus  S-MAX  Fiesta  Fiesta  Grand Tourneo Connect  Fiesta  Kuga  EcoSport  Fiesta  Kuga  Kuga  Focus  Fiesta  Fiesta  Fiesta  Focus  Fiesta  Fiesta  Focus  Fiesta  Focus  C-MAX  Kuga  Focus  Fiesta  Focus  Fiesta  Focus  Fiesta  Kuga  C-MAX  C-MAX  Kuga  Grand C-MAX  Kuga  Focus  KA  Fiesta  Fiesta  Focus  Kuga  B-MAX  Fiesta  Tourneo Connect  Focus  Grand C-MAX  EcoSport  Focus  Kuga  Kuga  Fiesta  Fiesta  Focus  EcoSport  Kuga  Focus  Kuga  Grand C-MAX  Kuga  Kuga  Fiesta  Fiesta  Fiesta  Fiesta  Focus  Focus  Focus  Fiesta  EcoSport  Mondeo  Fiesta  Fiesta  EcoSport  Fiesta  Kuga  Fiesta  Focus  Focus  Fiesta  Fiesta  Kuga  Fiesta  Focus  Focus  Focus  Focus  Focus  Focus  Ka+  Focus  EcoSport  Fiesta  Kuga  B-MAX  Focus  KA  Focus  Fiesta  Focus  Kuga  Kuga  Kuga  Edge  Kuga  Focus  Focus  Fiesta  Fiesta  Fiesta  Focus  Grand C-MAX  Fiesta  Focus  Focus  Focus  C-MAX  Fiesta  Fiesta  Kuga  Focus  EcoSport  Fiesta  Fiesta  Kuga  Focus  Fiesta  C-MAX  Fiesta  Focus  Fiesta  Fiesta  B-MAX  EcoSport  Focus  C-MAX  Fiesta  Fiesta  C-MAX  Focus  Focus  C-MAX  Fiesta  Focus  Focus  Kuga  Focus  Kuga  Focus  Fiesta  Grand C-MAX  Focus  Fiesta  Focus  Fiesta  Fiesta  Focus  Kuga  Mondeo  Focus  Focus  Fiesta  Focus  Fiesta  Focus  Fiesta  KA  Focus  Focus  Focus  Fiesta  Focus  Fiesta  Fiesta  Focus  Kuga  Kuga  Fiesta  Focus  Focus  Focus  Fiesta  EcoSport  Kuga  Focus  C-MAX  Fiesta  Fiesta  Focus  Fiesta  Mustang  Focus  Focus  Fiesta  Focus  Grand Tourneo Connect  Kuga  Grand C-MAX  Fiesta  Fiesta  Focus  Ka+  Fiesta  Grand C-MAX  Fiesta  Fiesta  Focus  Fiesta  Fiesta  Focus  Fiesta  Mondeo  Kuga  EcoSport  Fiesta  Focus  Fiesta  Ka+  Fiesta  Mondeo  Fiesta  EcoSport  Focus  Focus  Focus  Fiesta  Focus  Focus  Focus  Fiesta  EcoSport  B-MAX  Fiesta  Focus  Fiesta  Fiesta  Focus  Focus  Fiesta  Fiesta  Fiesta  Kuga  Fiesta  Fiesta  Fiesta  Focus  Fiesta  Fiesta  Grand C-MAX  Fiesta  Focus  Focus  Focus  Fiesta  Kuga  Focus  Fiesta  Fiesta  Focus  Focus  Fiesta  Focus  Focus  Focus  Kuga  Fiesta  Focus  Focus  Fiesta  Fiesta  Focus  Fiesta  Fiesta  Fiesta  Fiesta  Focus  Focus  Fiesta  Fiesta  Fiesta  S-MAX  Kuga  EcoSport  Fiesta  Fiesta  Fiesta  Fiesta  Fiesta  Fiesta  Focus  Focus  Fiesta  Kuga  Fiesta  Kuga  Kuga  C-MAX  Focus  Fiesta  Kuga  Ka+  Fiesta  EcoSport  Fiesta  EcoSport  Fiesta  Fiesta  Fiesta  Ka+  Kuga  Focus  Fiesta  Kuga  C-MAX  Mondeo  Fiesta  Kuga  Fiesta  Ka+  Kuga  Focus  Fiesta  Focus  EcoSport  Fiesta  Fiesta  Fiesta  Ka+  Focus  Focus  EcoSport  Focus  Kuga  Fiesta  Fiesta  Kuga  Kuga  Kuga  Fiesta  Ka+  Fiesta  Fiesta  Ka+  Focus  EcoSport  Fiesta  Focus  Grand C-MAX  Fiesta  Mondeo  Kuga  Focus  Puma  Fiesta  Focus  B-MAX  Focus  Focus  Fiesta  Focus  Fiesta  Fiesta  Fiesta  Focus  Ka+  Fiesta  Fiesta  Focus  Fiesta  Kuga  Focus  Fiesta  Fiesta  EcoSport  Kuga  Fiesta  Focus  Focus  Focus  Focus  Fiesta  Focus  Fiesta  Fiesta  Fiesta  Focus  Ka+  Focus  Fiesta  Ka+  Focus  Fiesta  Kuga  Fiesta  EcoSport  Fiesta  Focus  Kuga  Kuga  Kuga  EcoSport  Focus  Kuga  Kuga  Fiesta  Focus  Focus  Focus  Ka+  Fiesta  Fiesta  Focus  Fiesta  Fiesta  Kuga  Fiesta  Ka+  Focus  Focus  Focus  Fiesta  Fiesta  Focus  Kuga  Focus  Focus  Focus  EcoSport  Fiesta  Fiesta  EcoSport  Focus  Focus  Focus  Kuga  Focus  Fiesta  Focus  Kuga  Kuga  B-MAX  Focus  Fiesta  KA  Focus  Focus  Fiesta  Fiesta  Fiesta  Fiesta  Focus  Focus  Fiesta  Ka+  KA  Fiesta  EcoSport  Focus  Focus  Focus  Fiesta  Fiesta  Fiesta  Fiesta  Fiesta  Fiesta  Fiesta  Kuga  Fiesta  Fiesta  EcoSport  Focus  B-MAX  Fiesta  Fiesta  Kuga  B-MAX  Focus  Focus  Kuga  Fiesta  Kuga  S-MAX  Galaxy  EcoSport  Kuga  S-MAX  C-MAX  Focus  Kuga  Kuga  Fiesta  Fiesta  Fiesta  Kuga  Focus  C-MAX  Grand C-MAX  S-MAX  Focus  Grand Tourneo Connect  Grand C-MAX  Focus  Fiesta  Tourneo Custom  Fiesta  Fiesta  Focus  Mondeo  Fiesta  C-MAX  Kuga  Focus  Ka+  Ka+  Ka+  Fiesta  C-MAX  Kuga  Mondeo  Focus  Fiesta  Kuga  Fiesta  Focus  Fiesta  Fiesta  Fiesta  Galaxy  Fiesta  Ka+  Focus  Ka+  KA  C-MAX  Fiesta  Focus  Mondeo  Ka+  Focus  Focus  Fiesta  C-MAX  Fiesta  Fiesta  Focus  Tourneo Custom  Focus  Focus  Fiesta  Fiesta  Mondeo  EcoSport  Focus  Fiesta  Focus  Focus  Fiesta  Fiesta  Fiesta  Focus  Mondeo  C-MAX  C-MAX  Grand C-MAX  Fiesta  Kuga  Tourneo Custom  Focus  Fiesta  Kuga  Fiesta  Kuga  Kuga  Focus  Focus  Focus  C-MAX  Fiesta  Fiesta  Fiesta  Fiesta  Focus  Focus  Fiesta  EcoSport  Focus  Fiesta  Focus  Fiesta  Puma  Kuga  Ka+  EcoSport  Fiesta  Fiesta  Ka+  Fiesta  Fiesta  Fiesta  Fiesta  Fiesta  Grand C-MAX  Focus  Fiesta  Focus  Grand Tourneo Connect  Focus  Fiesta  EcoSport  Ka+  Puma  Fiesta  Fiesta  Fiesta  Fiesta  Fiesta  EcoSport  Ka+  Focus  Focus  EcoSport  EcoSport  EcoSport  Ka+  Fiesta  Fiesta  Fiesta  Fiesta  Focus  Focus  Focus  Fiesta  Focus  Focus  Fiesta  Focus  Fiesta  Fiesta  Focus  B-MAX  Kuga  Mondeo  Mondeo  EcoSport  Fiesta  Fiesta  Focus  Fiesta  Focus  Fiesta  Fiesta  Kuga  Kuga  Kuga  EcoSport  Fiesta  Fiesta  Focus  Focus  Fiesta  B-MAX  C-MAX  Fiesta  Focus  Kuga  Fiesta  Fiesta  Focus  Edge  Fiesta  C-MAX  Focus  Focus  Focus  Focus  Fiesta  Ka+  Focus  Fiesta  Fiesta  Fiesta  Fiesta  Mondeo  Fiesta  Kuga  Galaxy  Fiesta  C-MAX  Mondeo  Fiesta  B-MAX  Focus  C-MAX  EcoSport  Focus  Focus  Focus  Fiesta  Focus  Fiesta  EcoSport  Focus  Fiesta  Focus  Kuga  Focus  Fiesta  Fiesta  Fiesta  Mondeo  EcoSport  Fiesta  Fiesta  Kuga  Focus  Focus  Focus  Focus  Kuga  Fiesta  Fiesta  Fiesta  Focus  Focus  Kuga  Fiesta  C-MAX  Fiesta  Fiesta  Focus  Focus  Fiesta  Focus  Focus  Fiesta  Fiesta  Focus  Focus  Focus  Edge  Mondeo  C-MAX  Fiesta  Focus  Ka+  Focus  Fiesta  EcoSport  Focus  Fiesta  C-MAX  Kuga  Focus  Kuga  Ka+  Focus  Focus  Focus  Fiesta  Focus  Focus  Edge  Fiesta  Focus  Fiesta  Focus  Fiesta  Focus  Focus  Focus  Focus  Focus  Fiesta  Fiesta  EcoSport  Kuga  Edge  Fiesta  Focus  Ka+  Focus  Fiesta  Fiesta  Fiesta  Kuga  Focus  Ka+  EcoSport  Ka+  Fiesta  Focus  Tourneo Connect  Fiesta  Kuga  Focus  Ka+  Puma  Focus  Kuga  Ka+  Fiesta  Mondeo  Tourneo Custom  Focus  Focus  Tourneo Custom  Tourneo Custom  Fiesta  Fiesta  Focus  Focus  Focus  Kuga  Focus  Galaxy  S-MAX  Fiesta  C-MAX  Focus  Fiesta  Fiesta  Fiesta  Focus  Fiesta  Focus  Ka+  B-MAX  Fiesta  Focus  Focus  Focus  Focus  Fiesta  Kuga  Fiesta  Kuga  Fiesta  Puma  Fiesta  EcoSport  Focus  Kuga  EcoSport  Fiesta  Fiesta  Edge  Focus  Fiesta  Tourneo Custom  Focus  Fiesta  Focus  Fiesta  Ka+  Kuga  Focus  Focus  Focus  Fiesta  Fiesta  Fiesta  Fiesta  Fiesta  Mondeo  Fiesta  Focus  Fiesta  KA  Focus  Fiesta  Focus  Fiesta  Fiesta  EcoSport  Kuga  Fiesta  EcoSport  Focus  Kuga  EcoSport  Fiesta  Fiesta  Fiesta  Focus  Focus  Focus  Fiesta  Kuga  Focus  Fiesta  C-MAX  Fiesta  Focus  Fiesta  Fiesta  Focus  Fiesta  Kuga  Fiesta  Fiesta  Fiesta  Focus  Fiesta  Ka+  Focus  Ka+  Focus  B-MAX  Kuga  Focus  Fiesta  B-MAX  Focus  Focus  Kuga  Fiesta  Fiesta  Focus  KA  Fiesta  Fiesta  Fiesta  Ka+  Fiesta  Focus  Kuga  Focus  Focus  Fiesta  EcoSport  EcoSport  Mondeo  Kuga  Mondeo  Focus  Fiesta  Focus  Focus  Focus  Focus  Ka+  C-MAX  Focus  Fiesta  Fiesta  Fiesta  Fiesta  Fiesta  Fiesta  C-MAX  Kuga  Fiesta  Kuga  Fiesta  Kuga  Fiesta  Fiesta  Fiesta  Fiesta  Fiesta  Kuga  Fiesta  EcoSport  Fiesta  Puma  Fiesta  EcoSport  Fiesta  Focus  Fiesta  Focus  Kuga  Fiesta  Focus  Focus  Fiesta  Focus  Fiesta  Fiesta  Kuga  Grand C-MAX  Kuga  Grand C-MAX  EcoSport  C-MAX  Focus  Focus  Focus  Fiesta  Fiesta  C-MAX  C-MAX  Focus  Ka+  Focus  Ka+  Fiesta  EcoSport  Fiesta  Focus  Fiesta  Kuga  C-MAX  Fiesta  Fiesta  Ka+  Focus  Fiesta  Fiesta  Focus  Fiesta  Fiesta  Fiesta  Fiesta  Kuga  Fiesta  Fiesta  Focus  S-MAX  Fiesta  Focus  Fiesta  Focus  Focus  Kuga  Fiesta  Fiesta  EcoSport  Fiesta  Fiesta  Focus  C-MAX  EcoSport  Fiesta  Fiesta  EcoSport  Focus  B-MAX  EcoSport  Ka+  Ka+  EcoSport  Ka+  Fiesta  EcoSport  Focus  Ka+  Ka+  Ka+  Fiesta  Focus  Fiesta  Focus  Focus  Fiesta  Focus  Fiesta  Ka+  Focus  B-MAX  Focus  Focus  Kuga  Fiesta  Fiesta  Fiesta  Edge  Focus  B-MAX  Fiesta  Kuga  Fiesta  Kuga  Focus  Focus  Fiesta  Fiesta  Focus  Focus  Focus  C-MAX  Focus  Fiesta  EcoSport  Focus  Focus  Kuga  Fiesta  Fiesta  Focus  Fiesta  Mondeo  Fiesta  S-MAX  Ka+  Fiesta  EcoSport  Ka+  Focus  Kuga  Focus  Fiesta  EcoSport  Grand C-MAX  Grand C-MAX  Focus  Fiesta  Focus  Focus  Fiesta  Fiesta  Focus  Fiesta  S-MAX  Edge  Kuga  C-MAX  Kuga  Focus  Focus  EcoSport  Fiesta  Kuga  EcoSport  Fiesta  C-MAX  Fiesta  EcoSport  EcoSport  S-MAX  Fiesta  Fiesta  Fiesta  Focus  EcoSport  EcoSport  B-MAX  Ka+  Fiesta  Fiesta  Focus  Focus  Focus  Fiesta  Kuga  EcoSport  Focus  Kuga  Edge  Fiesta  Fiesta  EcoSport  Fiesta  Ka+  Fiesta  Kuga  EcoSport  Focus  Fiesta  Fiesta  Kuga  Focus  Focus  Focus  Fiesta  Fiesta  Fiesta  Fiesta  Focus  Fiesta  Focus  Edge  Tourneo Custom  Focus  Grand C-MAX  Kuga  Grand C-MAX  Focus  Fiesta  C-MAX  Fiesta  Fiesta  Fiesta  Grand Tourneo Connect  Fiesta  EcoSport  Focus  Fiesta  Focus  C-MAX  Fiesta  EcoSport  Focus  Focus  Focus  Kuga  Fiesta  C-MAX  Kuga  EcoSport  Focus  Focus  Fiesta  Focus  Kuga  Focus  EcoSport  Focus  Ka+  Galaxy  Kuga  Fiesta  Kuga  C-MAX  Galaxy  Ka+  Fiesta  B-MAX  Kuga  Kuga  Focus  Kuga  Grand C-MAX  Fiesta  Fiesta  EcoSport  Focus  Fiesta  Fiesta  Focus  Fiesta  S-MAX  Focus  Focus  Edge  Focus  Fiesta  Fiesta  Focus  Fiesta  Kuga  Mustang  Focus  Focus  Focus  Kuga  Fiesta  Kuga  Tourneo Custom  Tourneo Custom  Fiesta  Ka+  Focus  Focus  B-MAX  Ka+  Focus  Grand Tourneo Connect  Ka+  S-MAX  Kuga  Fiesta  Focus  Fiesta  Focus  Fiesta  Fiesta  Fiesta  Fiesta  Focus  Kuga  Kuga  Kuga  Mustang  Focus  Fiesta  EcoSport  EcoSport  Focus  Fiesta  Fiesta  Fiesta  Kuga  Fiesta  Kuga  Fiesta  Kuga  Focus  Focus  Focus  Kuga  Focus  Focus  Kuga  S-MAX  Kuga  Focus  Focus  Focus  Fiesta  Focus  Focus  S-MAX  Focus  Fiesta  Focus  Grand C-MAX  Kuga  EcoSport  Fiesta  Fiesta  Fiesta  Focus  Focus  Edge  Kuga  Fiesta  Focus  Fiesta  Focus  Fiesta  Kuga  EcoSport  Focus  Kuga  Fiesta  Fiesta  Kuga  Fiesta  Focus  Focus  Fiesta  Focus  Fiesta  Tourneo Custom  Kuga  Fiesta  Fiesta  Fiesta  Focus  Focus  Focus  Fiesta  Focus  Fiesta  Fiesta  Fiesta  Kuga  Focus  Focus  Fiesta  Focus  Focus  Tourneo Connect  EcoSport  EcoSport  B-MAX  Edge  Focus  Kuga  Edge  Kuga  Focus  S-MAX  Fiesta  Mondeo  Fiesta  EcoSport  Fiesta  Fiesta  Fiesta  Ka+  Kuga  Fiesta  Ka+  Fiesta  Focus  Fiesta  Ka+  EcoSport  Focus  Focus  Focus  Grand Tourneo Connect  Focus  Fiesta  Focus  Fiesta  Fiesta  Fiesta  Focus  Fiesta  Fiesta  Focus  Focus  Galaxy  Focus  Kuga  Kuga  Ka+  Fiesta  Fiesta  EcoSport  Fiesta  Fiesta  Focus  Focus  Fiesta  Kuga  Focus  Grand Tourneo Connect  Kuga  Kuga  Kuga  Fiesta  Fiesta  S-MAX  Kuga  Kuga  Fiesta  Focus  Focus  Kuga  Fiesta  Kuga  Fiesta  B-MAX  KA  Fiesta  Focus  Fiesta  Fiesta  Fiesta  Focus  Kuga  Fiesta  Kuga  Fiesta  Fiesta  Fiesta  Fiesta  Focus  Kuga  Focus  Grand Tourneo Connect  Focus  Kuga  Focus  Fiesta  Focus  Kuga  S-MAX  Fiesta  EcoSport  Kuga  EcoSport  Fiesta  Focus  Fiesta  Focus  Fiesta  Focus  Focus  Focus  Focus  Galaxy  Focus  Kuga  Fiesta  Kuga  KA  C-MAX  EcoSport  Fiesta  Focus  Kuga  C-MAX  Kuga  EcoSport  Focus  EcoSport  Kuga  Fiesta  Focus  Focus  Fiesta  S-MAX  Fiesta  Fiesta  Kuga  Focus  Focus  Focus  Fiesta  Focus  Fiesta  Fiesta  Tourneo Connect  Fiesta  C-MAX  Focus  Fiesta  EcoSport  Kuga  EcoSport  Mondeo  Mondeo  Mondeo  Fiesta  Ka+  Kuga  Kuga  Fiesta  Focus  Kuga  EcoSport  Focus  Focus  Kuga  Focus  Fiesta  Focus  Fiesta  EcoSport  Kuga  C-MAX  EcoSport  EcoSport  Fiesta  Edge  Fiesta  Grand C-MAX  Fiesta  Fiesta  Kuga  Focus  Fiesta  EcoSport  Kuga  Kuga  S-MAX  Fiesta  Grand C-MAX  Fiesta  S-MAX  Ka+  Edge  Focus  Ka+  Fiesta  Ka+  Focus  Kuga  C-MAX  Fiesta  EcoSport  Focus  Ka+  Grand C-MAX  Tourneo Connect  Grand C-MAX  Kuga  C-MAX  EcoSport  Grand C-MAX  Kuga  Focus  C-MAX  Kuga  EcoSport  Fiesta  Fiesta  Ka+  Fiesta  Kuga  Fiesta  Kuga  Kuga  Fiesta  Kuga  Kuga  Kuga  Kuga  Kuga  Focus  Kuga  Focus  Ka+  Fiesta  Fiesta  Kuga  Kuga  S-MAX  EcoSport  Focus  Fiesta  Kuga  Kuga  Grand C-MAX  Fiesta  Focus  Focus  Fiesta  Focus  Focus  Fiesta  Fiesta  Fiesta  Focus  S-MAX  Fiesta  Ka+  KA  EcoSport  Fiesta  Fiesta  Fiesta  Kuga  S-MAX  S-MAX  Mondeo  Galaxy  Kuga  Edge  Grand C-MAX  Fiesta  Galaxy  B-MAX  C-MAX  Fiesta  Fiesta  Fiesta  Kuga  Focus  Kuga  Grand Tourneo Connect  Fiesta  EcoSport  Fiesta  Kuga  Kuga  B-MAX  Grand C-MAX  Grand C-MAX  Tourneo Custom  Kuga  Grand C-MAX  S-MAX  Edge  Kuga  Fiesta  Kuga  Mustang  Fiesta  Fiesta  Fiesta  Edge  Fiesta  Fiesta  Focus  Edge  Focus  Grand C-MAX  Fiesta  Focus  Fiesta  Focus  Galaxy  Fiesta  Fiesta  Focus  Fiesta  EcoSport  Focus  Focus  Grand C-MAX  Kuga  Kuga  Fiesta  Fiesta  Puma  Focus  Fiesta  Focus  EcoSport  Kuga  Fiesta  B-MAX  Fiesta  KA  Focus  Focus  Focus  EcoSport  Fiesta  Edge  Fiesta  Focus  EcoSport  Focus  Kuga  EcoSport  Fiesta  Focus  Focus  C-MAX  Focus  Grand C-MAX  Focus  Fiesta  Kuga  Focus  Mustang  C-MAX  Fiesta  Grand C-MAX  Fiesta  Fiesta  Edge  Focus  KA  Fiesta  Fiesta  Fiesta  Kuga  EcoSport  B-MAX  Focus  Kuga  Kuga  Ka+  Ka+  Kuga  Focus  Grand Tourneo Connect  Fiesta  Fiesta  Fiesta  Fiesta  Ka+  S-MAX  Kuga  Kuga  Kuga  Kuga  Focus  Mondeo  Focus  Fiesta  B-MAX  Ka+  EcoSport  Kuga  Ka+  Fiesta  Kuga  Fiesta  Ka+  Fiesta  B-MAX  Fiesta  Kuga  Kuga  Focus  Fiesta  Fiesta  Focus  Fiesta  Focus  Focus  EcoSport  C-MAX  Focus  Fiesta  Focus  Fiesta  Kuga  Focus  Focus  Fiesta  B-MAX  EcoSport  EcoSport  Focus  Fiesta  Fiesta  Fiesta  Fiesta  Ka+  Fiesta  Focus  Fiesta  Fiesta  Fiesta  Fiesta  Kuga  Ka+  Fiesta  Ka+  Fiesta  Kuga  Kuga  Fiesta  EcoSport  Focus  EcoSport  Kuga  Fiesta  C-MAX  Fiesta  Focus  Fiesta  Focus  Ka+  Fiesta  Ka+  Fiesta  Fiesta  Focus  Fiesta  Focus  Kuga  Focus  EcoSport  Kuga  C-MAX  Focus  EcoSport  Fiesta  Kuga  KA  Fiesta  Focus  Focus  Kuga  Focus  Kuga  Grand C-MAX  Kuga  C-MAX  Kuga  S-MAX  Fiesta  Fiesta  C-MAX  EcoSport  Focus  Fiesta  Focus  Focus  Fiesta  Kuga  Focus  Focus  Focus  EcoSport  B-MAX  Focus  Tourneo Custom  EcoSport  Focus  EcoSport  Focus  Fiesta  Kuga  Fiesta  Focus  Focus  Fiesta  EcoSport  EcoSport  Fiesta  Fiesta  Grand Tourneo Connect  Kuga  Fiesta  Fiesta  Fiesta  Fiesta  Focus  Fiesta  Fiesta  B-MAX  Fiesta  Focus  Focus  Fiesta  Fiesta  EcoSport  Fiesta  EcoSport  C-MAX  Fiesta  Fiesta  Kuga  Fiesta  Focus  Focus  Focus  Fiesta  Kuga  Grand C-MAX  KA  Fiesta  Fiesta  KA  Tourneo Connect  Focus  Focus  Kuga  Focus  Focus  Fiesta  Kuga  Focus  Ka+  Focus  Focus  Focus  Fiesta  Grand C-MAX  Grand C-MAX  Focus  Fiesta  C-MAX  Fiesta  Focus  Focus  Fiesta  Fiesta  Fiesta  Focus  Focus  Fiesta  Fiesta  Fiesta  Kuga  EcoSport  Fiesta  Fiesta  B-MAX  Fiesta  Kuga  Mondeo  Fiesta  Fiesta  Fiesta  Kuga  Fiesta  Focus  Focus  Focus  Kuga  Fiesta  Fiesta  Mondeo  Focus  Fiesta  Fiesta  EcoSport  Fiesta  Focus  Focus  Fiesta  Kuga  Kuga  Focus  Fiesta  Fiesta  Focus  EcoSport  Fiesta  Kuga  Galaxy  Fiesta  EcoSport  Fiesta  Focus  Kuga  Fiesta  Fiesta  EcoSport  Grand Tourneo Connect  Focus  Focus  Focus  Fiesta  Focus  Kuga  Focus  Kuga  EcoSport  Fiesta  Kuga  Kuga  Focus  Kuga  Focus  Fiesta  KA  Focus  Focus  Kuga  Kuga  Focus  Kuga  Kuga  KA  Focus  Fiesta  Focus  Kuga  S-MAX  Fiesta  Ka+  Fiesta  Kuga  Fiesta  Fiesta  Fiesta  Fiesta  Puma  Focus  B-MAX  Focus  Tourneo Custom  Tourneo Custom  Focus  Fiesta  C-MAX  Focus  Fiesta  Fiesta  Fiesta  Focus  Focus  Fiesta  C-MAX  Fiesta  Focus  Focus  Fiesta  Focus  Kuga  Fiesta  Fiesta  Ka+  Ka+  Fiesta  Focus  Galaxy  Kuga  Kuga  Kuga  Kuga  Galaxy  Fiesta  Kuga  EcoSport  B-MAX  Focus  Grand C-MAX  Fiesta  EcoSport  Grand C-MAX  Focus  Fiesta  Grand C-MAX  Focus  Focus  Fiesta  Focus  Fiesta  Kuga  Kuga  Focus  Mondeo  Fiesta  Fiesta  Focus  Kuga  Focus  Fiesta  Kuga  C-MAX  Focus  Fiesta  Focus  Focus  C-MAX  Fiesta  B-MAX  Focus  Focus  Fiesta  Focus  B-MAX  Focus  Fiesta  Focus  Fiesta  Kuga  Ka+  C-MAX  Galaxy  Focus  Fiesta  Fiesta  Focus  Kuga  Focus  Focus  Focus  Kuga  Focus  Focus  Kuga  Fiesta  Focus  B-MAX  EcoSport  Fiesta  Grand C-MAX  Galaxy  Fiesta  Focus  Ka+  Fiesta  Focus  Fiesta  EcoSport  Focus  Fiesta  Ka+  Fiesta  Fiesta  Kuga  Focus  B-MAX  C-MAX  Edge  Fiesta  Focus  Focus  Fiesta  Kuga  Galaxy  Fiesta  Focus  Focus  B-MAX  Ka+  Fiesta  Focus  Fiesta  Fiesta  Fiesta  Focus  C-MAX  Focus  EcoSport  Fiesta  Ka+  Focus  Fiesta  B-MAX  Kuga  Focus  Ka+  Fiesta  Kuga  Focus  Focus  Focus  Focus  Kuga  Fiesta  Fiesta  Fiesta  Edge  Kuga  Galaxy  Fiesta  C-MAX  Focus  Focus  Focus  Fiesta  Fiesta  S-MAX  Focus  Fiesta  Focus  Tourneo Connect  Fiesta  Fiesta  B-MAX  Fiesta  Focus  Fiesta  Focus  Fiesta  Fiesta  Edge  Focus  Fiesta  Focus  Fiesta  Fiesta  Ka+  Fiesta  Fiesta  B-MAX  Focus  Focus  Fiesta  Fiesta  Kuga  Fiesta  Focus  Mondeo  S-MAX  Focus  Kuga  Fiesta  Fiesta  Focus  Focus  Fiesta  Focus  Kuga  Fiesta  Mondeo  Mondeo  Mondeo  Fiesta  Focus  Mondeo  B-MAX  Mondeo  KA  Fiesta  Grand C-MAX  B-MAX  EcoSport  Grand C-MAX  Kuga  Mondeo  Mondeo  EcoSport  Focus  Focus  Tourneo Connect  Kuga  Ka+  Fiesta  Ka+  Fiesta  Fiesta  Fiesta  Fiesta  Fiesta  Fiesta  Fiesta  Focus  Focus  Fiesta  Fiesta  Focus  Kuga  Mondeo  Fiesta  S-MAX  EcoSport  Fiesta  Focus  Fiesta  Focus  Focus  C-MAX  Focus  Focus  Fiesta  Kuga  Focus  Focus  Focus  Mondeo  Fiesta  Fiesta  Focus  Focus  Focus  Fiesta  Fiesta  Focus  Focus  Focus  Fiesta  Focus  Fiesta  Fiesta  Mondeo  Focus  Focus  Kuga  Fiesta  Fiesta  Focus  Focus  Focus  Fiesta  Focus  EcoSport  Edge  Focus  KA  EcoSport  Focus  Focus  Focus  Focus  Kuga  Fiesta  Fiesta  Fiesta  Fiesta  Fiesta  Fiesta  Fiesta  S-MAX  Fiesta  Fiesta  Ka+  Fiesta  Focus  Fiesta  Puma  Fiesta  EcoSport  Fiesta  Focus  Kuga  Fiesta  Focus  Kuga  Mondeo  Fiesta  Focus  C-MAX  Fiesta  Focus  Focus  Focus  Fiesta  Kuga  Fiesta  Fiesta  Focus  Fiesta  Fiesta  Focus  Fiesta  Ka+  Fiesta  Focus  Focus  Focus  Focus  EcoSport  B-MAX  Fiesta  Focus  Fiesta  Focus  Focus  Focus  Fiesta  Kuga  Fiesta  Ka+  Ka+  Ka+  Ka+  Fiesta  Fiesta  Fiesta  Kuga  Focus  Focus  Kuga  Mondeo  Kuga  Kuga  Fiesta  Kuga  Fiesta  Grand Tourneo Connect  Kuga  Focus  Grand C-MAX  Kuga  Ka+  Fiesta  Fiesta  Ka+  Ka+  Fiesta  Kuga  Fiesta  Kuga  Fiesta  EcoSport  Ka+  Focus  S-MAX  Focus  Fiesta  Ka+  Fiesta  Fiesta  Focus  Fiesta  Focus  Fiesta  Focus  Kuga  Focus  Ka+  Fiesta  Focus  Focus  Kuga  Fiesta  Fiesta  Fiesta  Fiesta  Fiesta  Focus  Focus  Kuga  Focus  B-MAX  EcoSport  Mondeo  Fiesta  Focus  Focus  Fiesta  Fiesta  Kuga  Kuga  Fiesta  Kuga  Fiesta  Fiesta  Mondeo  C-MAX  Fiesta  Focus  Focus  Kuga  Fiesta  Fiesta  Kuga  Kuga  C-MAX  C-MAX  Fiesta  Fiesta  Ka+  Focus  Focus  EcoSport  Ka+  Ka+  EcoSport  Focus  Focus  EcoSport  Fiesta  EcoSport  Ka+  Fiesta  Kuga  Focus  Fiesta  Focus  Focus  Focus  Ka+  Edge  Fiesta  Fiesta  Focus  Fiesta  Focus  EcoSport  Focus  Grand C-MAX  Fiesta  Focus  Focus  Fiesta  Fiesta  Focus  Ka+  Fiesta  Ka+  C-MAX  Kuga  Focus  Ka+  Fiesta  Fiesta  Fiesta  EcoSport  Focus  Focus  Fiesta  Fiesta  Focus  Fiesta  Focus  C-MAX  Fiesta  Fiesta  Focus  Fiesta  Focus  Focus  Puma  Kuga  Fiesta  C-MAX  Kuga  Grand C-MAX  Fiesta  Fiesta  Puma  Kuga  Fiesta  Focus  Fiesta  Fiesta  Kuga  Kuga  Fiesta  Fiesta  Focus  Fiesta  Focus  Fiesta  Fiesta  Fiesta  Fiesta  Focus  Kuga  Ka+  Fiesta  Ka+  KA  EcoSport  B-MAX  Fiesta  Kuga  Kuga  Ka+  Fiesta  C-MAX  Fiesta  EcoSport  Focus  Focus  Focus  Fiesta  Fiesta  Fiesta  Focus  C-MAX  Ka+  C-MAX  Focus  Kuga  Ka+  Kuga  Ka+  Focus  EcoSport  Kuga  S-MAX  Ka+  EcoSport  Fiesta  Focus  Focus  Focus  Fiesta  Kuga  Focus  Focus  Fiesta  Focus  Fiesta  Fiesta  Edge  Focus  Focus  Kuga  Focus  Focus  Mustang  Focus  Fiesta  Kuga  Fiesta  Tourneo Custom  Kuga  Fiesta  Fiesta  Focus  Fiesta  Fiesta  Grand Tourneo Connect  Focus  Ka+  Focus  Focus  Kuga  Fiesta  Focus  Focus  Focus  Kuga  KA  Fiesta  Fiesta  Fiesta  Focus  Grand Tourneo Connect  Fiesta  Focus  EcoSport  Fiesta  Fiesta  Fiesta  Fiesta  Focus  Fiesta  Ka+  Ka+  Fiesta  Focus  Focus  Focus  Focus  Focus  Focus  Focus  Fiesta  Kuga  Kuga  Focus  Mondeo  Focus  Focus  Fiesta  Ka+  Fiesta  Kuga  Focus  Fiesta  Grand C-MAX  EcoSport  Fiesta  Fiesta  Fiesta  Focus  Fiesta  Focus  Focus  Kuga  Focus  Focus  Fiesta  Fiesta  Fiesta  Kuga  Fiesta  Kuga  Fiesta  Focus  Focus  Kuga  S-MAX  EcoSport  Kuga  Fiesta  Focus  Fiesta  Ka+  Focus  Fiesta  Focus  Fiesta  EcoSport  Focus  Fiesta  Focus  Focus  Fiesta  Focus  Focus  Ka+  Fiesta  EcoSport  Focus  Kuga  Fiesta  Fiesta  Fiesta  Fiesta  EcoSport  Fiesta  Focus  Focus  Fiesta  EcoSport  Focus  B-MAX  Fiesta  Fiesta  Fiesta  KA  C-MAX  EcoSport  Focus  EcoSport  Kuga  EcoSport  Focus  Kuga  Grand C-MAX  Kuga  EcoSport  Fiesta  Focus  Ka+  Focus  C-MAX  Fiesta  Focus  Focus  Focus  Fiesta  Focus  Fiesta  Fiesta  Fiesta  Kuga  Fiesta  Fiesta  Fiesta  Mondeo  Fiesta  Fiesta  Puma  EcoSport  Fiesta  Focus  Fiesta  Focus  Fiesta  Kuga  Focus  Kuga  Galaxy  Fiesta  Focus  Fiesta  Edge  Fiesta  Fiesta  Focus  Focus  Kuga  Fiesta  EcoSport  Fiesta  Fiesta  Fiesta  Focus  Focus  Focus  Fiesta  Focus  Fiesta  Focus  Focus  Fiesta  Focus  Fiesta  Focus  B-MAX  Focus  Fiesta  Grand C-MAX  Fiesta  Focus  EcoSport  Fiesta  Fiesta  Grand C-MAX  Focus  Kuga  Fiesta  Fiesta  Ka+  Fiesta  Fiesta  Kuga  Focus  Focus  Focus  Focus  KA  Fiesta  Fiesta  Focus  Kuga  Fiesta  Grand Tourneo Connect  Fiesta  Fiesta  B-MAX  KA  Fiesta  Fiesta  Fiesta  Kuga  Fiesta  Ka+  Fiesta  Mustang  B-MAX  Fiesta  Fiesta  Fiesta  Focus  EcoSport  EcoSport  Fiesta  Mondeo  Fiesta  Ka+  Fiesta  Ka+  Fiesta  Fiesta  Ka+  Edge  Focus  Focus  Focus  Fiesta  Fiesta  Kuga  Fiesta  Fiesta  Fiesta  Kuga  Focus  Fiesta  Focus  Focus  Fiesta  B-MAX  Fiesta  Fiesta  Fiesta  Focus  Kuga  Fiesta  Fiesta  C-MAX  Focus  Fiesta  Kuga  Fiesta  Fiesta  Kuga  Focus  Focus  Focus  Fiesta  Fiesta  Galaxy  Fiesta  Fiesta  Fiesta  Fiesta  Fiesta  Ka+  Ka+  Grand C-MAX  Fiesta  Ka+  Fiesta  Fiesta  Ka+  Fiesta  Fiesta  Fiesta  Fiesta  Fiesta  Focus  Focus  Mustang  Fiesta  C-MAX  Focus  Fiesta  Fiesta  Fiesta  B-MAX  Fiesta  C-MAX  Fiesta  Kuga  Fiesta  B-MAX  Ka+  Fiesta  Focus  Ka+  Focus  Kuga  Fiesta  Ka+  Fiesta  Kuga  Ka+  Focus  Fiesta  Mustang  Fiesta  Focus  Fiesta  Fiesta  Fiesta  Fiesta  Fiesta  Fiesta  Fiesta  Focus  Fiesta  Kuga  Fiesta  Kuga  Fiesta  EcoSport  Focus  Fiesta  Fiesta  Fiesta  Focus  Fiesta  KA  Tourneo Custom  Fiesta  Galaxy  Kuga  Fiesta  Fiesta  Fiesta  Focus  Galaxy  Grand C-MAX  Focus  Focus  Edge  Focus  Kuga  EcoSport  Fiesta  Kuga  S-MAX  Kuga  Focus  Kuga  C-MAX  Fiesta  Mondeo  Focus  Galaxy  Tourneo Custom  Focus  C-MAX  Focus  Focus  Fiesta  Kuga  Fiesta  Fiesta  Fiesta  Fiesta  C-MAX  Edge  KA  Grand Tourneo Connect  Focus  Kuga  Focus  Kuga  Fiesta  Mondeo  EcoSport  Fiesta  Kuga  Focus  Kuga  EcoSport  Fiesta  Kuga  Focus  Kuga  EcoSport  Fiesta  Fiesta  Edge  Focus  Fiesta  Focus  Kuga  Fiesta  Fiesta  Focus  Grand C-MAX  Fiesta  Fiesta  Focus  Focus  Focus  Fiesta  Focus  Focus  Focus  Kuga  Fiesta  Fiesta  Fiesta  Focus  Kuga  Fiesta  Kuga  Fiesta  Fiesta  Fiesta  Focus  Mondeo  Focus  Fiesta  Fiesta  Fiesta  Fiesta  Kuga  Fiesta  Fiesta  Mondeo  Fiesta  Focus  Fiesta  Fiesta  Fiesta  Focus  Kuga  Fiesta  Galaxy  Fiesta  Fiesta  Kuga  Kuga  Focus  Mondeo  Focus  Focus  Fiesta  Focus  Focus  Focus  Focus  Focus  Fiesta  Fiesta  Focus  Focus  Kuga  Fiesta  Fiesta  Tourneo Custom  Fiesta  Fiesta  EcoSport  Fiesta  Fiesta  Ka+  Fiesta  Fiesta  Ka+  Fiesta  Fiesta  Fiesta  Fiesta  Fiesta  Fiesta  Focus  Fiesta  Kuga  Fiesta  Focus  Kuga  Focus  Focus  Fiesta  Fiesta  EcoSport  Fiesta  B-MAX  Fiesta  Fiesta  Focus  Fiesta  Fiesta  Ka+  Fiesta  Mustang  Fiesta  Ka+  Fiesta  Kuga  Kuga  Kuga  Focus  EcoSport  Fiesta  Focus  Focus  Focus  Kuga  Focus  Focus  Mondeo  Focus  Galaxy  B-MAX  Fiesta  Fiesta  Kuga  Fiesta  Fiesta  Fiesta  Fiesta  Fiesta  Focus  Focus  Fiesta  Fiesta  Fiesta  Fiesta  Edge  C-MAX  Ka+  EcoSport  Kuga  Fiesta  Fiesta  Fiesta  Fiesta  Kuga  Kuga  Fiesta  C-MAX  C-MAX  Fiesta  Focus  Fiesta  Focus  Edge  Fiesta  Focus  EcoSport  Focus  Mustang  Kuga  Fiesta  Focus  EcoSport  Focus  Focus  Focus  Focus  Edge  EcoSport  Fiesta  Focus  Fiesta  Focus  Fiesta  Focus  Fiesta  Fiesta  Kuga  Fiesta  Ka+  Fiesta  Ka+  EcoSport  Fiesta  Focus  Kuga  Fiesta  Fiesta  Fiesta  Fiesta  Edge  C-MAX  Kuga  Kuga  Fiesta  EcoSport  Fiesta  Fiesta  Focus  Focus  EcoSport  Fiesta  Fiesta  Fiesta  Focus  Kuga  Focus  Fiesta  Focus  Fiesta  Fiesta  Focus  Kuga  Focus  Fiesta  Fiesta  Fiesta  Fiesta  EcoSport  Focus  Fiesta  Fiesta  Fiesta  Fiesta  Ka+  Focus  Focus  Fiesta  Focus  EcoSport  Focus  Fiesta  Focus  Fiesta  EcoSport  Fiesta  Kuga  Focus  Fiesta  Focus  Focus  Fiesta  Fiesta  Fiesta  Focus  Focus  Kuga  Focus  Fiesta  Fiesta  Focus  Focus  Fiesta  Fiesta  Fiesta  Fiesta  Focus  Fiesta  Fiesta  Fiesta  Focus  Focus  Fiesta  EcoSport  KA  Fiesta  Fiesta  Fiesta  Focus  Focus  Fiesta  Focus  Fiesta  Fiesta  Kuga  Focus  Fiesta  Fiesta  Fiesta  Fiesta  Fiesta  Focus  Fiesta  Focus  Kuga  B-MAX  Fiesta  Fiesta  Focus  Focus  Fiesta  Focus  Focus  Fiesta  Fiesta  Focus  Fiesta  Focus  Focus  Fiesta  Focus  EcoSport  Fiesta  Fiesta  EcoSport  Fiesta  Focus  Fiesta  Fiesta  Kuga  Focus  Focus  Focus  Fiesta  Focus  EcoSport  Fiesta  Focus  Fiesta  Kuga  Fiesta  Fiesta  Focus  Focus  Focus  Focus  Fiesta  Fiesta  Fiesta  Focus  Kuga  Fiesta  Fiesta  Fiesta  Focus  Fiesta  Focus  Focus  Fiesta  Mondeo  Focus  Focus  Kuga  B-MAX  Focus  Fiesta  Galaxy  Kuga  Focus  Focus  Fiesta  Fiesta  Focus  Fiesta  EcoSport  Fiesta  Focus  Focus  Focus  Ka+  Fiesta  Fiesta  Kuga  Focus  Focus  Fiesta  Fiesta  Kuga  Fiesta  Fiesta  EcoSport  C-MAX  Fiesta  Kuga  B-MAX  Fiesta  Kuga  Mondeo  Fiesta  Focus  EcoSport  EcoSport  Focus  EcoSport  Kuga  EcoSport  Fiesta  Fiesta  Fiesta  Fiesta  Fiesta  Fiesta  Focus  Fiesta  Focus  Focus  Ka+  Kuga  Fiesta  Fiesta  Ka+  Focus  EcoSport  Ka+  Kuga  Kuga  EcoSport  S-MAX  Kuga  Ka+  Focus  Fiesta  Fiesta  Fiesta  Fiesta  Fiesta  Focus  C-MAX  EcoSport  Kuga  EcoSport  EcoSport  Fiesta  Fiesta  C-MAX  Kuga  Focus  Fiesta  Fiesta  Fiesta  Fiesta  Focus  Fiesta  Focus  EcoSport  Fiesta  Focus  Ka+  Fiesta  Focus  Focus  Fiesta  EcoSport  Kuga  Fiesta  Grand C-MAX  Fiesta  Focus  Fiesta  Ka+  EcoSport  Kuga  EcoSport  Focus  Fiesta  Fiesta  Focus  Fiesta  Fiesta  Fiesta  Focus  Fiesta  Fiesta  EcoSport  Fiesta  Focus  Fiesta  Fiesta  Fiesta  Focus  Focus  Fiesta  Fiesta  Fiesta  Kuga  Edge  Kuga  Fiesta  Fiesta  Fiesta  C-MAX  Focus  Fiesta  Fiesta  Focus  Galaxy  Kuga  Focus  Fiesta  Fiesta  Focus  Focus  Fiesta  Fiesta  Focus  Fiesta  Focus  Mondeo  Fiesta  Focus  Focus  Fiesta  Focus  Fiesta  Kuga  Focus  Focus  Focus  Kuga  Focus  Fiesta  Focus  Fiesta  Mondeo  Focus  Focus  Focus  Focus  Ka+  S-MAX  Focus  Focus  Fiesta  Ka+  Kuga  Kuga  Kuga  Kuga  Focus  Focus  Kuga  Fiesta  Fiesta  EcoSport  Focus  Fiesta  Fiesta  B-MAX  Focus  B-MAX  B-MAX  Grand C-MAX  Focus  Ka+  Focus  EcoSport  Fiesta  B-MAX  EcoSport  B-MAX  B-MAX  Fiesta  Focus  C-MAX  Grand C-MAX  Fiesta  C-MAX  Focus  Fiesta  Fiesta  Fiesta  Fiesta  Fiesta  Fiesta  Fiesta  Focus  Focus  Fiesta  Kuga  Fiesta  Focus  Kuga  Focus  Kuga  Focus  Focus  Fiesta  Fiesta  Focus  Focus  Fiesta  EcoSport  Fiesta  Focus  Focus  Fiesta  Focus  Kuga  Focus  Kuga  Focus  Fiesta  Fiesta  Ka+  Fiesta  Fiesta  Fiesta  Fiesta  Focus  Kuga  Fiesta  Focus  Focus  Fiesta  C-MAX  Fiesta  EcoSport  Fiesta  EcoSport  Focus  Fiesta  Mondeo  EcoSport  Fiesta  Focus  Fiesta  Kuga  C-MAX  Kuga  Kuga  Focus  EcoSport  Focus  Focus  EcoSport  Focus  EcoSport  Fiesta  Mondeo  Focus  Focus  Fiesta  Focus  Mondeo  EcoSport  Focus  Fiesta  EcoSport  Focus  EcoSport  EcoSport  Fiesta  B-MAX  Fiesta  Focus  Fiesta  Kuga  Fiesta  Fiesta  C-MAX  Focus  Kuga  EcoSport  C-MAX  C-MAX  Focus  Ka+  Ka+  Fiesta  Fiesta  Galaxy  Fiesta  Kuga  Ka+  Fiesta  Fiesta  C-MAX  EcoSport  S-MAX  Fiesta  Kuga  Kuga  Focus  KA  Focus  Focus  B-MAX  Kuga  Fiesta  Focus  Fiesta  Fiesta  Fiesta  C-MAX  Kuga  EcoSport  Fiesta  Focus  Fiesta  C-MAX  Fiesta  Tourneo Connect  Fiesta  Kuga  S-MAX  Kuga  Focus  Fiesta  Kuga  Focus  Fiesta  B-MAX  Fiesta  C-MAX  Grand C-MAX  Focus  Fiesta  Fiesta  Tourneo Custom  Tourneo Custom  S-MAX  Kuga  Fiesta  Fiesta  Fiesta  B-MAX  Focus  C-MAX  Focus  Fiesta  Grand C-MAX  Fiesta  EcoSport  Grand C-MAX  C-MAX  C-MAX  Fiesta  Focus  Fiesta  KA  Focus  Fiesta  Focus  Fiesta  Focus  Focus  Kuga  Fiesta  Focus  Kuga  Mondeo  Focus  Kuga  Fiesta  Focus  Fiesta  Fiesta  Fiesta  Focus  Fiesta  Fiesta  Fiesta  Focus  Fiesta  Kuga  Focus  EcoSport  Focus  Kuga  Fiesta  C-MAX  Focus  Kuga  Fiesta  Fiesta  Fiesta  EcoSport  B-MAX  Fiesta  Fiesta  Kuga  EcoSport  EcoSport  Fiesta  Fiesta  Fiesta  Fiesta  B-MAX  B-MAX  Focus  Focus  Focus  Focus  Fiesta  Fiesta  Focus  Focus  Focus  Galaxy  Focus  Focus  S-MAX  Fiesta  Fiesta  Focus  Focus  Focus  Fiesta  Fiesta  Galaxy  Kuga  Focus  Fiesta  Focus  Focus  Kuga  Kuga  Kuga  Fiesta  Ka+  Fiesta  Mondeo  Focus  B-MAX  Fiesta  EcoSport  Fiesta  Fiesta  Fiesta  Galaxy  Focus  Focus  Focus  Focus  Mondeo  B-MAX  Galaxy  Fiesta  Focus  Fiesta  Ka+  Puma  Ka+  EcoSport  Fiesta  Focus  Fiesta  Focus  Fiesta  Focus  EcoSport  Focus  Focus  Fiesta  KA  Kuga  Ka+  Fiesta  Fiesta  EcoSport  EcoSport  Fiesta  Fiesta  Kuga  Kuga  Fiesta  Focus  EcoSport  Fiesta  EcoSport  Fiesta  Fiesta  Fiesta  Ka+  Fiesta  EcoSport  Fiesta  Fiesta  Fiesta  Focus  Kuga  C-MAX  Grand C-MAX  Focus  Kuga  Focus  Fiesta  Focus  Focus  Kuga  Fiesta  Fiesta  EcoSport  Focus  Focus  Fiesta  Fiesta  Fiesta  Fiesta  Fiesta  Fiesta  Kuga  Focus  Fiesta  Focus  Focus  Focus  Focus  Fiesta  Fiesta  Focus  Fiesta  Focus  Focus  Focus  Fiesta  Fiesta  Focus  Kuga  Fiesta  Fiesta  Kuga  Mondeo  Fiesta  Fiesta  Fiesta  Fiesta  Fiesta  Kuga  Fiesta  Fiesta  Focus  Kuga  Fiesta  Focus  Fiesta  Fiesta  Kuga  Fiesta  Focus  Fiesta  Focus  Focus  Kuga  Focus  Fiesta  Focus  Focus  Kuga  Kuga  Fiesta  Focus  Focus  Fiesta  Focus  Ka+  Fiesta  Fiesta  Fiesta  Focus  Fiesta  Fiesta  Fiesta  Focus  EcoSport  Focus  Kuga  Kuga  Kuga  Focus  Kuga  Fiesta  Focus  Fiesta  Fiesta  Kuga  Kuga  Fiesta  Fiesta  Focus  Kuga  Fiesta  Focus  Fiesta  EcoSport  EcoSport  Kuga  Tourneo Custom  Fiesta  Focus  Focus  Focus  Kuga  Fiesta  Fiesta  Fiesta  Kuga  B-MAX  Fiesta  EcoSport  Fiesta  C-MAX  Kuga  Fiesta  Fiesta  Fiesta  Fiesta  Fiesta  Kuga  Fiesta  Fiesta  Fiesta  EcoSport  S-MAX  Focus  Focus  Fiesta  B-MAX  Focus  EcoSport  EcoSport  Kuga  Fiesta  Fiesta  Fiesta  Focus  Kuga  Fiesta  Focus  Kuga  Puma  Kuga  Focus  Fiesta  Fiesta  C-MAX  Focus  Fiesta  Fiesta  Fiesta  Fiesta  Fiesta  Grand C-MAX  Focus  Fiesta  Fiesta  Focus  Ka+  EcoSport  Focus  C-MAX  Focus  Focus  Focus  Focus  B-MAX  Fiesta  Fiesta  Fiesta  Focus  Fiesta  Fiesta  Fiesta  Fiesta  EcoSport  Kuga  Focus  Fiesta  Kuga  Fiesta  Focus  Fiesta  Fiesta  Fiesta  Focus  Fiesta  Focus  Fiesta  Fiesta  Focus  Focus  Ka+  Focus  Focus  EcoSport  Fiesta  EcoSport  Fiesta  Focus  Focus  Kuga  Fiesta  Galaxy  Fiesta  Focus  Fiesta  Fiesta  Fiesta  Kuga  Fiesta  Focus  Focus  Focus  Fiesta  Focus  Focus  Focus  Focus  Fiesta  Ka+  EcoSport  Fiesta  C-MAX  Fiesta  Fiesta  Kuga  Fiesta  Fiesta  Focus  Ka+  Fiesta  Fiesta  Kuga  Focus  Focus  Focus  Fiesta  Kuga  Fiesta  Fiesta  C-MAX  Focus  Fiesta  Fiesta  Focus  Kuga  Fiesta  Fiesta  Focus  Ka+  Focus  EcoSport  Fiesta  Fiesta  EcoSport  Fiesta  Focus  Fiesta  Focus  Focus  Fiesta  Ka+  Ka+  Kuga  Focus  Focus  Kuga  Focus  Puma  Fiesta  Focus  Focus  B-MAX  Focus  Fiesta  Fiesta  KA  Fiesta  Kuga  Fiesta  Kuga  Focus  Kuga  Kuga  Kuga  Focus  Focus  Kuga  Fiesta  Fiesta  Kuga  Focus  Focus  Focus  Fiesta  Ka+  Fiesta  Ka+  Focus  EcoSport  Fiesta  Fiesta  Ka+  Kuga  Fiesta  Kuga  Kuga  Kuga  Fiesta  Fiesta  Fiesta  EcoSport  Grand C-MAX  B-MAX  Fiesta  Mondeo  Fiesta  Fiesta  Fiesta  Fiesta  Fiesta  Fiesta  EcoSport  Kuga  Kuga  Grand C-MAX  Mondeo  Fiesta  Kuga  Focus  Focus  Focus  Kuga  Kuga  Focus  B-MAX  EcoSport  Galaxy  Fiesta  C-MAX  Fiesta  Mondeo  Kuga  Edge  B-MAX  Fiesta  Focus  Focus  Kuga  C-MAX  Kuga  Fiesta  Kuga  Fiesta  B-MAX  Fiesta  Fiesta  Fiesta  Focus  Fiesta  S-MAX  Focus  Fiesta  Fiesta  Focus  Focus  Kuga  Focus  Fiesta  Mondeo  Focus  Focus  Kuga  Fiesta  Kuga  Focus  Focus  B-MAX  Kuga  Ka+  Kuga  Focus  B-MAX  Galaxy  Focus  Focus  Focus  Focus  C-MAX  EcoSport  Fiesta  Fiesta  Fiesta  Kuga  Kuga  EcoSport  B-MAX  Fiesta  Kuga  Fiesta  Focus  Kuga  Focus  Grand Tourneo Connect  Kuga  Grand C-MAX  Focus  Fiesta  Kuga  Fiesta  Focus  Kuga  Fiesta  Kuga  Kuga  Kuga  Fiesta  Kuga  Fiesta  Fiesta  Edge  Focus  Kuga  Focus  Kuga  Kuga  Focus  Focus  Fiesta  Fiesta  Kuga  KA  Kuga  Fiesta  Fiesta  Focus  Fiesta  S-MAX  Fiesta  Fiesta  Kuga  S-MAX  Focus  Fiesta  Kuga  Focus  Focus  Focus  S-MAX  Mondeo  Grand Tourneo Connect  Fiesta  Fiesta  EcoSport  Focus  Fiesta  Fiesta  Kuga  Kuga  Fiesta  Kuga  Fiesta  Fiesta  Fiesta  EcoSport  Fiesta  Focus  Fiesta  Kuga  Mondeo  Fiesta  Fiesta  Focus  Focus  Fiesta  Focus  Focus  Grand C-MAX  Focus  Focus  EcoSport  Fiesta  EcoSport  Fiesta  Fiesta  Focus  Fiesta  Focus  Kuga  Focus  Focus  Focus  Fiesta  Focus  Fiesta  Kuga  Focus  Fiesta  Fiesta  Grand C-MAX  Kuga  Kuga  C-MAX  Kuga  EcoSport  Kuga  Fiesta  Focus  Fiesta  Focus  Fiesta  Focus  Fiesta  KA  Fiesta  Ka+  Focus  Focus  Fiesta  Fiesta  Puma  Grand C-MAX  EcoSport  Focus  Fiesta  Focus  EcoSport  Focus  Ka+  EcoSport  Fiesta  Fiesta  Fiesta  EcoSport  Ka+  Fiesta  EcoSport  C-MAX  Mondeo  Puma  EcoSport  C-MAX  Focus  Fiesta  C-MAX  EcoSport  Galaxy  Kuga  Fiesta  Mustang  Fiesta  Kuga  Focus  Focus  Grand Tourneo Connect  EcoSport  Focus  EcoSport  Focus  Galaxy  Fiesta  Fiesta  Galaxy  Focus  Fiesta  EcoSport  Fiesta  Fiesta  Kuga  Fiesta  Focus  Fiesta  Fiesta  Focus  Kuga  Focus  Fiesta  Fiesta  Kuga  Focus  Ka+  Focus  Fiesta  Fiesta  Focus  Focus  Focus  Focus  Focus  Focus  Focus  Focus  Focus  B-MAX  Fiesta  Focus  Focus  Focus  Fiesta  Fiesta  Focus  Fiesta  Ka+  Fiesta  Fiesta  C-MAX  Fiesta  Fiesta  Focus  Fiesta  Focus  KA  Fiesta  Focus  Fiesta  Fiesta  Fiesta  Focus  Focus  Focus  Fiesta  Focus  Fiesta  Fiesta  Fiesta  Fiesta  C-MAX  Ka+  Focus  Focus  Focus  Fiesta  EcoSport  Fiesta  Fiesta  Fiesta  Kuga  Kuga  Focus  Focus  Fiesta  B-MAX  Edge  Focus  Fiesta  Kuga  Focus  Fiesta  C-MAX  Fiesta  Fiesta  Fiesta  EcoSport  Fiesta  Fiesta  Fiesta  Kuga  Mondeo  Focus  Focus  Fiesta  B-MAX  EcoSport  Fiesta  Ka+  Fiesta  Galaxy  B-MAX  Fiesta  Mondeo  Fiesta  Kuga  Focus  Focus  Fiesta  EcoSport  Ka+  Fiesta  Mondeo  Fiesta  Kuga  Fiesta  Fiesta  EcoSport  Fiesta  Kuga  EcoSport  B-MAX  Fiesta  Focus  Fiesta  Kuga  Fiesta  Focus  Fiesta  Kuga  KA  Focus  Galaxy  Focus  Fiesta  C-MAX  Fiesta  EcoSport  Ka+  Fiesta  Fiesta  Focus Focus  Fiesta  Fiesta  EcoSport  Fiesta  Kuga  S-MAX  Focus  EcoSport  Fiesta  Focus  Focus  Focus  Focus  Focus  Focus  Fiesta  Focus  Focus  Focus  Grand Tourneo Connect  Kuga  Fiesta  Focus  Fiesta  Fiesta  C-MAX  Ka+  Fiesta  Focus  Grand C-MAX  Fiesta  Focus  Galaxy  Kuga  S-MAX  Focus  Focus  Focus  Focus  Fiesta  EcoSport  EcoSport  Fiesta  Fiesta  Fiesta  Fiesta  Focus  Ka+  Kuga  Focus  Fiesta  B-MAX  Kuga  Focus  Focus  Puma  Focus  Kuga  Fiesta  Kuga  Fiesta  Fiesta  Focus  Focus  Focus  Focus  Fiesta  Fiesta  Fiesta  C-MAX  Focus  Kuga  Fiesta  Focus  Fiesta  Kuga  Fiesta  Focus  Fiesta  Kuga  Focus  Focus  Focus  Fiesta  Fiesta  Fiesta  Kuga  Ka+  Fiesta  Focus  Fiesta  Grand C-MAX  EcoSport  Fiesta  Fiesta  Kuga  Kuga  C-MAX  Fiesta  C-MAX  Fiesta  EcoSport  Tourneo Connect  Focus  Focus  Fiesta  Kuga  Fiesta  Focus  Mondeo  EcoSport  Fiesta  Fiesta  Fiesta  S-MAX  Fiesta  Fiesta  Fiesta  Focus  Fiesta  Fiesta  Focus  Focus  Fiesta  Fiesta  Fiesta  Kuga  Fiesta  Fiesta  Fiesta  Kuga  Grand C-MAX  B-MAX  Fiesta  Fiesta  C-MAX  Fiesta  Focus  Focus  S-MAX  EcoSport  Fiesta  Focus  Kuga  Fiesta  Fiesta  Focus  S-MAX  Focus  Fiesta  Mondeo  S-MAX  Focus  Focus  Fiesta  Focus  Fiesta  Mondeo  Grand C-MAX  Fiesta  EcoSport  Focus  Fiesta  EcoSport  Galaxy  Mondeo  Focus  Mustang  Fiesta  Galaxy  Kuga  Grand C-MAX  EcoSport  EcoSport  Focus  Focus  Mustang  Fiesta  Fiesta  Kuga  Fiesta  Fiesta  Focus  Focus  Fiesta  Ka+  Focus  Focus  Focus  Fiesta  EcoSport  Fiesta  Focus  Focus  Fiesta  Kuga  EcoSport  Focus  Galaxy  Focus  Fiesta  Grand C-MAX  Focus  Ka+  Fiesta  Focus  Kuga  Focus  Focus  Focus  Focus  Focus  Focus  Focus  EcoSport  Focus  Fiesta  Fiesta  Fiesta  Kuga  Focus  B-MAX  EcoSport  Focus  EcoSport  Fiesta  Fiesta  Fiesta  Kuga  Fiesta  Fiesta  S-MAX  Fiesta  Kuga  Kuga  Focus  Fiesta  Focus  Fiesta  Focus  Fiesta  Focus  Fiesta  Fiesta  Mondeo  Kuga  Focus  Fiesta  Fiesta  Kuga  Kuga  Kuga  Fiesta  Focus  Grand C-MAX  Fiesta  Fiesta  Focus  C-MAX  EcoSport  Fiesta  Focus  Kuga  Focus  Focus  Focus  Fiesta  Focus  Kuga  Focus  EcoSport  Focus  C-MAX  Focus  Ka+  Focus  Fiesta  EcoSport  Fiesta  EcoSport  S-MAX  EcoSport  B-MAX  Focus  Fiesta  C-MAX  Fiesta  Fiesta  Focus  Focus  Kuga  Fiesta  Focus  Fiesta  Fiesta  Fiesta  Focus  B-MAX  Fiesta  Fiesta  Edge  EcoSport  Fiesta  Mondeo  Focus  Fiesta  Fiesta  Focus  Mondeo  Focus  Grand C-MAX  Fiesta  Focus  Ka+  Focus  Kuga  Focus  Fiesta  EcoSport  Focus  Ka+  Fiesta  EcoSport  Fiesta  EcoSport  Fiesta  Fiesta  Fiesta  KA  Fiesta  Fiesta  Focus  Fiesta  Kuga  Fiesta  C-MAX  Fiesta  Focus  Focus  Fiesta  Fiesta  Focus  EcoSport  Fiesta  Fiesta  Fiesta  Fiesta  Fiesta  Mustang  Fiesta  Mondeo  Kuga  Ka+  Fiesta  Fiesta  Kuga  Focus  B-MAX  EcoSport  Fiesta  Galaxy  Fiesta  Fiesta  Fiesta  Kuga  Ka+  Fiesta  Edge  Focus  Ka+  Focus  Fiesta  Fiesta  Fiesta  Focus  B-MAX  EcoSport  Fiesta  Focus  Fiesta  Focus  Focus  Focus  C-MAX  Fiesta  Fiesta  Focus  Focus  Grand Tourneo Connect  Focus  Focus  Fiesta  Fiesta  C-MAX  Fiesta  Kuga  Ka+  Focus  B-MAX  Fiesta  Ka+  Grand C-MAX  Fiesta  Fiesta  Focus  Focus  C-MAX  Focus  Focus  Fiesta  C-MAX  Focus  Fiesta  Fiesta  B-MAX  Fiesta  Ka+  Fiesta  Fiesta  Focus  C-MAX  Fiesta  Edge  C-MAX  C-MAX  C-MAX  Fiesta  Focus  Focus  Fiesta  Kuga  Fiesta  Focus  Focus  Fiesta  Fiesta  Fiesta  Fiesta  Fiesta  Fiesta  Fiesta  Focus  Focus  Fiesta  Fiesta  Fiesta  EcoSport  C-MAX  Fiesta  Focus  Fiesta  Fiesta  Kuga  Fiesta  Focus  Focus  Focus  C-MAX  Fiesta  Focus  Fiesta  C-MAX  KA  EcoSport  Focus  Fiesta  Focus  Kuga  Fiesta  Focus  Fiesta  Focus  Fiesta  Kuga  Kuga  Kuga  Focus  Focus  Focus  Focus  Kuga  Fiesta  C-MAX  Fiesta  Focus  Kuga  Kuga  EcoSport  Fiesta  Kuga  Kuga  C-MAX  Kuga  Fiesta  Kuga  Focus  Focus  Kuga  Ka+  Focus  Fiesta  Kuga  EcoSport  B-MAX  Kuga  Ka+  Kuga  Fiesta  Kuga  Fiesta  EcoSport  Fiesta  Focus  Focus  Focus  Fiesta  EcoSport  Fiesta  Focus  Ka+  Kuga  Fiesta  Kuga  Ka+  Focus  Focus  Fiesta  Fiesta  Focus  Focus  Focus  Fiesta  Fiesta  Focus  Fiesta  Focus  Fiesta  Fiesta  Focus  Fiesta  Fiesta  Fiesta  Fiesta  Focus  Focus  Grand C-MAX  Fiesta  Fiesta  Focus  EcoSport  Fiesta  C-MAX  Kuga  Fiesta  C-MAX  Mondeo  Focus  Focus  Kuga  Grand C-MAX  Galaxy  Focus  C-MAX  C-MAX  EcoSport  EcoSport  Focus  Fiesta  EcoSport  Focus  EcoSport  EcoSport  Fiesta  Fiesta  Galaxy  Fiesta  Fiesta  Kuga  Fiesta  EcoSport  Fiesta  Fiesta  S-MAX  Fiesta  Fiesta  Fiesta  Fiesta  Kuga  EcoSport  Focus  Focus  Focus  Fiesta  Ka+  Tourneo Custom  Tourneo Custom  Tourneo Custom  EcoSport  Fiesta  Kuga  Edge  Fiesta  Fiesta  Galaxy  Fiesta  Fiesta  Fiesta  Focus  B-MAX  Focus  Focus  Fiesta  Fiesta  Fiesta  Focus  Mondeo  Focus  Kuga  Focus  Fiesta  Fiesta  Focus  Kuga  Fiesta  Fiesta  Focus  S-MAX  Focus  Focus  Kuga  Ka+  Grand C-MAX  Fiesta  Fiesta  KA  Fiesta  Kuga  Focus  C-MAX  Focus  C-MAX  Focus  Kuga  Ka+  EcoSport  Fiesta  Focus  Kuga  Kuga  Focus  Focus  Focus  Fiesta  Fiesta  Fiesta  Fiesta  EcoSport  Fiesta  Fiesta  EcoSport  Fiesta  Fiesta  Focus  Fiesta  Kuga  Fiesta  Fiesta  Galaxy  Fiesta  Focus  Focus  Edge  Ka+  EcoSport  Fiesta  Fiesta  S-MAX  Kuga  Fiesta  Fiesta  Fiesta  Fiesta  Kuga  Edge  Focus  Focus  Fiesta  EcoSport  C-MAX  Fiesta  Fiesta  Kuga  Focus  Kuga  Kuga  Focus  Focus  Fiesta  Fiesta  Focus  Ka+  Fiesta  Fiesta  Focus  Fiesta  Puma  Focus  Mondeo  Fiesta  Ka+  Kuga  EcoSport  Focus  C-MAX  Fiesta  EcoSport  Fiesta  Kuga  Ka+  Kuga  Focus  C-MAX  Edge  Edge  C-MAX  Fiesta  Fiesta  Fiesta  Kuga  Fiesta  Fiesta  Focus  Fiesta  Fiesta  Focus  EcoSport  Kuga  Grand C-MAX  Ka+  Focus  Focus  Focus  Focus  Fiesta  Focus  Fiesta  C-MAX  Fiesta  C-MAX  Fiesta  Focus  Kuga  Fiesta  Fiesta  Fiesta  EcoSport  Focus  Focus  B-MAX  Focus  C-MAX  Kuga  Focus  Fiesta  Kuga  EcoSport  Ka+  Fiesta  Focus  Focus  Fiesta  Focus  Focus  Focus  Fiesta  Fiesta  Focus  Kuga  Focus  Focus  Focus  Focus  Focus  C-MAX  Kuga  Kuga  Ka+  Kuga  Focus  EcoSport  EcoSport  Fiesta  Galaxy  Fiesta  Kuga  Focus  Focus  Focus  Focus  Focus  Focus  Fiesta  Fiesta  Edge  Fiesta  Fiesta  Galaxy  Fiesta  Focus  Focus  Focus  EcoSport  Kuga  Focus  Focus  EcoSport  C-MAX  Fiesta  Fiesta  Fiesta  Focus  C-MAX  Fiesta  Kuga  Kuga  Fiesta  Focus  Galaxy  Fiesta  Focus  Focus  Grand C-MAX  Kuga  Kuga  S-MAX  Fiesta  Fiesta  Focus  Focus  Focus  Focus  Focus  Focus  Focus  Fiesta  Galaxy  Focus  Fiesta  Fiesta  S-MAX  EcoSport  Kuga  Kuga  Focus  Grand C-MAX  Fiesta  Fiesta  Fiesta  Kuga  Fiesta  Fiesta  Focus  C-MAX  Focus  Fiesta  Focus  B-MAX  EcoSport  Focus  Fiesta  Fiesta  Focus  S-MAX  Fiesta  Ka+  Kuga  Fiesta  Fiesta  S-MAX  EcoSport  EcoSport  Kuga  Focus  Fiesta  Fiesta  EcoSport  Focus  Focus  Kuga  Fiesta  Focus  Edge  Fiesta  Fiesta  Fiesta  S-MAX  Kuga  Fiesta  Kuga  Fiesta  Kuga  Fiesta  Mondeo  C-MAX  Fiesta  Focus  EcoSport  Focus  Fiesta  Kuga  Kuga  Fiesta  EcoSport  Ka+  Kuga  Focus  EcoSport  Galaxy  Focus  Kuga  Kuga  Kuga  S-MAX  EcoSport  EcoSport  Focus  Fiesta  Fiesta  Galaxy  Galaxy  Kuga  Fiesta  S-MAX  Tourneo Custom  C-MAX  Edge  Fiesta  Kuga  Kuga  Focus  Kuga  Kuga  Focus  Focus  Focus  Focus  Focus  Focus  Fiesta  Fiesta  Fiesta  B-MAX  Focus  Focus  S-MAX  Fiesta  Kuga  Focus  Grand C-MAX  Grand C-MAX  Kuga  Mustang  C-MAX  Kuga  B-MAX  Tourneo Custom  Fiesta  Focus  EcoSport  Fiesta  Fiesta  Fiesta  Kuga  Focus  C-MAX  Tourneo Custom  Focus  Mondeo  Kuga  Fiesta  Fiesta  Ka+  Ka+  Focus  S-MAX  Mondeo  Grand C-MAX  Focus  Fiesta  Focus  Fiesta  Kuga  EcoSport  Fiesta  Fiesta  Focus  B-MAX  EcoSport  Fiesta  Kuga  Mondeo  Mondeo  Mondeo  Fiesta  Fiesta  Kuga  Focus  Focus  Kuga  Focus  Kuga  Fiesta  Fiesta  Focus  S-MAX  Grand Tourneo Connect  Kuga  Focus  Focus  Focus  Kuga  Fiesta  Fiesta  Mondeo  Focus  Fiesta  Focus  Fiesta  Kuga  Focus  Edge  Edge  Fiesta  B-MAX  Ka+  Fiesta  Focus  Focus  Fiesta  Focus  Fiesta  Fiesta  Focus  Fiesta  Fiesta  Focus  Fiesta  Fiesta  Focus  Kuga  Edge  C-MAX  Kuga  Focus  Fiesta  Fiesta  Focus  Focus  Focus  Focus  Focus  Kuga  Fiesta  Mondeo  Kuga  Focus  Fiesta  C-MAX  Fiesta  Focus  Kuga  Fiesta  Focus  Focus  Fiesta  C-MAX  Fiesta  Ka+  Fiesta  Fiesta  Focus  Focus  Focus  EcoSport  C-MAX  C-MAX  Kuga  Focus  Fiesta  EcoSport  Fiesta  Fiesta  Focus  Fiesta  B-MAX  S-MAX  Fiesta  Focus  S-MAX  Kuga  Kuga  Fiesta  Focus  Focus  Fiesta  EcoSport  Puma  Fiesta  EcoSport  Fiesta  Fiesta  Focus  EcoSport  Kuga  Fiesta  Focus  Focus  Fiesta  Fiesta  EcoSport  EcoSport  Fiesta  Ka+  Ka+  Fiesta  Fiesta  EcoSport  C-MAX  Mondeo  Fiesta  Fiesta  Fiesta  Focus  Fiesta  Fiesta  Mondeo  Mondeo  Fiesta  Kuga  Fiesta  Kuga  B-MAX  Focus  Focus  KA  Kuga  Kuga  EcoSport  Fiesta  Edge  Focus  Focus  Fiesta  Fiesta  Mondeo  Ka+  Fiesta  Focus  Kuga  Fiesta  Focus  Focus  KA  Fiesta  Galaxy  Fiesta  KA  Fiesta  Kuga  Kuga  Focus  Mondeo  Fiesta  Focus  Kuga  Kuga  Focus  Kuga  Focus  Mondeo  Ka+  Ka+  Fiesta  Focus  C-MAX  Kuga  Fiesta  Focus  Kuga  EcoSport  Fiesta  EcoSport  Fiesta  Fiesta  Focus  Fiesta  Kuga  Kuga  Kuga  Ka+  Fiesta  EcoSport  Fiesta  Fiesta  Fiesta  Fiesta  Fiesta  EcoSport  Galaxy  Fiesta  Mondeo  Fiesta  Kuga  Ka+  Fiesta  Galaxy  Focus  Kuga  Fiesta  S-MAX  Focus  Fiesta  Tourneo Custom  Kuga  Fiesta  Mondeo  Fiesta  Focus  Edge  Fiesta  Focus  Fiesta  Fiesta  Fiesta  Kuga  Kuga  Kuga  Fiesta  Kuga  Focus  Fiesta  Ka+  Ka+  Fiesta  Fiesta  Fiesta  Grand C-MAX  Fiesta  Ka+  Fiesta  Focus  EcoSport  Fiesta  Kuga  Focus  EcoSport  Fiesta  Focus  Kuga  Fiesta  Focus  EcoSport  Focus  B-MAX  Focus  EcoSport  Fiesta  Kuga  Focus  Fiesta  Fiesta  Focus  Focus  Fiesta  Focus  Fiesta  EcoSport  Fiesta  Focus  Focus  Focus  B-MAX  Fiesta  Focus  Focus  Fiesta  Fiesta  Fiesta  Focus  Edge  Fiesta  Fiesta  Focus  Fiesta  Fiesta  Fiesta  Fiesta  EcoSport  B-MAX  Fiesta  Fiesta  Fiesta  Focus  Kuga  Focus  Fiesta  Fiesta  C-MAX  Fiesta  Fiesta  Kuga  Fiesta  EcoSport  Focus  Focus  Fiesta  Fiesta  Focus  Fiesta  Fiesta  Fiesta  Fiesta  Edge  B-MAX  Fiesta  Ka+  Edge  Mondeo  Fiesta  EcoSport  Fiesta  C-MAX  Kuga  Fiesta  Fiesta  Kuga  Edge  Fiesta  Fiesta  Fiesta  EcoSport  S-MAX  Edge  Galaxy  Mondeo  Fiesta  EcoSport  Ka+  Fiesta  C-MAX  Fiesta  Fiesta  Focus  Focus  Focus  EcoSport  Focus  Fiesta  Fiesta  Fiesta  EcoSport  Kuga  Focus  Fiesta  Fiesta  Focus  Fiesta  Fiesta  Focus  Ka+  Fiesta  Fiesta  Kuga  Fiesta  Fiesta  Fiesta  Fiesta  Fiesta  Focus  Grand C-MAX  Fiesta  Fiesta  Fiesta  Focus  Focus  Kuga  Kuga  Focus  Focus  Fiesta  KA  Fiesta  Fiesta  Kuga  Focus  Fiesta  Tourneo Custom  Focus  C-MAX  Grand Tourneo Connect  Mondeo  Focus  Mondeo  Fiesta  Focus  EcoSport  Fiesta  EcoSport  Fiesta  Kuga  Focus  Fiesta  Galaxy  EcoSport  C-MAX  Fiesta  Grand C-MAX  Fiesta  Focus  Focus  Fiesta  Fiesta  Fiesta  Fiesta  Fiesta  Fiesta  Fiesta  Fiesta  Fiesta  Fiesta  Fiesta  Fiesta  Fiesta  Fiesta  Fiesta  Fiesta  Focus  Fiesta  C-MAX  Focus  Fiesta  Focus  Focus  Focus  Fiesta  Fiesta  Focus  Fiesta  Fiesta  Ka+  Fiesta  Fiesta  Kuga  Focus  Edge  Focus  C-MAX  Fiesta  Focus  Focus  Focus  Fiesta  Fiesta  Fiesta  Fiesta  Focus  Fiesta  Fiesta  Fiesta  Fiesta  Fiesta  Kuga  Focus  Fiesta  Fiesta  Fiesta  Fiesta  Kuga  Kuga  Focus  Fiesta  Fiesta  Fiesta  Focus  Kuga  Fiesta  Focus  Kuga  Puma  Fiesta  Focus  Focus  Fiesta  Fiesta  Fiesta  Focus  Fiesta  Fiesta  Kuga  Focus  Kuga  Focus  Fiesta  Fiesta  Fiesta  Fiesta  Focus  Fiesta  Edge  Kuga  Fiesta  Kuga  Focus  EcoSport  Focus  Focus  EcoSport  Focus  EcoSport  Fiesta  C-MAX  EcoSport  Fiesta  Focus  Focus  EcoSport  Fiesta  Kuga  Fiesta  Fiesta  Fiesta  Fiesta  Fiesta  Focus  EcoSport  Ka+  Focus  Fiesta  EcoSport  Focus  Kuga  EcoSport  Focus  Tourneo Connect  Focus  Fiesta  Focus  Fiesta  Fiesta  Fiesta  Fiesta  Focus  Fiesta  Fiesta  Focus  Ka+  Fiesta  Focus  KA  Kuga  Fiesta  Focus  Focus  Fiesta  Fiesta  KA  Grand Tourneo Connect  KA  Tourneo Custom  Kuga  KA  Fiesta  Focus  Fiesta  C-MAX  Kuga  EcoSport  Focus  Fiesta  Fiesta  Kuga  Focus  Focus  Kuga  Kuga  Fiesta  Focus  B-MAX  Focus  Focus  S-MAX  Fiesta  EcoSport  Fiesta  Fiesta  Focus  Kuga  Fiesta  Kuga  B-MAX  Mondeo  Fiesta  Fiesta  Focus  Focus  Mondeo  Kuga  Focus  Fiesta  Fiesta  EcoSport  Fiesta  Focus  Focus  EcoSport  Kuga  Kuga  S-MAX  Grand Tourneo Connect  B-MAX  Fiesta  Fiesta  Fiesta  S-MAX  Fiesta  Kuga  Fiesta  Focus  Fiesta  Fiesta  Fiesta  Fiesta  Edge  Focus  Focus  Focus  Kuga  Fiesta  S-MAX  Fiesta  Fiesta  Fiesta  Focus  Kuga  Fiesta  Fiesta  Fiesta  Fiesta  Ka+  Fiesta  Fiesta  Focus  Fiesta  Focus  Fiesta  Fiesta  Focus  S-MAX  Fiesta  Fiesta  Fiesta  Focus  Tourneo Custom  EcoSport  Kuga  Fiesta  Fiesta  Focus  Fiesta  Fiesta  Fiesta  Fiesta  Focus  Fiesta  Fiesta  Fiesta  C-MAX  Focus  Focus  B-MAX  Fiesta  Focus  EcoSport  Fiesta  Fiesta  Fiesta  Fiesta  Focus  Kuga  Focus  Tourneo Custom  Fiesta  Focus  Focus  Fiesta  Ka+  EcoSport  Ka+  Fiesta  Fiesta  EcoSport  Fiesta  Fiesta  Fiesta  Fiesta  Focus  Fiesta  Fiesta  Fiesta  Fiesta  Fiesta  Fiesta  Fiesta  Fiesta  Edge  Kuga  Fiesta  Focus  EcoSport  Focus  Focus  Ka+  EcoSport  Focus  Fiesta  Mondeo  Mondeo  Mondeo  Fiesta  Fiesta  Kuga  Mondeo  EcoSport  S-MAX  EcoSport  Focus  Focus  Focus  Fiesta  Kuga  Focus  Fiesta  EcoSport  Focus  Fiesta  EcoSport  Focus  Ka+  Mondeo  Fiesta  Focus  Fiesta  EcoSport  Fiesta  Fiesta  Fiesta  Fiesta  EcoSport  Fiesta  Focus  Kuga  Kuga  Ka+  B-MAX  Focus  Focus  EcoSport  EcoSport  Focus  Mondeo  S-MAX  Focus  EcoSport  Mondeo  Fiesta  Focus  Focus  Focus  Focus  Fiesta  Fiesta  Ka+  EcoSport  Edge  Ka+  Ka+  Fiesta  Focus  Kuga  Ka+  Focus  B-MAX  Fiesta  Fiesta  Focus  Focus  Fiesta  Fiesta  Focus  Fiesta  B-MAX  Tourneo Custom  Tourneo Custom  Focus  Focus  C-MAX  Focus  Fiesta  Focus  Fiesta  Fiesta  Focus  Fiesta  B-MAX  Fiesta  Fiesta  B-MAX  Focus  Focus  EcoSport  Fiesta  Focus  Focus  Fiesta  Kuga  Focus  EcoSport  Fiesta  Fiesta  Fiesta  Kuga  Kuga  Fiesta  Kuga  Fiesta  Fiesta  Fiesta  EcoSport  Fiesta  Focus  Fiesta  Ka+  S-MAX  Fiesta  C-MAX  Kuga  Fiesta  EcoSport  Edge  Ka+  C-MAX  Focus  Edge  Focus  S-MAX  Fiesta  Focus  Fiesta  Focus  B-MAX  EcoSport  Ka+  Fiesta  Focus  Fiesta  Focus  Mondeo  Ka+  Fiesta  Focus  Focus  Fiesta  Fiesta  Focus  Focus  Focus  Focus  Focus  Fiesta  Fiesta  Fiesta  Tourneo Connect  Fiesta  Fiesta  B-MAX  Fiesta  Focus  S-MAX  Kuga  C-MAX  Focus  EcoSport  Kuga  Fiesta  Focus  Fiesta  Focus  Galaxy  Kuga  Fiesta  Focus  Fiesta  Fiesta  Focus  Focus  Fiesta  Kuga  Fiesta  Fiesta  Focus  Kuga  Focus  Fiesta  Focus  Focus  Fiesta  Kuga  Focus  Focus  Mondeo  Fiesta  Mondeo  C-MAX  KA  Focus  EcoSport  B-MAX  Mondeo  Fiesta  EcoSport  Focus  Fiesta  Fiesta  Kuga  Fiesta  Fiesta  Fiesta  Focus  Fiesta  Focus  Fiesta  Fiesta  Puma  Focus  Kuga  Focus  Fiesta  Fiesta  EcoSport  Fiesta  Fiesta  EcoSport  Mondeo  Focus  Fiesta  Focus  Fiesta  Fiesta  Fiesta  Ka+  Kuga  Grand C-MAX  EcoSport  Kuga  Fiesta  Fiesta  Fiesta  EcoSport  EcoSport  Fiesta  Fiesta  Focus  Fiesta  Focus  Fiesta  Kuga  Focus  Fiesta  Focus  Fiesta  Ka+  Ka+  Fiesta  Fiesta  Focus  Focus  Fiesta  Fiesta  Kuga  Mustang  Fiesta  EcoSport  Focus  Mondeo  Fiesta  Fiesta  Focus  Fiesta  Focus  Fiesta  Tourneo Connect  Kuga  Kuga  Focus  Kuga  Mondeo  Focus  Mustang  Fiesta  Kuga  Fiesta  Fiesta  C-MAX  Focus  EcoSport  Fiesta  Fiesta  Fiesta  B-MAX  Focus  Fiesta  Kuga  EcoSport  EcoSport  Fiesta  Focus  Fiesta  Focus  Focus  Kuga  Fiesta  Focus  Kuga  C-MAX  EcoSport  Fiesta  Focus  Fiesta  Focus  C-MAX  Fiesta  Fiesta  Fiesta  Mondeo  Fiesta  Focus  Focus  Focus  Focus  Fiesta  Fiesta  Kuga  Fiesta  Fiesta  Puma  EcoSport  Focus  Focus  Kuga  Fiesta  Fiesta  Ka+  Fiesta  Fiesta  C-MAX  Focus  Focus  Mondeo  Mondeo  Fiesta  Focus  Focus  Mondeo  Fiesta  Focus  Focus  Focus  Fiesta  Focus  Fiesta  Fiesta  Fiesta  Focus  Fiesta  Ka+  Ka+  Ka+  Fiesta  Ka+  Focus  Ka+  Focus  Kuga  Focus  Fiesta  Ka+  Fiesta  Mondeo  Focus  Fiesta  Fiesta  Focus  Kuga  Focus  Fiesta  Focus  Kuga  Galaxy  Fiesta  Fiesta  Fiesta  EcoSport  Focus  Fiesta  S-MAX  Edge  S-MAX  B-MAX  Fiesta  Fiesta  Focus  Fiesta  KA  EcoSport  Focus  Fiesta  Focus  Fiesta  Grand Tourneo Connect  Fiesta  Kuga  Galaxy  KA  Kuga  Fiesta  Fiesta  S-MAX  Focus  Focus  Fiesta  Fiesta  Fiesta  Focus  Kuga  Focus  Fiesta  Fiesta  Fiesta  Fiesta  Fiesta  Fiesta  KA  Fiesta  Kuga  EcoSport  Kuga  Focus  Kuga  Grand C-MAX  Kuga  Kuga  Fiesta  Focus  Fiesta  Focus  Focus  Grand C-MAX  Fiesta  Fiesta  B-MAX  Fiesta  Fiesta  Kuga  Ka+  Fiesta  Fiesta  Focus  Fiesta  Mondeo  Fiesta  Fiesta  Fiesta  Focus  Fiesta  Focus  Fiesta  Focus  Fiesta  Fiesta  Kuga  EcoSport  Fiesta  Fiesta  Fiesta  Focus  Fiesta  Fiesta  Kuga  Kuga  Fiesta  Focus  C-MAX  EcoSport  EcoSport  Fiesta  Focus  Kuga  Edge  Focus  S-MAX  Fiesta  Kuga  Grand C-MAX  Fiesta  EcoSport  Focus  Fiesta  Fiesta  Fiesta  Ka+  Focus  Ka+  Focus  Fiesta  Fiesta  Ka+  Ka+  Focus  Fiesta  Focus  EcoSport  Fiesta  Fiesta  Fiesta  Fiesta  Mondeo  Focus  Mondeo  Edge  S-MAX  EcoSport  Kuga  Fiesta  Fiesta  Edge  Fiesta  Fiesta  Focus  Mondeo  Focus  Fiesta  Focus  Focus  Fiesta  Focus  Focus  Fiesta  Fiesta  Fiesta  Fiesta  Fiesta  Edge  Edge  Focus  Kuga  Kuga  Kuga  Focus  Fiesta  Focus  Fiesta  Focus  Focus  Fiesta  Fiesta  S-MAX  Focus  Fiesta  Focus  C-MAX  Kuga  Kuga  Fiesta  C-MAX  Fiesta  Fiesta  Mondeo  Fiesta  Fiesta  Fiesta  Fiesta  EcoSport  Fiesta  Focus  Focus  EcoSport  Focus  Focus  Focus  Focus  Focus  Fiesta  EcoSport  S-MAX  Fiesta  Fiesta  Fiesta  Focus  Kuga  C-MAX  Focus  Focus  Focus  Fiesta  Focus  Fiesta  Fiesta  B-MAX  Focus  Fiesta  Mondeo  Focus  Fiesta  Kuga  Fiesta  Fiesta  B-MAX  Ka+  Kuga  Focus  Fiesta  Fiesta  Fiesta  Focus  C-MAX  Fiesta  Focus  EcoSport  Focus  C-MAX  Fiesta  C-MAX  Kuga  Kuga  Fiesta  B-MAX  Focus  Kuga  Kuga  C-MAX  EcoSport  B-MAX  B-MAX  Focus  Fiesta  Fiesta  EcoSport  EcoSport  C-MAX  Edge  EcoSport  Fiesta  Fiesta  Kuga  EcoSport  Kuga  Focus  S-MAX  Focus  Focus  Focus  Fiesta  Fiesta  Fiesta  EcoSport  Kuga  Focus  Fiesta  Kuga  Grand C-MAX  Fiesta  Fiesta  Fiesta  Focus  EcoSport  Focus  Fiesta  Fiesta  Focus  Focus  Fiesta  Focus  Fiesta  Focus  Fiesta  Fiesta  Fiesta  Kuga  C-MAX  Fiesta  Focus  Fiesta  Fiesta  B-MAX  Focus  Focus  Fiesta  Kuga  C-MAX  Fiesta  Fiesta  C-MAX  Focus  Fiesta  Fiesta  Fiesta  Fiesta  Fiesta  Focus  Fiesta  Fiesta  Fiesta  Fiesta  Fiesta  EcoSport  Fiesta  Fiesta  Fiesta  Fiesta  Fiesta  Focus  Focus  Focus  B-MAX  Mondeo  Focus  Mondeo  Fiesta  Focus  Edge  Focus  S-MAX  Fiesta  Fiesta  Focus  Edge  EcoSport  Focus  Fiesta  Focus  Kuga  Fiesta  Fiesta  Fiesta  Focus  EcoSport  Focus  Fiesta  Kuga  Fiesta  Focus  Fiesta  Grand C-MAX  Focus  Fiesta  Fiesta  Fiesta  Kuga  C-MAX  Ka+  Fiesta  Fiesta  Fiesta  EcoSport  Fiesta  Focus  Fiesta  Mondeo  Focus  Kuga  Fiesta  Mondeo  Fiesta  Fiesta  Fiesta  Fiesta  C-MAX  Kuga  Focus  Fiesta  Kuga  Focus  Kuga  Fiesta  Focus  Focus  Fiesta  Focus  Kuga  Ka+  Focus  Focus  Kuga  Kuga  Kuga  S-MAX  Focus  Kuga  Focus  Fiesta  Focus  Ka+  Focus  Fiesta  C-MAX  Grand Tourneo Connect  Focus  Fiesta  EcoSport  S-MAX  Puma  EcoSport  Focus  Fiesta  Fiesta  EcoSport  Focus  Fiesta  Fiesta  Kuga  Fiesta  Focus  Focus  Ka+  Kuga  Focus  Fiesta  Focus  Focus  Fiesta  Focus  Focus  Mondeo  Focus  Kuga  Kuga  Kuga  C-MAX  Fiesta  Focus  Focus  EcoSport  Fiesta  Focus  Focus  EcoSport  Mondeo  Kuga  Fiesta  Fiesta  Focus  EcoSport  Fiesta  Fiesta  Fiesta  Ka+  Kuga  Focus  Kuga  Edge  Edge  Kuga  Focus  Kuga  Focus  Fiesta  Focus  Focus  Kuga  Fiesta  Fiesta  Fiesta  Fiesta  Focus  Fiesta  Fiesta  Ka+  Focus  Fiesta  Fiesta  Kuga  C-MAX  B-MAX  EcoSport  Focus  C-MAX  Grand C-MAX  Fiesta  Focus  Focus  B-MAX  EcoSport  EcoSport  Focus  Fiesta  C-MAX  C-MAX  Fiesta  S-MAX  Fiesta  Fiesta  Fiesta  Fiesta  Fiesta  Edge  Ka+  Ka+  Focus  Edge  Edge  Kuga  Fiesta  Focus  Focus  Focus  Focus  Focus  Focus  Focus  Edge  Kuga  S-MAX  Edge  Focus  Focus  Fiesta  Edge  Fiesta  EcoSport  Fiesta  C-MAX  Fiesta  Fiesta  Fiesta  B-MAX  Focus  Ka+  Fiesta  Fiesta  Focus  Fiesta  Fiesta  Focus  Focus  Focus  Focus  Focus  Focus  Focus  Fiesta  Grand C-MAX  Fiesta  Mondeo  C-MAX  Kuga  EcoSport  Galaxy  Fiesta  Focus  Fiesta  Fiesta  Focus  Mondeo  Focus  Fiesta  Fiesta  EcoSport  Mondeo  Fiesta  Fiesta  Fiesta  Focus  Fiesta  Focus  Focus  Fiesta  C-MAX  Kuga  Fiesta  Focus  B-MAX  Fiesta  Focus  B-MAX  Edge  Fiesta  Fiesta  Galaxy  Fiesta  Fiesta  Focus  B-MAX  B-MAX  Focus  Fiesta  Focus  C-MAX  Fiesta  KA  Fiesta  Mondeo  C-MAX  Kuga  C-MAX  Kuga  Fiesta  C-MAX  Focus  Fiesta  Ka+  Fiesta  Fiesta  Fiesta  Focus  EcoSport  Fiesta  Fiesta  Focus  Puma  Focus  Focus  Focus  Focus  Focus  Fiesta  Ka+  Focus  Focus  Fiesta  Grand C-MAX  Grand C-MAX  Fiesta  Focus  Fiesta  Focus  Fiesta  Fiesta  Fiesta  Fiesta  Fiesta  EcoSport  Fiesta  Focus  Galaxy  Kuga  S-MAX  Grand C-MAX  B-MAX  EcoSport  EcoSport  C-MAX  Focus  Kuga  Kuga  Fiesta  Focus  Fiesta  Mondeo  B-MAX  Fiesta  Fiesta  Focus  Tourneo Connect  Grand C-MAX  C-MAX  Fiesta  Focus  Fiesta  Focus  Fiesta  EcoSport  Focus  Focus  Focus  Focus  Ka+  Fiesta  Focus  Fiesta  KA  Focus  C-MAX  Fiesta  EcoSport  Kuga  Focus  Focus  C-MAX  Kuga  Tourneo Custom  Fiesta  Mondeo  Fiesta  C-MAX  Fiesta  Fiesta  Focus  Fiesta  Focus  Kuga  Focus  Focus  B-MAX  Fiesta  Mondeo  Kuga  B-MAX  Fiesta  Fiesta  Focus  Ka+  Edge  B-MAX  Fiesta  Kuga  Kuga  Kuga  Kuga  Kuga  Fiesta  Focus  Fiesta  Focus  Edge  Grand C-MAX  Focus  Fiesta  Kuga  Focus  Fiesta  Fiesta  Focus  Kuga  Fiesta  Fiesta  Kuga  Fiesta  Fiesta  Kuga  Fiesta  Fiesta  Focus  Kuga  Fiesta  Kuga  Fiesta  EcoSport  Ka+  Fiesta  Fiesta  EcoSport  Kuga  Kuga  Puma  Mondeo  Focus  Focus  Focus  Fiesta  C-MAX  Kuga  Fiesta  Fiesta  Fiesta  Fiesta  Focus  Focus  Ka+  Ka+  Ka+  Ka+  Fiesta  Focus  Focus  Kuga  Focus  Kuga  Focus  Focus  Fiesta  Fiesta  Focus  Focus  EcoSport  Fiesta  Fiesta  Fiesta  Focus  Kuga  S-MAX  Focus  Fiesta  Fiesta  EcoSport  Fiesta  Fiesta  Focus  Kuga  Kuga  Fiesta  Fiesta  Focus  Focus  Fiesta  Focus  Focus  Focus  Grand C-MAX  Fiesta  Fiesta  Kuga  Kuga  Fiesta  Kuga  Fiesta  C-MAX  Fiesta  Fiesta  Focus  Focus  Focus  Focus  Fiesta  Fiesta  Fiesta  Focus  Fiesta  Focus  Focus  Fiesta  EcoSport  C-MAX  KA  Kuga  Fiesta  Fiesta  Fiesta  Fiesta  Fiesta  Focus  Focus  Fiesta  Focus  Fiesta  Kuga  Fiesta  Focus  Kuga  Fiesta  Fiesta  Focus  S-MAX  Fiesta  Fiesta  Fiesta  Fiesta  Fiesta  B-MAX  Fiesta  Fiesta  Fiesta  Fiesta  Fiesta  Fiesta  Fiesta  B-MAX  Focus  Fiesta  Kuga  Fiesta  Fiesta  B-MAX  Fiesta  Kuga  Kuga  Kuga  Kuga  Kuga  Focus  Kuga  Fiesta  Kuga  Focus  Fiesta  Focus  Mondeo  Fiesta  Kuga  Fiesta  Kuga  Kuga  Kuga  Fiesta  Kuga  EcoSport  Focus  C-MAX  Fiesta  Fiesta  Focus  Focus  Focus  Fiesta  Fiesta  Focus  Mondeo  Fiesta  Focus  Fiesta  Fiesta  Fiesta  Fiesta  Fiesta  Focus  Fiesta  Focus  Focus  Focus  Fiesta  Focus  Fiesta  B-MAX  Mondeo  Fiesta  Kuga  Kuga  Ka+  Focus  Focus  Kuga  Kuga  Kuga  Fiesta  Fiesta  C-MAX  Kuga  Kuga  Fiesta  Fiesta  Kuga  B-MAX  Focus  Fiesta  Focus  Fiesta  Focus  Fiesta  Fiesta  Kuga  Fiesta  Fiesta  Fiesta  Fiesta  Fiesta  Fiesta  Focus  Kuga  Focus  Fiesta  Focus  Focus  Fiesta  Fiesta  Ka+  Fiesta  Focus  Fiesta  Focus  Fiesta  Fiesta  Focus  Focus  Focus  Fiesta  Fiesta  Tourneo Custom  Kuga  S-MAX  Fiesta  Focus  Focus  Fiesta  Fiesta  Fiesta  Fiesta  Focus  Fiesta  Focus  Focus  Fiesta  Focus  Focus  Fiesta  Fiesta  B-MAX  Fiesta  Fiesta  Kuga  Fiesta  Fiesta  Fiesta  Fiesta  Kuga  Kuga  Fiesta  Fiesta  Puma  Focus  Focus  Fiesta  Focus  Focus  Fiesta  Fiesta  Fiesta  Focus  Fiesta  Fiesta  Fiesta  Focus  Focus  Focus  Fiesta  Kuga  Fiesta  Fiesta  Focus  Fiesta  Fiesta  Fiesta  Fiesta  Kuga  Fiesta  Kuga  Fiesta  Fiesta  Fiesta  Fiesta  Focus  Tourneo Custom  Tourneo Custom  Fiesta  Fiesta  Kuga  S-MAX  Fiesta  Kuga  Fiesta  EcoSport  Fiesta  EcoSport  Fiesta  Ka+  Fiesta  Fiesta  Fiesta  Kuga  Fiesta  Kuga  C-MAX  Fiesta  Ka+  Focus  Ka+  Focus  Mondeo  EcoSport  Fiesta  Mondeo  Mustang  Fiesta  Kuga  EcoSport  Kuga  EcoSport  Kuga  Fiesta  Fiesta  Fiesta  Fiesta  Fiesta  B-MAX  Fiesta  EcoSport  Fiesta  Fiesta  Fiesta  EcoSport  Focus  Fiesta  Fiesta  EcoSport  Ka+  Fiesta  B-MAX  Focus  Fiesta  S-MAX  Mondeo  Fiesta  EcoSport  Fiesta  Fiesta  Fiesta  Fiesta  Fiesta  Fiesta  Fiesta  Fiesta  Fiesta  Ka+  Fiesta  Focus  Fiesta  Focus  Focus  Fiesta  Focus  Focus  Focus  Focus  Focus  Fiesta  Fiesta  Focus  EcoSport  Focus  Kuga  Fiesta  Fiesta  Focus  Fiesta  S-MAX  Fiesta  Fiesta  Kuga  Fiesta  Fiesta  Focus  Focus  Focus  Focus  Fiesta  Fiesta  Focus  EcoSport  Fiesta  Fiesta  Edge  B-MAX  Focus  Kuga  Fiesta  Focus  Kuga  Focus  Fiesta  Fiesta  Fiesta  Fiesta  Kuga  Focus  Fiesta  Focus  Focus  Focus  Focus  Fiesta  Fiesta  Fiesta  Focus  Fiesta  Focus  Fiesta  Focus  Fiesta  B-MAX  Focus  Focus  Fiesta  Focus  Focus  Fiesta  Fiesta  Focus  Fiesta  EcoSport  Focus  Fiesta  Focus  Fiesta  Fiesta  Fiesta  Fiesta  Kuga  B-MAX  Kuga  Fiesta  Fiesta  Fiesta  Fiesta  Edge  Focus  Mondeo  Focus  Focus  Focus  Fiesta  Fiesta  Fiesta  Focus  Focus  Focus  Ka+  Edge  Kuga  Focus  Focus  Focus  Focus  Fiesta  Fiesta  Focus  Focus  Fiesta  Fiesta  Fiesta  Kuga  Fiesta  Kuga  Kuga  Kuga  Kuga  Kuga  Fiesta  Focus  Focus  Focus  Focus  EcoSport  Fiesta  Fiesta  Fiesta  Fiesta  Fiesta  S-MAX  Focus  Fiesta  Focus  Fiesta  Focus  Fiesta  Fiesta  Fiesta  Fiesta  Fiesta  Fiesta  Fiesta  Focus  C-MAX  Fiesta  Focus  Kuga  Kuga  Focus  Focus  Fiesta  C-MAX  Focus  EcoSport  Ka+  Kuga  Galaxy  Focus  Fiesta  Fiesta  Fiesta  Fiesta  EcoSport  Fiesta  Fiesta  S-MAX  Fiesta  Kuga  Fiesta  Grand C-MAX  Kuga  C-MAX  Focus  Kuga  Fiesta  Fiesta  Fiesta  Focus  Fiesta  Focus  Fiesta  Fiesta  Focus  Focus  Fiesta  Kuga  Fiesta  Fiesta  Fiesta  Fiesta  Fiesta  Fiesta  Fiesta  Fiesta  Fiesta  Fiesta  Fiesta  Kuga  Kuga  Fiesta  KA  EcoSport  Edge  Focus  Fiesta  Ka+  Kuga  Focus  Kuga  Focus  Kuga  Kuga  Ka+  Mondeo  Fiesta  Fiesta  Kuga  Fiesta  Focus  EcoSport  Ka+  Focus  Kuga  Fiesta  Fiesta  Fiesta  Fiesta  Edge  Fiesta  Fiesta  Kuga  Focus  Kuga  Fiesta  Fiesta  Fiesta  Focus  Focus  Focus  S-MAX  Fiesta  Fiesta  Focus  Focus  B-MAX  Fiesta  C-MAX  Focus  Focus  Focus  Kuga  EcoSport  Fiesta  Fiesta  Fiesta  Focus  Fiesta  Kuga  Fiesta  Focus  Fiesta  Fiesta  Focus  Kuga  Kuga  Focus  Focus  Focus  Fiesta  Focus  Focus  Fiesta  Focus  Fiesta  Fiesta  Fiesta  Fiesta  Fiesta  EcoSport  Fiesta  Fiesta  Focus  Focus  EcoSport  Fiesta  Focus  S-MAX  S-MAX  Focus  Fiesta  Fiesta  Focus  Fiesta  Kuga  Fiesta  Focus  Fiesta  Fiesta  Fiesta  Fiesta  Fiesta  Fiesta  Focus  Mondeo  Kuga  Fiesta  Focus  Fiesta  Galaxy  Kuga  B-MAX  Fiesta  Fiesta  Fiesta  Mondeo  Focus  Fiesta  Edge  Kuga  Kuga  Focus  Fiesta  Fiesta  EcoSport  Fiesta  Kuga  Fiesta  Focus  Kuga  EcoSport  Focus  Focus  C-MAX  Fiesta  Fiesta  Fiesta  B-MAX  Kuga  Focus  Focus  Edge  Fiesta  Fiesta  C-MAX  EcoSport  Fiesta  EcoSport  Fiesta  Fiesta  Fiesta  Fiesta  Kuga  EcoSport  Galaxy  Fiesta  Fiesta  EcoSport  Fiesta  Focus  Fiesta  Focus  Focus  Focus  Focus  Focus  Focus  Focus  Kuga  Galaxy  Fiesta  Fiesta  Mondeo  Mondeo  Focus  Galaxy  Kuga  Edge  Kuga  Focus  Focus  EcoSport  Edge  Focus  Kuga  Fiesta  Focus  Focus  Ka+  Ka+  Ka+  Ka+  Ka+  EcoSport  Focus  Fiesta  Focus  Fiesta  Fiesta  Fiesta  Focus  EcoSport  Ka+  Ka+  Ka+  Puma  Fiesta  Focus  Fiesta  EcoSport  Focus  Kuga  Fiesta  Fiesta  Ka+  Fiesta  Fiesta  Fiesta  Focus  Ka+  Fiesta  Fiesta  Fiesta  Focus  KA  Focus  Mondeo  Fiesta  Fiesta  Edge  EcoSport  Focus  Fiesta  Fiesta  Fiesta  Mondeo  Mondeo  Fiesta  Fiesta  Fiesta  Fiesta  Fiesta  Kuga  EcoSport  B-MAX  Galaxy  Ka+  Fiesta  Fiesta  Fiesta  Focus  Fiesta  Fiesta  Fiesta  Fiesta  Ka+  Ka+  Fiesta  Ka+  Fiesta  EcoSport  Edge  Fiesta  KA  Fiesta  Focus  Focus  Focus  Focus  Fiesta  EcoSport  Focus  C-MAX  Fiesta  Focus  Focus  Fiesta  Fiesta  Fiesta  Fiesta  Fiesta  Focus  Fiesta  Ka+  EcoSport  Fiesta  Fiesta  Fiesta  Fiesta  Kuga  Fiesta  EcoSport  Mondeo  EcoSport  Fiesta  Focus  Fiesta  EcoSport  Fiesta  Fiesta  Fiesta  Fiesta  Focus  Fiesta  Fiesta  Focus  Kuga  Grand C-MAX  Focus  Fiesta  Ka+  Fiesta  Ka+  C-MAX  Ka+  Focus  Fiesta  Ka+  Fiesta  Ka+  Tourneo Custom  Fiesta  Focus  Focus  Focus  Focus  Focus  Focus  Fiesta  Focus  Mondeo  EcoSport  Fiesta  Grand C-MAX  Fiesta  Fiesta  Fiesta  Fiesta  EcoSport  Fiesta  Focus  Fiesta  EcoSport  Focus  Fiesta  Kuga  Kuga  Fiesta  Focus  Fiesta  B-MAX  Fiesta  Fiesta  Fiesta  Mondeo  Edge  Puma  Fiesta  EcoSport  Fiesta  Fiesta  Fiesta  B-MAX  Fiesta  Fiesta  Fiesta  Focus  Fiesta  Mondeo  Fiesta  Fiesta  Mondeo  Mondeo  Mondeo  Puma  Fiesta  Focus  Fiesta  Fiesta  Fiesta  Fiesta  Fiesta  Fiesta  Ka+  Kuga  Focus  Fiesta  Mondeo  Mondeo  Focus  Fiesta  Mondeo  Mondeo  Focus  Fiesta  EcoSport  Fiesta  Fiesta  Focus  EcoSport  EcoSport  Focus  EcoSport  Focus  B-MAX  Kuga  Focus  Kuga  Galaxy  Fiesta  B-MAX  B-MAX  Fiesta  Mondeo  Mondeo  EcoSport  Fiesta  Fiesta  Fiesta  Focus  EcoSport  Focus  S-MAX  Fiesta  Focus  Kuga  Kuga  Kuga  Edge  Fiesta  Fiesta  Focus  Focus  Fiesta  Focus  C-MAX  Fiesta  EcoSport  Ka+  Fiesta  Fiesta  Fiesta  Fiesta  Kuga  Fiesta  Focus  S-MAX  Fiesta  KA  Fiesta  EcoSport  Fiesta  EcoSport  Focus  Fiesta  Mondeo  Mondeo  Mondeo  Fiesta  Mondeo  Mondeo  Fiesta  Focus  Kuga  Kuga  Focus  Focus  Fiesta  Focus  Focus  Focus  EcoSport  EcoSport  Fiesta  Focus  Grand C-MAX  EcoSport  Focus  S-MAX  Ka+  Fiesta  Ka+  C-MAX  Fiesta  Mondeo  Focus  Focus  Fiesta  Focus  Kuga  Fiesta  Kuga  Focus  Fiesta  Focus  Fiesta  Fiesta  Fiesta  Fiesta  Fiesta  Fiesta  Focus  Fiesta  C-MAX  Focus  Mondeo  Fiesta  Fiesta  Fiesta  Focus  Focus  S-MAX  Focus  Fiesta  Edge  Fiesta  Ka+  C-MAX  EcoSport  Fiesta  Fiesta  Focus  Focus  Mondeo  Focus  Kuga  Kuga  Focus  EcoSport  Fiesta  Fiesta  Focus  EcoSport  Fiesta  EcoSport  Focus  Fiesta  Fiesta  Fiesta  Kuga  Fiesta  Fiesta  Edge  Fiesta  Tourneo Custom  Fiesta  EcoSport  Fiesta  Fiesta  Focus  C-MAX  Kuga  Fiesta  EcoSport  EcoSport  Focus  Fiesta  Focus  S-MAX  Kuga  Fiesta  Focus  EcoSport  Focus  Tourneo Custom  B-MAX  Fiesta  C-MAX  Focus  Fiesta  Kuga  Kuga  Fiesta  Fiesta  Focus  Kuga  Fiesta  Fiesta  Fiesta  Focus  Focus  Fiesta  Galaxy  Fiesta  EcoSport  Fiesta  Fiesta  Fiesta  C-MAX  Focus  Focus  Focus  Focus  Fiesta  Focus  Focus  Kuga  Kuga  Focus  Focus  Fiesta  Fiesta  Focus  Focus  C-MAX  Focus  Fiesta  Fiesta  Fiesta  Focus  Puma  Focus  Fiesta  Focus  Mondeo  Focus  Fiesta  EcoSport  Fiesta  Fiesta  Kuga  Fiesta  Ka+  Fiesta  EcoSport  Focus  Focus  Fiesta  Focus  Fiesta  Fiesta  Focus  Focus  Tourneo Connect  Tourneo Connect  Fiesta  Focus  Fiesta  Focus  Fiesta  Focus  Fiesta  Fiesta  Focus  Fiesta  Focus  Fiesta  Fiesta  Focus  Focus  Grand Tourneo Connect  Mondeo  Fiesta  Fiesta  Focus  Fiesta  Fiesta  Kuga  Fiesta  Fiesta  Fiesta  Focus  Puma  Puma  Fiesta  Focus  C-MAX  Kuga  Fiesta  Fiesta  Focus  Fiesta  Focus  Fiesta  Focus  Focus  Fiesta  Focus  Fiesta  Fiesta  B-MAX  KA  Fiesta  Fiesta  Fiesta  B-MAX  Fiesta  Focus  Focus  Focus  Fiesta  Fiesta  Fiesta  Fiesta  EcoSport  Fiesta  Fiesta  Focus  Fiesta  Fiesta  Fiesta  Fiesta  Fiesta  Focus  Fiesta  Focus  Kuga  Ka+  Fiesta  Kuga  Ka+  Focus  Focus  Fiesta  Fiesta  Kuga  Galaxy  Fiesta  Grand Tourneo Connect  Fiesta  Kuga  Grand C-MAX  S-MAX  Focus  Focus  Fiesta  Fiesta  Fiesta  Fiesta  Fiesta  Focus  Fiesta  Fiesta  Fiesta  Ka+  Fiesta  Fiesta  Focus  S-MAX  Focus  Fiesta  Focus  Fiesta  Kuga  Focus  Tourneo Custom  Kuga  C-MAX  Kuga  C-MAX  Focus  Kuga  Fiesta  Focus  Fiesta  Fiesta  Focus  Fiesta  Fiesta  Fiesta  Kuga  S-MAX  Kuga  EcoSport  Focus  Fiesta  Fiesta  C-MAX  EcoSport  Fiesta  Fiesta  Focus  Fiesta  Fiesta  Edge  Kuga  Fiesta  B-MAX  Fiesta  Fiesta  EcoSport  Fiesta  Fiesta  Fiesta  Mondeo  Mondeo  Fiesta  Kuga  EcoSport  Focus  Focus  Kuga  Focus  Focus  Fiesta  Focus  EcoSport  Fiesta  Focus  Fiesta  Fiesta  Focus  Focus  Ka+  Fiesta  Kuga  B-MAX  Fiesta  Fiesta  Fiesta  Fiesta  Fiesta  Fiesta  Fiesta  Focus  Fiesta  Fiesta  Fiesta  Edge  Focus  Focus  Fiesta  Fiesta  Focus  Focus  Fiesta  Fiesta  EcoSport  S-MAX  EcoSport  Kuga  Focus  Focus  Focus  Focus  Fiesta  Focus  Focus  Fiesta  Galaxy  Fiesta  Fiesta  Fiesta  Focus  Kuga  EcoSport  Fiesta  Fiesta  Fiesta  Fiesta  Focus  EcoSport  Mondeo  Fiesta  Focus  Fiesta  Ka+  Focus  Fiesta  Kuga  Focus  C-MAX  Mustang  Kuga  Focus  Kuga  B-MAX  C-MAX  Puma  Kuga  Ka+  Edge  EcoSport  Focus  Kuga  Fiesta  Focus  Fiesta  Fiesta  Fiesta  Puma  Fiesta  EcoSport  Fiesta  Focus  Focus  Fiesta  Fiesta  Focus  Fiesta  Fiesta  Ka+  Fiesta  Focus  Focus  Focus  Fiesta  Fiesta  Galaxy  Kuga  Fiesta  Kuga  Fiesta  Fiesta  C-MAX  Grand C-MAX  B-MAX  Focus  EcoSport  Fiesta  Fiesta  Fiesta  Focus  Fiesta  Focus  EcoSport  Fiesta  Fiesta  Focus  Kuga  Fiesta  Fiesta  Kuga  Fiesta  Fiesta  Fiesta  Fiesta  EcoSport  Focus  Fiesta  Kuga  Fiesta  Focus  Focus  Focus  Kuga  C-MAX  Kuga  Fiesta  Focus  C-MAX  Galaxy  Focus  C-MAX  Kuga  Kuga  Grand C-MAX  C-MAX  Fiesta  Fiesta  Fiesta  Fiesta  Fiesta  Kuga  Grand Tourneo Connect  Focus  Fiesta  Focus  Fiesta  Fiesta  Focus  Fiesta  Kuga  Grand C-MAX  S-MAX  Galaxy  Grand C-MAX  Focus  Fiesta  Grand C-MAX  EcoSport  Focus  Focus  Fiesta  Focus  Kuga  Fiesta  Focus  Focus  Puma  C-MAX  Fiesta  B-MAX  Focus  Focus  Ka+  Ka+  EcoSport  EcoSport  Fiesta  Ka+  Fiesta  B-MAX  Fiesta  Fiesta  Fiesta  EcoSport  Focus  Kuga  EcoSport  Focus  Focus  Focus  Fiesta  Fiesta  Focus  Focus  Puma  Fiesta  Kuga  Fiesta  B-MAX  S-MAX  Fiesta  Grand C-MAX  Fiesta  Fiesta  Focus  Focus  Focus  Kuga  Mondeo  Mondeo  Fiesta  B-MAX  Focus  Fiesta  Fiesta  Fiesta  Fiesta  Fiesta  Fiesta  Fiesta  Fiesta  Fiesta  Galaxy  Kuga  Fiesta  Mondeo  Mondeo  Mondeo  EcoSport  Ka+  C-MAX  Focus  EcoSport  Fiesta  Fiesta  Fiesta  Fiesta  Fiesta  Fiesta  Focus  Focus  Fiesta  Fiesta  Focus  Focus  Focus  Fiesta  B-MAX  EcoSport  Fiesta  Fiesta  Focus  EcoSport  Fiesta  Fiesta  EcoSport  Focus  Kuga  Fiesta  Focus  EcoSport  Focus  EcoSport  EcoSport  Fiesta  Fiesta  Fiesta  Fiesta  Tourneo Custom  Focus  Fiesta  Fiesta  Fiesta  Ka+  Fiesta  Fiesta  Kuga  Focus  Fiesta  Fiesta  Fiesta  Fiesta  Mustang  EcoSport  Fiesta  Fiesta  B-MAX  Fiesta  Edge  Fiesta  Mondeo  Fiesta  Fiesta  EcoSport  Fiesta  Focus  Focus  Fiesta  Fiesta  Kuga  C-MAX  Fiesta  Fiesta  Fiesta  C-MAX  Fiesta  Ka+  Fiesta  Grand C-MAX  EcoSport  EcoSport  EcoSport  Fiesta  Focus  Kuga  Fiesta  B-MAX  Kuga  Fiesta  C-MAX  Fiesta  EcoSport  EcoSport  Fiesta  Fiesta  Ka+  Focus  Kuga  Fiesta  EcoSport  Focus  Fiesta  Fiesta  Grand C-MAX  Fiesta  Fiesta  Fiesta  B-MAX  EcoSport  Mondeo  Galaxy  Focus  Focus  Focus  Fiesta  Kuga  Ka+  Fiesta  C-MAX  Kuga  Fiesta  Fiesta  Fiesta  Fiesta  Fiesta  Fiesta  Fiesta  EcoSport  Fiesta  EcoSport  Kuga  Fiesta  Focus  S-MAX  EcoSport  Edge  Focus  C-MAX  Fiesta  Kuga  EcoSport  Focus  Kuga  EcoSport  EcoSport  Ka+  Focus  Mustang  Focus  Fiesta  EcoSport  Focus  Focus  Focus  C-MAX  Focus  Tourneo Custom  Fiesta  Kuga  Kuga  Kuga  Fiesta  Fiesta  Fiesta  S-MAX  Focus  Fiesta  EcoSport  Fiesta  EcoSport  Fiesta  Focus  Fiesta  Fiesta  Focus  Focus  Fiesta  Fiesta  Fiesta  Kuga  EcoSport  Kuga  Fiesta  Fiesta  Kuga  Fiesta  Focus  Edge  Ka+  EcoSport  Fiesta  EcoSport  Fiesta  Fiesta  Focus  Mondeo  Fiesta  EcoSport  Focus  Focus  Focus  Mondeo  Fiesta  Kuga  C-MAX  Fiesta  Fiesta  Fiesta  Mondeo  Mondeo  Mondeo  B-MAX  EcoSport  Fiesta  Fiesta  Fiesta  C-MAX  Fiesta  Fiesta  Fiesta  Focus  Focus  Focus  Puma  Fiesta  Focus  Focus  Focus  Kuga  Focus  Fiesta  Focus  Kuga  B-MAX  Edge  Kuga  Focus  Galaxy  EcoSport  Grand C-MAX  Focus  Fiesta  Mondeo  Kuga  B-MAX  Focus  Focus  Fiesta  Puma  Fiesta  Kuga  Focus  Fiesta  Focus  Fiesta  Focus  Kuga  Ka+  Fiesta  Focus  Fiesta  Kuga  Fiesta  Fiesta  Fiesta  Fiesta  Fiesta  Fiesta  Fiesta  Focus  Focus  Fiesta  Fiesta  B-MAX  Fiesta  Fiesta  Focus  Kuga  Fiesta  Kuga  EcoSport  Fiesta  Mondeo  Focus  Focus  Fiesta  Fiesta  Fiesta  Fiesta  Fiesta  Kuga  Focus  Focus  Mondeo  Focus  EcoSport  EcoSport  Focus  Fiesta  Grand C-MAX  Fiesta  Focus  Focus  Fiesta  Fiesta  Focus  Fiesta  Fiesta  Ka+  Fiesta  Kuga  Focus  Puma  Fiesta  Fiesta  C-MAX  Fiesta  Focus  Kuga  Focus  Kuga  Fiesta  Kuga  Fiesta  Fiesta  Fiesta  Kuga  EcoSport  Fiesta  Fiesta  Fiesta  EcoSport  Kuga  Fiesta  S-MAX  Fiesta  Fiesta  Kuga  Focus  EcoSport  Fiesta  Fiesta  Focus  Focus  Kuga  Focus  Fiesta  Focus  Focus  EcoSport  Fiesta  Fiesta  Focus  Focus  Fiesta  Focus  Fiesta  Fiesta  Focus  Focus  Fiesta  Fiesta  Fiesta  Kuga  Focus  Fiesta  Focus  Focus  Fiesta  Fiesta  Fiesta  Focus  EcoSport  Focus  Focus  Fiesta  EcoSport  Kuga  Focus  Fiesta  Kuga  Kuga  Fiesta  Fiesta  Kuga  Focus  S-MAX  Fiesta  Focus  Ka+  Focus  Fiesta  EcoSport  Kuga  EcoSport  Focus  Ka+  Kuga  Fiesta  B-MAX  Fiesta  Fiesta  Fiesta  Focus  Fiesta  Fiesta  Focus  Focus  Focus  Focus  Focus  Fiesta  Focus  Focus  Fiesta  Focus  Kuga  Focus  EcoSport  Kuga  Kuga  Kuga  Fiesta  Kuga  Kuga  Focus  Ka+  Kuga  Ka+  Kuga  Kuga  Focus  Fiesta  Focus  Focus  Focus  Focus  Ka+  Focus  Fiesta  Fiesta  Grand C-MAX  Galaxy  Focus  Fiesta  Fiesta  Focus  Ka+  Fiesta  Ka+  Ka+  Fiesta  Focus  Focus  Fiesta  Fiesta  Focus  Fiesta  Fiesta  Kuga  Kuga  Edge  Kuga  Fiesta  Fiesta  Focus  Focus  Fiesta  Mondeo  Fiesta  Focus  Focus  Fiesta  Fiesta  Fiesta  Focus  EcoSport  Focus  Kuga  Kuga  Fiesta  Kuga  Kuga  Fiesta  EcoSport  Fiesta  Fiesta  Tourneo Custom  Focus  EcoSport  Kuga  Fiesta  Kuga  Focus  Kuga  Fiesta  Kuga  Kuga  Mondeo  Kuga  Fiesta  Mondeo  Fiesta  Focus  Focus  Fiesta  Kuga  Fiesta  Fiesta  Fiesta  Fiesta  Fiesta  Kuga  Focus  Fiesta  Fiesta  Fiesta  Focus  Kuga  Fiesta  Focus  Focus  Fiesta  Kuga  Kuga  Kuga  Fiesta  Fiesta  Fiesta  Fiesta  EcoSport  Kuga  Fiesta  Focus  Focus  Focus  C-MAX  Fiesta  Fiesta  Focus  Focus  S-MAX  Kuga  Fiesta  S-MAX  S-MAX  Fiesta  Fiesta  C-MAX  Fiesta  Fiesta  Fiesta  Kuga  Fiesta  Fiesta  EcoSport  Fiesta  C-MAX  Fiesta  Focus  Fiesta  Kuga  Kuga  Fiesta  Fiesta  Focus  Fiesta  Fiesta  Focus  Fiesta  Edge  Kuga  Focus  Kuga  Edge  EcoSport  Kuga  Fiesta  EcoSport  Ka+  Kuga  B-MAX  EcoSport  Focus  EcoSport  Ka+  EcoSport  Fiesta  Focus  Fiesta  Focus  EcoSport  Focus  Focus  B-MAX  EcoSport  Ka+  S-MAX  KA  Focus  Kuga  Ka+  Fiesta  EcoSport  Fiesta  Ka+  EcoSport  Kuga  C-MAX  Kuga  B-MAX  S-MAX  Focus  Focus  B-MAX  Focus  Focus  Focus  S-MAX  Ka+  Focus  Ka+  Fiesta  Fiesta  Fiesta  Fiesta  Kuga  Fiesta  Kuga  B-MAX  Kuga  EcoSport  Kuga  Fiesta  Fiesta  Ka+  Fiesta  Fiesta  Mondeo  Focus  Fiesta  Focus  Galaxy  Mondeo  Focus  Focus  Focus  Fiesta  Kuga  Fiesta  EcoSport  Fiesta  Fiesta  Focus  Galaxy  C-MAX  B-MAX  Fiesta  Fiesta  EcoSport  Focus  Fiesta  EcoSport  Kuga  Fiesta  Kuga  Focus  Kuga  Kuga  Focus  Focus  Focus  Focus  Focus  Focus  Focus  Focus  Fiesta  Fiesta  Kuga  C-MAX  Fiesta  Focus  Fiesta  Ka+  EcoSport  Fiesta  Fiesta  Focus  Focus  Fiesta  Fiesta  Focus  Focus  Focus  Focus  Fiesta  Ka+  Fiesta  Ka+  Ka+  Focus  Fiesta  Focus  Ka+  EcoSport  Focus  Focus  Fiesta  Focus  Fiesta  Ka+  S-MAX  Fiesta  Focus  Ka+  C-MAX  Fiesta  Fiesta  Kuga  Fiesta  Edge  EcoSport  Focus  Fiesta  EcoSport  Fiesta  Fiesta  Fiesta  Fiesta  Mustang  Fiesta  Ka+  Ka+  Focus  Fiesta  Fiesta  Ka+  B-MAX  Fiesta  Fiesta  Fiesta  Fiesta  EcoSport  EcoSport  Focus  Kuga  EcoSport  Focus  Fiesta  Focus  Fiesta  Fiesta  Fiesta  Fiesta  Fiesta  Focus  EcoSport  Kuga  Focus  Mondeo  Kuga  Fiesta  Kuga  B-MAX  Kuga  EcoSport  Kuga  EcoSport  Fiesta  Fiesta  Fiesta  Fiesta  Fiesta  Fiesta  B-MAX  Focus  C-MAX  C-MAX  C-MAX  Kuga  Focus  C-MAX  Focus  Focus  C-MAX  Fiesta  Kuga  B-MAX  Kuga  Fiesta  Fiesta  Focus  Focus  S-MAX  Focus  Focus  Kuga  EcoSport  Ka+  Galaxy  Focus  Fiesta  Edge  Fiesta  Kuga  Fiesta  S-MAX  Focus  Fiesta  C-MAX  Fiesta  Focus  Kuga  Grand C-MAX  Fiesta  Fiesta  Focus  Fiesta  EcoSport  Kuga  Grand C-MAX  Kuga  Kuga  Grand C-MAX  Kuga  EcoSport  Focus  Fiesta  Focus  B-MAX  Fiesta  Fiesta  Focus  Focus  Ka+  Focus  Focus  Kuga  Fiesta  Kuga  S-MAX  Kuga  Fiesta  Fiesta  B-MAX  Kuga  Fiesta  Fiesta  Kuga  Focus  Kuga  Fiesta  Fiesta  C-MAX  Focus  Focus  Fiesta  Fiesta  Fiesta  Focus  Focus  Focus  Fiesta  Fiesta  EcoSport  Focus  Focus  Focus  Fiesta  Focus  Focus  Focus  Kuga  Fiesta  Kuga  Kuga  Mondeo  Fiesta  Fiesta  Focus  Focus  Grand C-MAX  Mondeo  S-MAX  Edge  Focus  Focus  S-MAX  Fiesta  Fiesta  Fiesta  Fiesta  Mondeo  Fiesta  Fiesta  Focus  Grand C-MAX  Fiesta  Galaxy  Fiesta  Fiesta  Focus  Fiesta  Grand C-MAX  Focus  Kuga  Fiesta  Fiesta  Fiesta  S-MAX  Puma  Fiesta  Fiesta  Fiesta  Fiesta  Kuga  Edge  Focus  S-MAX  Focus  Fiesta  Edge  Fiesta  Fiesta  Grand C-MAX  Focus  EcoSport  Ka+  Focus  Focus  C-MAX  Kuga  Fiesta  Focus  Fiesta  Fiesta  Fiesta  Focus  Kuga  Fiesta  Focus  S-MAX  EcoSport  S-MAX  EcoSport  Galaxy  EcoSport  Ka+  EcoSport  Focus  Fiesta  Focus  Fiesta  Ka+  Fiesta  Kuga  Edge  Grand C-MAX  Ka+  Fiesta  Fiesta  Fiesta  Fiesta  Fiesta  Fiesta  Fiesta  Ka+  Ka+  Fiesta  Fiesta  Mustang  Fiesta  Fiesta  Fiesta  Fiesta  Focus  Fiesta  Kuga  Focus  Focus  Fiesta  Fiesta  Fiesta  Fiesta  S-MAX  Fiesta  Galaxy  Fiesta  EcoSport  Focus  EcoSport  Fiesta  Galaxy  Fiesta  Ka+  B-MAX  S-MAX  Fiesta  EcoSport  Fiesta  Grand C-MAX  Fiesta  Focus  Galaxy  Galaxy  Fiesta  Fiesta  Focus  Focus  B-MAX  Kuga  Focus  EcoSport  Focus  Kuga  Kuga  Mondeo  Kuga  Fiesta  Fiesta  EcoSport  Fiesta  Fiesta  Fiesta  Focus  Fiesta  Mustang  Puma  Fiesta  Fiesta  Kuga  Fiesta  Fiesta  Ka+  Edge  Focus  Kuga  Grand C-MAX  Kuga  Galaxy  Focus  Kuga  Focus  Fiesta  Kuga  Kuga  EcoSport  EcoSport  EcoSport  Fiesta  Focus  C-MAX  Mondeo  Focus  Focus  EcoSport  EcoSport  Puma  Fiesta  Kuga  Fiesta  Kuga  Galaxy  Fiesta  Fiesta  B-MAX  Fiesta  C-MAX  Galaxy  Fiesta  Focus  Focus  Focus  Fiesta  Fiesta  Fiesta  Focus  Focus  Kuga  EcoSport  Focus  Fiesta  Focus  Kuga  B-MAX  Fiesta  Focus  Focus  Fiesta  Fiesta  Fiesta  Tourneo Custom  Mustang  Focus  Kuga  Focus  Focus  Focus  Focus  Focus  Focus  Fiesta  Focus  Mondeo  Fiesta  Fiesta  Fiesta  Focus  B-MAX  Galaxy  Fiesta  Edge  Focus  Fiesta  Kuga  Focus  Kuga  Kuga  Kuga  Focus  Fiesta  Fiesta  Kuga  Kuga  Fiesta  Fiesta  Kuga  Kuga  Fiesta  Focus  Fiesta  Tourneo Custom  EcoSport  Kuga  Fiesta  C-MAX  Kuga  Fiesta  C-MAX  EcoSport  Focus  Focus  Focus  Focus  Focus  Focus  Focus  Kuga  Fiesta  Kuga  S-MAX  Focus  Focus  Fiesta  Mondeo  Kuga  Galaxy  Kuga  Fiesta  Fiesta  Focus  Focus  Focus  EcoSport  Focus  Ka+  Kuga  Focus  Fiesta  Kuga  EcoSport  EcoSport  Fiesta  Kuga  Focus  EcoSport  C-MAX  B-MAX  Fiesta  Fiesta  EcoSport  Kuga  Puma  Puma  Ka+  Fiesta  Focus  Fiesta  Focus  Focus  EcoSport  Fiesta  Fiesta  Fiesta  Fiesta  Kuga  Kuga  Kuga  EcoSport  Fiesta  Fiesta  Fiesta  EcoSport  Edge  B-MAX  Fiesta  Grand C-MAX  Focus  Fiesta  Galaxy  Galaxy  S-MAX  Focus  Kuga  Kuga  Fiesta  Focus  Focus  Focus  Focus  Kuga  Fiesta  Kuga  Focus  Focus  EcoSport  EcoSport  Fiesta  Kuga  Fiesta  Galaxy  S-MAX  Focus  Fiesta  Kuga  EcoSport  S-MAX  Kuga  Fiesta  Kuga  Fiesta  Fiesta  Kuga  Mondeo  Fiesta  Focus  Focus  Kuga  C-MAX  Ka+  Kuga  Focus  Kuga  Kuga  C-MAX  Fiesta  Ka+  Mustang  Fiesta  C-MAX  Focus  Mondeo  Kuga  S-MAX  Fiesta  S-MAX  EcoSport  EcoSport  S-MAX  Kuga  Ka+  Focus  Fiesta  Kuga  Kuga  Fiesta  Fiesta  Kuga  Fiesta  C-MAX  Fiesta  Fiesta  Fiesta  Galaxy  C-MAX  Focus  EcoSport  Kuga  Focus  EcoSport  Kuga  Kuga  Fiesta  EcoSport  Edge  Fiesta  Focus  Fiesta  Fiesta  Fiesta  Fiesta  Fiesta  Focus  Puma  Galaxy  Fiesta  Fiesta  EcoSport  EcoSport  EcoSport  Focus  Fiesta  Edge  Fiesta  Focus  Fiesta  Fiesta  Fiesta  B-MAX  Focus  Fiesta  Focus  EcoSport  Fiesta  Kuga  Fiesta  Mondeo  Fiesta  Focus  C-MAX  Focus  Kuga  EcoSport  Kuga  Fiesta  Fiesta  Fiesta  Fiesta  Fiesta  Fiesta  Fiesta  Edge  Focus  Kuga  Kuga  Galaxy  Tourneo Connect  Mondeo  Fiesta  Focus  C-MAX  Fiesta  Tourneo Custom  B-MAX  Fiesta  S-MAX  Fiesta  Fiesta  EcoSport  Fiesta  Focus  Fiesta  Fiesta  B-MAX  Focus  Kuga  Ka+  Fiesta  Fiesta  Fiesta  Focus  Focus  Focus  C-MAX  Tourneo Custom  Grand C-MAX  Kuga  Fiesta  C-MAX  Focus  Fiesta  Kuga  Fiesta  B-MAX  Fiesta  Focus  Focus  Fiesta  Fiesta  Fiesta  Fiesta  Fiesta  Kuga  Fiesta  C-MAX  Fiesta  Fiesta  EcoSport  Fiesta  Fiesta  Fiesta  C-MAX  Focus  Fiesta  S-MAX  Fiesta  Fiesta  Focus  Fiesta  Kuga  Kuga  Kuga  Focus  Focus  Focus  Fiesta  Fiesta  Fiesta  Fiesta  Fiesta  Focus  Focus  Fiesta  Focus  Mondeo  S-MAX  Mondeo  Focus  Focus  Fiesta  Focus  Focus  Ka+  Ka+  Ka+  Ka+  Ka+  Ka+  Ka+  Ka+  Ka+  Ka+  Ka+  Ka+  C-MAX  Kuga  Fiesta  EcoSport  Focus  Fiesta  Fiesta  Ka+  Focus  Mustang  Kuga  Kuga  Focus  Kuga  Focus  Fiesta  Mondeo  S-MAX  Focus  Focus  B-MAX  Focus  EcoSport  Focus  Kuga  Focus  Edge  Kuga  Fiesta  Kuga  Kuga  Kuga  Kuga  Kuga  Focus  Fiesta  Focus  Kuga  Focus  Fiesta  Fiesta  EcoSport  Focus  Focus  Fiesta  Focus  Kuga  Fiesta  Kuga  S-MAX  S-MAX  Fiesta  Fiesta  Fiesta  Fiesta  Fiesta  Kuga  Kuga  Fiesta  Kuga  Focus  Focus  Focus  Fiesta  Fiesta  Fiesta  Fiesta  Fiesta  Kuga  Fiesta  Focus  EcoSport  C-MAX  Kuga  Grand C-MAX  B-MAX  Focus  C-MAX  Fiesta  B-MAX  Fiesta  Fiesta  Focus  EcoSport  Ka+  Focus  Kuga  Ka+  Kuga  Focus  Fiesta  Kuga  Focus  Fiesta  Fiesta  Fiesta  Fiesta  Fiesta  Fiesta  Kuga  Kuga  Fiesta  Fiesta  Focus  Galaxy  Kuga  Focus  Fiesta  Ka+  Kuga  EcoSport  EcoSport  Mondeo  Fiesta  S-MAX  Fiesta  EcoSport  Mustang  Ka+  Ka+  Ka+  Ka+  Ka+  Ka+  Ka+  Ka+  Ka+  EcoSport  Kuga  Focus  Ka+  Ka+  Kuga  Fiesta  EcoSport  Focus  Focus  Focus  S-MAX  B-MAX  Fiesta  Fiesta  Focus  Fiesta  Kuga  Kuga  EcoSport  Kuga  Fiesta  Mondeo  Kuga  Mondeo  Kuga  Focus  Galaxy  Fiesta  Focus  Fiesta  Ka+  Tourneo Connect  EcoSport  Fiesta  EcoSport  Fiesta  Fiesta  Fiesta  Fiesta  Fiesta  EcoSport  Focus  Fiesta  EcoSport  Kuga  Focus  Fiesta  EcoSport  Kuga  Focus  Focus  Focus  B-MAX  Focus  Kuga  EcoSport  Ka+  Ka+  Fiesta  Fiesta  Fiesta  Focus  Fiesta  Fiesta  Kuga  Galaxy  Ka+  Kuga  EcoSport  Focus  Focus  Fiesta  B-MAX  EcoSport  Focus  Focus  Fiesta  Fiesta  Fiesta  Fiesta  Fiesta  Galaxy  Galaxy  S-MAX  Fiesta  Focus  Focus  EcoSport  Fiesta  EcoSport  EcoSport  S-MAX  S-MAX  Focus  Fiesta  Kuga  Kuga  Fiesta  Fiesta  Fiesta  Fiesta  Fiesta  Fiesta  Fiesta  C-MAX  S-MAX  Focus  Fiesta  Focus  Fiesta  Fiesta  Focus  Focus  Focus  Fiesta  Kuga  Focus  C-MAX  Kuga  Fiesta  Focus  Kuga  EcoSport  Edge  Fiesta  Fiesta  Focus  Focus  Fiesta  EcoSport  Focus  Kuga  Focus  Focus  Mondeo  EcoSport  Focus  Focus  Focus  Ka+  EcoSport  EcoSport  Kuga  Fiesta  Kuga  Focus  Fiesta  Fiesta  Kuga  Focus  Focus  Focus  Fiesta  Grand C-MAX  Fiesta  Kuga  EcoSport  EcoSport  Fiesta  Fiesta  Focus  Kuga  Fiesta  Kuga  Fiesta  Fiesta  Focus  EcoSport  Ka+  Kuga  EcoSport  Kuga  Ka+  Kuga  Fiesta  Fiesta  Fiesta  Fiesta  Kuga  Kuga  Ka+  Fiesta  Kuga  Fiesta  Focus  Fiesta  Kuga  Edge  B-MAX  Focus  Focus  Fiesta  Kuga  Fiesta  Fiesta  Kuga  Kuga  Fiesta  Fiesta  B-MAX  C-MAX  B-MAX  Fiesta  C-MAX  Fiesta  EcoSport  Focus  B-MAX  Focus  Fiesta  EcoSport  C-MAX  Kuga  Ka+  Ka+  Fiesta  Fiesta  EcoSport  Kuga  Kuga  Kuga  C-MAX  Focus  Fiesta  Fiesta  Fiesta  Kuga  Puma  Focus  Ka+  Ka+  EcoSport  Focus  EcoSport  Kuga  Ka+  EcoSport  Fiesta  Fiesta  Kuga  Kuga  Kuga  Fiesta  Fiesta  Fiesta  Focus  Focus  Fiesta  Ka+  Kuga  C-MAX  Edge  S-MAX  C-MAX  Fiesta  Fiesta  C-MAX  Fiesta  Focus  Kuga  Focus  EcoSport  Focus  Mondeo  Edge  EcoSport  EcoSport  Kuga  Fiesta  Focus  Fiesta  Focus  Fiesta  Fiesta  C-MAX  Fiesta  Fiesta  Galaxy  S-MAX  Focus  Focus  Kuga  Focus  Ka+  Fiesta  Fiesta  Fiesta  Focus  Mondeo  S-MAX  Mondeo  Focus  Fiesta  Kuga  Kuga  Kuga  B-MAX  Fiesta  Grand C-MAX  C-MAX  Fiesta  Focus  Focus  C-MAX  Focus  KA  Fiesta  Focus  Fiesta  Fiesta  Fiesta  Fiesta  Kuga  Puma  Focus  Focus  EcoSport  Fiesta  Focus  Fiesta  Kuga  Kuga  Puma  EcoSport  Fiesta  Fiesta  Grand C-MAX  EcoSport  Focus  Kuga  Fiesta  Kuga  Kuga  Focus  Focus  Focus  S-MAX  Fiesta  Fiesta  Fiesta  Fiesta  EcoSport  EcoSport  Focus  Fiesta  Fiesta  Fiesta  Fiesta  Focus  Kuga  Focus  Fiesta  Fiesta  Focus  Fiesta  Focus  Fiesta  Fiesta  Fiesta  Fiesta  Focus  Focus  Fiesta  Fiesta  Fiesta  Fiesta  EcoSport  EcoSport  Focus  Focus  Fiesta  Kuga  Fiesta  Fiesta  Fiesta  Fiesta  Focus  Fiesta  EcoSport  Fiesta  S-MAX  Fiesta  Focus  Fiesta  Fiesta  Fiesta  Fiesta  Fiesta  Fiesta  Galaxy  Fiesta  Focus  Fiesta  Fiesta  Kuga  Fiesta  Fiesta  Fiesta  Kuga  Focus  Fiesta  C-MAX  Focus  Focus  Focus  Fiesta  Fiesta  Fiesta  Focus  Focus  Focus  Kuga  Fiesta  Focus  Kuga  Kuga  Fiesta  Focus  Fiesta  Mondeo  Fiesta  Fiesta  Fiesta  Focus  B-MAX  Fiesta  Galaxy  Mondeo  S-MAX  Kuga  Mondeo  Kuga  Galaxy  Fiesta  Focus  Fiesta  Focus  Fiesta  Kuga  Fiesta  Focus  Focus  Fiesta  EcoSport  Kuga  Fiesta  Fiesta  Fiesta  C-MAX  Fiesta  C-MAX  Focus  Focus  Fiesta  Fiesta  C-MAX  Edge  Fiesta  Focus  Focus  Fiesta  Kuga  Fiesta  Fiesta  Fiesta  Ka+  Focus  Focus  Fiesta  Ka+  Fiesta  Kuga  Focus  Fiesta  Focus  Fiesta  Mondeo  Fiesta  Fiesta  Fiesta  Kuga  Galaxy  C-MAX  Kuga  Fiesta  EcoSport  Kuga  Fiesta  Fiesta  Fiesta  Fiesta  Fiesta  Fiesta  Fiesta  Fiesta  Kuga  Kuga  Focus  Fiesta  EcoSport  Galaxy  S-MAX  Fiesta  Fiesta  Fiesta  Fiesta  Galaxy  Fiesta  EcoSport  Kuga  Fiesta  Focus  Ka+  Fiesta  Fiesta  Fiesta  Fiesta  Kuga  B-MAX  Fiesta  B-MAX  Fiesta  Fiesta  Fiesta  Fiesta  Focus  Focus  Focus  Focus  EcoSport  Focus  Focus  Fiesta  Focus  Fiesta  Fiesta  Focus  B-MAX  Fiesta  Fiesta  Kuga  Fiesta  B-MAX  EcoSport  Kuga  B-MAX  Fiesta  Focus  EcoSport  Focus  Focus  Focus  Fiesta  Fiesta  Fiesta  EcoSport  Focus  Focus  Focus  Fiesta  EcoSport  Fiesta  Fiesta  Fiesta  Fiesta  Fiesta  Kuga  Focus  Ka+  Kuga  Focus  Fiesta  Fiesta  Fiesta  Focus  Focus  Fiesta  Fiesta  EcoSport  Galaxy  Fiesta  Fiesta  Fiesta  Kuga  Kuga  Kuga  Focus  Fiesta  Kuga  Kuga  Focus  B-MAX  Focus  Fiesta  Fiesta  Fiesta  Focus  EcoSport  Focus  Fiesta  Grand C-MAX  Kuga  C-MAX  Fiesta  Fiesta  Fiesta  Fiesta  B-MAX  Fiesta  Focus  Kuga  Kuga  Focus  Focus  Focus  Kuga  Fiesta  Fiesta  Focus  Focus  Kuga  Focus  Fiesta  Fiesta  Focus  Grand C-MAX  Focus  Fiesta  Fiesta  Fiesta  Focus  Fiesta  Focus  S-MAX  Fiesta  Kuga  Fiesta  Ka+  B-MAX  Galaxy  Focus  Mondeo  Fiesta  Fiesta  EcoSport  Tourneo Connect  Puma  C-MAX  Focus  Fiesta  Focus  Fiesta  Kuga  Kuga  Focus  Fiesta  Kuga  Fiesta  Kuga  Focus  Edge  Focus  Fiesta  Fiesta  Mondeo  EcoSport  Focus  EcoSport  EcoSport  Fiesta  Focus  Edge  Fiesta  Fiesta  EcoSport  Kuga  Focus  EcoSport  Focus  Focus  Fiesta  Focus  Fiesta  Focus  B-MAX  Fiesta  Fiesta  Fiesta  Fiesta  Fiesta  Fiesta  Fiesta  Fiesta  Fiesta  Mustang  Fiesta  Focus  Mustang  Fiesta  Focus  Mondeo  Focus  Focus  Focus  EcoSport  Focus  Focus  Fiesta  Focus  Mondeo  Kuga  Focus  Fiesta  Kuga  C-MAX  Kuga  Focus  Mondeo  Edge  Kuga  EcoSport  B-MAX  Focus  Fiesta  Fiesta  Fiesta  Fiesta  Fiesta  Fiesta  Fiesta  Fiesta  Fiesta  Focus  Focus  Focus  Fiesta  Focus  Mondeo  Kuga  Fiesta  Fiesta  Kuga  Focus  Mondeo  Fiesta  Focus  Edge  Focus  Focus  Kuga  Tourneo Custom  Focus  Kuga  Ka+  Fiesta  Fiesta  Fiesta  Fiesta  Fiesta  EcoSport  Fiesta  Ka+  Fiesta  Galaxy  EcoSport  Fiesta  Fiesta  Kuga  Kuga  Focus  Kuga  Focus  Fiesta  EcoSport  KA  Fiesta  Mondeo  Fiesta  Fiesta  Focus  Focus  Fiesta  Fiesta  Fiesta  Fiesta  Fiesta  Kuga  Fiesta  Focus  Focus  EcoSport  Fiesta  Fiesta  Fiesta  Fiesta  Ka+  Focus  Fiesta  Kuga  Fiesta  Fiesta  Focus  Fiesta  Fiesta  Kuga  Fiesta  Fiesta  Kuga  Focus  Fiesta  Fiesta  Edge  Edge  Focus  Fiesta  Kuga  Fiesta  Kuga  Fiesta  Focus  EcoSport  Focus  Fiesta  EcoSport  Fiesta  Fiesta  Kuga  Fiesta  EcoSport  Fiesta  Ka+  Focus  EcoSport  Fiesta  Focus  Focus  Focus  EcoSport  Focus  Kuga  Fiesta  Fiesta  Focus  Focus  Kuga  Focus  Kuga  Focus  Focus  Focus  Kuga  Kuga  Kuga  S-MAX  Focus  Focus  Focus  Fiesta  EcoSport  Focus  Kuga  Fiesta  Fiesta  EcoSport  Fiesta  Fiesta  Fiesta  Focus  Fiesta  Fiesta  EcoSport  Fiesta  Fiesta  Focus  Focus  Fiesta  EcoSport  Fiesta  Puma  Fiesta  Fiesta  Edge  EcoSport  EcoSport  Galaxy  Kuga  Edge  Fiesta  Kuga  Ka+  Mondeo  Tourneo Custom  Galaxy  Focus  EcoSport  EcoSport  Focus  Fiesta  Fiesta  Ka+  Fiesta  Kuga  Fiesta  Tourneo Custom  C-MAX  C-MAX  Fiesta  Kuga  Puma  Focus  EcoSport  Kuga  Kuga  Focus  Focus  Fiesta  Fiesta  Fiesta  Kuga  Focus  Focus  Focus  Kuga  Edge  Kuga  Fiesta  S-MAX  Kuga  Focus  Kuga  Kuga  Kuga  Kuga  Fiesta  Fiesta  Fiesta  Focus  EcoSport  EcoSport  Kuga  EcoSport  Fiesta  Fiesta  Fiesta  Focus  S-MAX  C-MAX  Fiesta  Kuga  Focus  Fiesta  Fiesta  Focus  Fiesta  EcoSport  EcoSport  EcoSport  Focus  Focus  Fiesta  Edge  Focus  Fiesta  Focus  Fiesta  Fiesta  EcoSport  Galaxy  Fiesta  Galaxy  Kuga  Kuga  Kuga  Focus  Kuga  EcoSport  Fiesta  S-MAX  Fiesta  Fiesta  Ka+  Kuga  Galaxy  Fiesta  Fiesta  Kuga  EcoSport  Kuga  Fiesta  Focus  EcoSport  Ka+  B-MAX  Fiesta  Focus  Kuga  Fiesta  Focus  Fiesta  Kuga  Fiesta  Focus  Kuga  Kuga  EcoSport  Fiesta  Fiesta  Fiesta  Focus  Kuga  Fiesta  Fiesta  Fiesta  Kuga  Fiesta  Focus  Focus  Focus  Focus  Focus  Focus  Fiesta  Focus  Fiesta  Kuga  Fiesta  Kuga  Fiesta  Kuga  Fiesta  Ka+  Fiesta  Fiesta  Ka+  Kuga  EcoSport  Fiesta  Focus  Edge  Fiesta  Focus  Fiesta  Grand C-MAX  S-MAX  EcoSport  C-MAX  EcoSport  Kuga  Focus  Focus  Focus  Fiesta  Focus  Focus  Focus  Focus  S-MAX  Kuga  Fiesta  Focus  Fiesta  Focus  Fiesta  Focus  Focus  Fiesta  Kuga  Galaxy  Fiesta  Fiesta  Kuga  Fiesta  Kuga  Fiesta  Focus  Focus  Focus  Fiesta  Focus  Fiesta  EcoSport  Fiesta  EcoSport  Kuga  Fiesta  Fiesta  Kuga  Focus  EcoSport  Kuga  Focus  Kuga  Kuga  Kuga  EcoSport  Focus  Fiesta  Focus  Focus  Fiesta  Fiesta  Fiesta  Fiesta  Fiesta  Fiesta  Focus  Grand Tourneo Connect  Fiesta  Kuga  Kuga  Kuga  Kuga  Fiesta  Ka+  Fiesta  Fiesta  EcoSport  Edge  C-MAX  Fiesta  Focus  Focus  Focus  Fiesta  Fiesta  B-MAX  C-MAX  Focus  EcoSport  EcoSport  Fiesta  Fiesta  Mondeo  Focus  Fiesta  Focus  Fiesta  Fiesta  Focus  EcoSport  Focus  Ka+  Kuga  Focus  Focus  Fiesta  Fiesta  Fiesta  Focus  Fiesta  Galaxy  B-MAX  Kuga  Galaxy  Ka+  EcoSport  S-MAX  Ka+  Edge  Focus  Fiesta  Focus  Fiesta  Fiesta  Focus  Focus  Focus  Fiesta  Fiesta  Kuga  Focus  Grand C-MAX  Galaxy  Kuga  EcoSport  Kuga  Focus  Kuga  Fiesta  Fiesta  S-MAX  Fiesta  Focus  Fiesta  Mustang  Fiesta  B-MAX  Fiesta  Fiesta  Kuga  Focus  Fiesta  Focus  Fiesta  Fiesta  Fiesta  Fiesta  EcoSport  Kuga  Kuga  Fiesta  Fiesta  Fiesta  Focus  Fiesta  Fiesta  Fiesta  Fiesta  Focus  Focus  Fiesta  Focus  Focus  Fiesta  Fiesta  Fiesta  Fiesta  Focus  Puma  Fiesta  Puma  Focus  EcoSport  Grand C-MAX  S-MAX  Fiesta  Ka+  Fiesta  Focus  Grand C-MAX  Focus  Focus  Focus  Focus  Fiesta  Focus  Focus  Focus  Focus  Focus  Fiesta  Focus  Edge  Fiesta  Fiesta  Kuga  Fiesta  Focus  Fiesta  EcoSport  Focus  Fiesta  Fiesta  Galaxy  Fiesta  Galaxy  S-MAX  Focus  Focus  Fiesta  Focus  Fiesta  Mondeo  EcoSport  Kuga  Kuga  Fiesta  Focus  Fiesta  Kuga  Fiesta  S-MAX  EcoSport  Kuga  Kuga  Fiesta  Fiesta  EcoSport  EcoSport  Fiesta  Fiesta  Fiesta  EcoSport  EcoSport  EcoSport  Focus  EcoSport  Kuga  Fiesta  Fiesta  Fiesta  Focus  Mondeo  Fiesta  EcoSport  Focus  Fiesta  Fiesta  Kuga  Fiesta  Kuga  Focus  Fiesta  Fiesta  Fiesta  EcoSport  EcoSport  Focus  Focus  Fiesta  Kuga  Tourneo Connect  Focus  Focus  C-MAX  Kuga  B-MAX  Kuga  Fiesta  Fiesta  B-MAX  Edge  Kuga  Focus  Focus  Fiesta  Focus  Fiesta  Focus  Fiesta  Focus  Fiesta  Fiesta  Fiesta  Focus  Focus  Fiesta  Fiesta  Fiesta  Fiesta  EcoSport  S-MAX  Fiesta  Fiesta  Fiesta  Fiesta  Fiesta  Fiesta  EcoSport  Fiesta  Fiesta  Kuga  Fiesta  Fiesta  Focus  Fiesta  Kuga  EcoSport  Mondeo  Fiesta  Focus  Focus  Mondeo  Fiesta  C-MAX  Fiesta  Focus  Galaxy  Galaxy  Focus  B-MAX  Fiesta  Focus  Edge  Focus  Focus  KA  Mondeo  Kuga  B-MAX  Fiesta  Puma  Fiesta  Focus  Mustang  Fiesta  Focus  Fiesta  Focus  Fiesta  Fiesta  Fiesta  Fiesta  Fiesta  Fiesta  Kuga  Mondeo  Mustang  EcoSport  Kuga  Mondeo  S-MAX  Focus  Fiesta  Fiesta  Fiesta  Fiesta  Fiesta  Kuga  Kuga  Focus  Kuga  Fiesta  Focus  Kuga  Fiesta  EcoSport  Fiesta  Kuga  EcoSport  Fiesta  Focus  Kuga  Fiesta  Focus  Focus  Focus  Grand C-MAX  Fiesta  Fiesta  Fiesta  Fiesta  EcoSport  EcoSport  Fiesta  Fiesta  Focus  Kuga  C-MAX  Focus  Fiesta  Fiesta  Fiesta  Kuga  Grand C-MAX  Ka+  Fiesta  Focus  Focus  Tourneo Connect  Ka+  EcoSport  Kuga  EcoSport  Fiesta  Focus  Kuga  Fiesta  Fiesta  Fiesta  Fiesta  Fiesta  Fiesta  Fiesta  Fiesta  Fiesta  Kuga  Focus  Galaxy  S-MAX  Focus  Fiesta  Focus  Focus  Focus  Fiesta  Focus  Focus  Fiesta  Focus  Focus  Mondeo  Kuga  EcoSport  Puma  Fiesta  Fiesta  EcoSport  Edge  Kuga  Focus  Fiesta  EcoSport  Edge  Fiesta  Fiesta  Fiesta  Focus  Fiesta  Fiesta  Fiesta  Fiesta  Fiesta  Fiesta  Fiesta  Focus  Fiesta  Focus  Focus  S-MAX  Focus  Kuga  Fiesta  EcoSport  Kuga  Fiesta  Focus  Kuga  Fiesta  Focus  Kuga  Fiesta  Fiesta  Focus  Focus  Ka+  Grand C-MAX  Fiesta  Focus  Fiesta  Fiesta  Kuga  Fiesta  Fiesta  EcoSport  Ka+  EcoSport  Kuga  Focus  Fiesta  Fiesta  Fiesta  Focus  Fiesta  Focus  Fiesta  Fiesta  Fiesta  Focus  Fiesta  Kuga  Fiesta  Kuga  Focus  Fiesta  Fiesta  Fiesta  Focus  Kuga  Fiesta  Fiesta  Fiesta  Fiesta  Fiesta  Fiesta  Kuga  Kuga  Focus  Focus  Focus  Focus  Focus  S-MAX  Fiesta  Focus  S-MAX  Fiesta  Focus  Kuga  Focus  Fiesta  Fiesta  Focus  Kuga  EcoSport  Focus  Fiesta  Mondeo  EcoSport  Fiesta  Fiesta  Fiesta  Focus  Fiesta  Fiesta  Focus  Focus  Focus  Focus  EcoSport  Grand C-MAX  Galaxy  Fiesta  Fiesta  Fiesta  Focus  Focus  Fiesta  Kuga  Fiesta  Kuga  Kuga  Fiesta  Focus  Fiesta  Focus  Fiesta  Fiesta  Focus  Ka+  S-MAX  Fiesta  Fiesta  Fiesta  Focus  Fiesta  Fiesta  Focus  Focus  Fiesta  Fiesta  Fiesta  Grand Tourneo Connect  EcoSport  EcoSport  Fiesta  Fiesta  Fiesta  Mondeo  Focus  Focus  EcoSport  Focus  Fiesta  Focus  C-MAX  Kuga  Fiesta  Focus  Fiesta  Fiesta  Fiesta  Fiesta  Focus  Fiesta  Fiesta  Fiesta  Fiesta  Fiesta  Galaxy  Fiesta  Fiesta  S-MAX  Fiesta  EcoSport  Grand C-MAX  Kuga  Kuga  Fiesta  Fiesta  Focus  S-MAX  Fiesta  Focus  Mondeo  Focus  Focus  Fiesta  Fiesta  Focus  Fiesta  Focus  Galaxy  S-MAX  C-MAX  Kuga  Ka+  Fiesta  Fiesta  EcoSport  EcoSport  Kuga  Focus  Fiesta  Focus  Focus  Kuga  Fiesta  Fiesta  Ka+  Fiesta  Fiesta  Fiesta  Fiesta  Focus  Fiesta  Kuga  Fiesta  Fiesta  Focus  Fiesta  Fiesta  Fiesta  Focus  Fiesta  Fiesta  Fiesta  Fiesta  S-MAX  Fiesta  Mondeo  Fiesta  Ka+  EcoSport  Kuga  Fiesta  Kuga  Focus  Ka+  Grand C-MAX  Fiesta  Tourneo Custom  Focus  Focus  Focus  Fiesta  EcoSport  Focus  Fiesta  Tourneo Custom  Ka+  EcoSport  Fiesta  Galaxy  Tourneo Custom  Tourneo Custom  Mondeo  Grand Tourneo Connect  C-MAX  Galaxy  Focus  Focus  Fiesta  Tourneo Custom  Fiesta  Fiesta  Ka+  Kuga  Focus  Focus  Fiesta  Focus  Focus  Galaxy  Focus  Galaxy  EcoSport  Focus  Fiesta  Focus  B-MAX  Fiesta  Kuga  Focus  Kuga  Kuga  Ka+  Mondeo  Fiesta  Fiesta  Mustang  Kuga  Kuga  Kuga  Focus  Fiesta  EcoSport  Kuga  EcoSport  Fiesta  Focus  Fiesta  EcoSport  Fiesta  Kuga  Kuga  EcoSport  Fiesta  Galaxy  Focus  C-MAX  Galaxy  Focus  Fiesta  Fiesta  Fiesta  Fiesta  Focus  Focus  Fiesta  Focus  Fiesta  Fiesta  Fiesta  EcoSport  Focus  Focus  Fiesta  Kuga  Mondeo  Fiesta  Fiesta  Focus  Fiesta  Fiesta  Mustang  Kuga  Focus  Kuga  Fiesta  Kuga  Fiesta  Focus  Kuga  Focus  Focus  Focus  Fiesta  Galaxy  Puma  Fiesta  Fiesta  Kuga  Fiesta  Grand C-MAX  Fiesta  Focus  Focus  EcoSport  Focus  Focus  Fiesta  Fiesta  Kuga  Fiesta  EcoSport  Fiesta  Fiesta  Focus  Fiesta  Focus  Grand C-MAX  S-MAX  Fiesta  Fiesta  EcoSport  Fiesta  Fiesta  Fiesta  Fiesta  Grand Tourneo Connect  Grand Tourneo Connect  EcoSport  EcoSport  Kuga  Fiesta  Fiesta  Fiesta  Puma  Focus  EcoSport  EcoSport  EcoSport  Kuga  Fiesta  Grand C-MAX  Kuga  Kuga  Ka+  Fiesta  Fiesta  Kuga  EcoSport  Kuga  Galaxy  Fiesta  Fiesta  Fiesta  Focus  Fiesta  Focus  Fiesta  Focus  Fiesta  C-MAX  Fiesta  B-MAX  B-MAX  Mondeo  Galaxy  Kuga  C-MAX  Ka+  Kuga  EcoSport  Kuga  C-MAX  Edge  C-MAX  Puma  Kuga  Fiesta  Edge  EcoSport  Fiesta  Fiesta  Focus  Focus  Fiesta  Fiesta  C-MAX  Focus  EcoSport  EcoSport  Focus  Fiesta  EcoSport  Mondeo  EcoSport  EcoSport  Focus  Focus  Focus  Focus  S-MAX  Fiesta  Fiesta  Focus  Fiesta  Fiesta  Focus  Fiesta  Focus  Kuga  Kuga  Fiesta  Focus  Fiesta  B-MAX  Focus  Fiesta  Mondeo  Kuga  Fiesta  Puma  Puma  Fiesta  Focus  Focus  Fiesta  Fiesta  Galaxy  Focus  Kuga  Kuga  Kuga  Kuga  EcoSport  Fiesta  Fiesta  Fiesta  Focus  Focus  EcoSport  Focus  Fiesta  Kuga  Kuga  Tourneo Connect  Fiesta  Fiesta  Fiesta  Fiesta  EcoSport  Fiesta  Focus  Fiesta  Fiesta  EcoSport  Kuga  C-MAX  C-MAX  Focus  Kuga  Fiesta  C-MAX  Focus  Fiesta  Focus  Focus  Edge  Fiesta  Kuga  Fiesta  B-MAX  Fiesta  Fiesta  Focus  Focus  Fiesta  Fiesta  Kuga  Focus  Fiesta  Focus  Focus  Focus  Fiesta  Fiesta  B-MAX  Fiesta  Fiesta  Fiesta  Kuga  Fiesta  Focus  Fiesta  Fiesta  Mondeo  Fiesta  Kuga  Fiesta  Kuga  EcoSport  Focus  Galaxy  Fiesta  Fiesta  Focus  EcoSport  EcoSport  Fiesta  Fiesta  Fiesta  Fiesta  Fiesta  Fiesta  Ka+  Fiesta  Fiesta  Fiesta  Kuga  Focus  Fiesta  Fiesta  Fiesta  Fiesta  Focus  Kuga  Fiesta  Grand C-MAX  Fiesta  Focus  Fiesta  Kuga  Kuga  Galaxy  C-MAX  Galaxy  Focus  Focus  Focus  Fiesta  Kuga  Fiesta  Focus  Fiesta  Fiesta  Fiesta  Fiesta  Ka+  Focus  EcoSport  Ka+  EcoSport  Fiesta  Fiesta  Focus  Fiesta  Focus  Fiesta  Fiesta  Fiesta  Kuga  Fiesta  EcoSport  Fiesta  Kuga  Focus  Kuga  Fiesta  Edge  Puma  EcoSport  Mondeo  Focus  Focus  EcoSport  Focus  Grand Tourneo Connect  Ka+  Fiesta  Ka+  Kuga  Focus  Fiesta  Focus  Fiesta  B-MAX  Focus  Focus  Fiesta  Focus  Fiesta  S-MAX  Fiesta  Mondeo  Fiesta  Kuga  Focus  Mustang  Edge  C-MAX  S-MAX  Kuga  Focus  Focus  C-MAX  Fiesta  Focus  Mondeo  Focus  Ka+  Ka+  Fiesta  Focus  Kuga  Fiesta  Fiesta  Focus  B-MAX  Fiesta  Kuga  Fiesta  Focus  Fiesta  Puma  Fiesta  Fiesta  EcoSport  Kuga  Fiesta  Fiesta  Focus  Kuga  Ka+  Kuga  Fiesta  Kuga  Edge  Focus  S-MAX  Focus  Fiesta  Fiesta  EcoSport  Fiesta  Fiesta  Fiesta  Fiesta  C-MAX  Fiesta  EcoSport  Focus  Kuga  Fiesta  Ka+  Edge  Kuga  Ka+  Kuga  Ka+  Mustang  Focus  Fiesta  Ka+  Galaxy  Fiesta  Focus  Mustang  Fiesta  Fiesta  Kuga  Focus  Fiesta  Mustang  S-MAX  Fiesta  Ka+  S-MAX  EcoSport  Fiesta  Fiesta  Focus  Fiesta  Ka+  S-MAX  Fiesta  EcoSport  EcoSport  Edge  Focus  EcoSport  S-MAX  Kuga  S-MAX  Fiesta  Fiesta  Focus  Kuga  Fiesta  Grand C-MAX  S-MAX  Grand Tourneo Connect  Fiesta  Fiesta  Fiesta  Fiesta  C-MAX  Focus  Fusion  Fiesta  Fiesta  Fiesta  Fiesta  Focus  B-MAX  Kuga  Mondeo  Focus  Focus  Fiesta  Kuga  Fiesta  Fiesta  B-MAX  B-MAX  KA  KA  Mondeo  Fiesta  Focus  Kuga  C-MAX  Fiesta  Fiesta  EcoSport  Focus  Fiesta  EcoSport  S-MAX  Fiesta  Kuga  Fiesta  Mondeo  Fiesta  Kuga  Kuga  Focus  KA  Fiesta  Fiesta  Fiesta  Fiesta  Fiesta  Fiesta  Fiesta  Kuga  B-MAX  Edge  Focus  EcoSport  Fiesta  Fiesta  Fiesta  Kuga  Fiesta  Focus  Fiesta  Kuga  Focus  Focus  Focus  Fiesta  Focus  Focus  Mustang  B-MAX  Mondeo  Fiesta  Fiesta  Fiesta  Fiesta  Fiesta  Fiesta  Fiesta  Focus  Fiesta  Fiesta  Focus  Fiesta  Focus  Focus  Focus  Focus  Focus  Fiesta  Fiesta  Fiesta  Fiesta  Fiesta  Fiesta  Fiesta  C-MAX  KA  Fiesta  Fiesta  Focus  EcoSport  Focus  Fiesta  Focus  Focus  Puma  Kuga  Fiesta  Focus  Grand C-MAX  Galaxy  Kuga  S-MAX  Mondeo  Fiesta  Focus  Fiesta  Focus  Focus  KA  Kuga  Fiesta  Focus  C-MAX  Fiesta  KA  KA  KA  Focus  Fiesta  Galaxy  Fiesta  Fiesta  Galaxy  Focus  Focus  Focus  Fusion  Focus  Focus  Fiesta  C-MAX  C-MAX  Ranger  Kuga  Fiesta  Fiesta  Focus  Focus  Kuga  Focus  Fiesta  Fiesta  Fiesta  Focus  Fiesta  Focus  Focus  EcoSport  Puma  Kuga  Focus  Edge  Kuga  Focus  Focus  Fiesta  Focus  Focus  S-MAX  Kuga  Fiesta  KA  Kuga  Fiesta  EcoSport  Fiesta  Fiesta  Focus  Fiesta  Fiesta  EcoSport  Focus  Focus  Edge  Focus  C-MAX  Fiesta  Kuga  Kuga  Galaxy  Tourneo Connect  Fiesta  Tourneo Connect  Focus  Tourneo Custom  Fiesta  Fiesta  Tourneo Custom  C-MAX  Kuga  Focus  Fiesta  Focus  B-MAX  Fiesta  Focus  Focus  KA  Fiesta  EcoSport  Ka+  Focus  Fiesta  Fiesta  Fiesta  Fiesta  Fiesta  Focus  Fiesta  Kuga  Focus  Focus  Focus  C-MAX  EcoSport  EcoSport  Fiesta  Fiesta  Kuga  B-MAX  Kuga  Fiesta  EcoSport  EcoSport  Fiesta  Focus  Fiesta  Fiesta  Focus  Mondeo  Kuga  Fiesta  EcoSport  Ka+  Fiesta  Focus  Kuga  Focus  KA  Fiesta  Focus  Kuga  Fiesta  EcoSport  Fiesta  Fiesta  Focus  Fiesta  EcoSport  Kuga  Kuga  Focus  EcoSport  Fiesta  Kuga  Kuga  Mondeo  Kuga  EcoSport  Fiesta  Fiesta  Kuga  Fiesta  Kuga  Fiesta  Fiesta  Kuga  Fiesta  Fiesta  Edge  B-MAX  Kuga  Focus  Fiesta  Fiesta  Focus  Kuga  Fiesta  EcoSport  Fiesta  Focus  Fiesta  Focus  Fiesta  Fiesta  Kuga  Fiesta  Fiesta  Fiesta  Focus  Kuga  Edge  Fiesta  Mondeo  Fiesta  Mondeo  Kuga  Fiesta  C-MAX  Kuga  Grand C-MAX  Focus  Fiesta  EcoSport  Kuga  C-MAX  Fiesta  Focus  Focus  Fiesta  Fiesta  Focus  Focus  Fiesta  Fiesta  Fiesta  Focus  Focus  Fiesta  Kuga  EcoSport  Fiesta  Fiesta  Focus  Fiesta  Focus  Edge  Fiesta  Kuga  Kuga  Fiesta  Focus  Fiesta  Ka+  Kuga  Fiesta  Fiesta  Focus  Focus  Focus  Focus  Fiesta  EcoSport  Fiesta  Focus  C-MAX  Kuga  Fiesta  Focus  Mondeo  EcoSport  Mustang  Focus  Fiesta  Kuga  B-MAX  Focus  S-MAX  KA  Fiesta  Fiesta  Galaxy  C-MAX  Kuga  Focus  Focus  EcoSport  Fiesta  Ka+  Fiesta  Kuga  EcoSport  B-MAX  Fiesta  Focus  Kuga  Grand Tourneo Connect  Grand C-MAX  Kuga  Fiesta  Fiesta  EcoSport  B-MAX  Focus  Fiesta  Focus  Fiesta  Kuga  Fiesta  Focus  Fiesta  Ka+  Kuga  C-MAX  Focus  Fiesta  Fiesta  Focus  Fiesta  Mondeo  C-MAX  C-MAX  Focus  Fiesta  Kuga  Focus  Fiesta  B-MAX  Focus  Focus  EcoSport  Focus  Kuga  Fiesta  C-MAX  Fiesta  Fiesta  Focus  KA  Fiesta  Focus  Focus  Kuga  Focus  Fiesta  Focus  C-MAX  Kuga  EcoSport  Fiesta  S-MAX  Kuga  Galaxy  Kuga  Fiesta  Focus  C-MAX  Kuga  Focus  Kuga  Kuga  Kuga  Focus  Focus  Galaxy  Fiesta  Fiesta  Fiesta  KA  C-MAX  Fiesta  Fiesta  Galaxy  Grand C-MAX  Fiesta  Focus  Fiesta  Fiesta  Fiesta  Fiesta  Fiesta  C-MAX  Focus  Focus  Fiesta  Fiesta  C-MAX  KA  Kuga  Mondeo  Focus  Fiesta  Fiesta  EcoSport  Focus  EcoSport  Kuga  Fiesta  EcoSport  Focus  EcoSport  Fiesta  Focus  Fiesta  Fiesta  Kuga  Kuga  Kuga  Fiesta  Fiesta  Fiesta  Fiesta  Fiesta  Fiesta  Kuga  Fiesta  Fiesta  Fiesta  Fiesta  S-MAX  Fiesta  Fiesta  Fiesta  Fiesta  Fiesta  Kuga  Fiesta  Focus  KA  Focus  Focus  Mondeo  Kuga  S-MAX  B-MAX  Fiesta  Fiesta  Fiesta  Fiesta  Focus  Fiesta  Fiesta  Fiesta  Kuga  Fiesta  Fiesta  S-MAX  Tourneo Custom  KA  Fiesta  Fiesta  Fiesta  Kuga  Fiesta  Kuga  Focus  Mondeo  Kuga  S-MAX  Kuga  Fiesta  Mondeo  Focus  Focus  Fiesta  Focus  Mondeo  Kuga  Fiesta  Focus  Fiesta  Fiesta  Focus  Focus  Focus  Kuga  Focus  Kuga  Focus  Focus  Focus  Mondeo  Focus  Fiesta  Mondeo  Mondeo  Focus  Fiesta  Fiesta  Mondeo  Mondeo  Focus  Focus  Kuga  Kuga  Fiesta  Fiesta  Fiesta  Fiesta  Mondeo  Kuga  Focus  Fiesta  Mondeo  Fiesta  Fiesta  Fiesta  Mondeo  Fiesta  Focus  Fiesta  Fiesta  Kuga  Fiesta  Focus  Focus  Fiesta  Focus  Focus  Mondeo  Mondeo  Fiesta  Fiesta  Fiesta  Focus  Kuga  Fiesta  Focus  Fiesta  Kuga  Fiesta  Kuga  Fiesta  Focus  Fiesta  Fiesta  Fiesta  Fiesta  Fiesta  Focus  Fiesta  Focus  Mondeo  Focus  Fiesta  Mondeo  Focus  Focus  Focus  Fiesta  KA  Mondeo  Mondeo  Fiesta  EcoSport  Focus  Grand C-MAX  Kuga  S-MAX  Fiesta  Focus  Kuga  Focus  C-MAX  Focus  Mondeo  Kuga  Fiesta  Fiesta  Fiesta  Fiesta  Focus  Fiesta  Fiesta  Fiesta  Fiesta  Kuga  B-MAX  Focus  Grand C-MAX  B-MAX  Focus  Focus  Mondeo  C-MAX  Focus  Focus  Focus  Fiesta  Fiesta  Fiesta  Focus  Kuga  Fiesta  KA  Fiesta  Focus  Focus  Focus  Focus  Kuga  Fiesta  C-MAX  Focus  Focus  Focus  Focus  Focus  C-MAX  Fiesta  Fiesta  Focus  Focus  Focus  Focus  Focus  Focus  Fiesta  Fiesta  Fiesta  Focus  Fiesta  Kuga  Fiesta  Focus  Fiesta  Fiesta  Fiesta  Focus  Fiesta  Kuga  Fiesta  Mondeo  Grand C-MAX  Focus  Fiesta  Mondeo  Fiesta  B-MAX  Kuga  Galaxy  S-MAX  Focus  Fiesta  Focus  Fiesta  S-MAX  Grand C-MAX  B-MAX  C-MAX  Grand C-MAX  Kuga  KA  Fiesta  Fiesta  Fiesta  Fiesta  Focus  Fiesta  Fiesta  Focus  Fiesta  EcoSport  Fiesta  Kuga  Fiesta  Fiesta  Mondeo  Focus  Focus  Focus  Kuga  Focus  Focus  Kuga  Fiesta  Kuga  Fiesta  EcoSport  KA  Grand C-MAX  S-MAX  Mondeo  Focus  Focus  Fiesta  Kuga  Fiesta  S-MAX  Grand C-MAX  KA  Focus  Focus  Fiesta  B-MAX  Fiesta  KA  Edge  C-MAX  Fiesta  Focus  Grand C-MAX  Fiesta  Fiesta  Kuga  Focus  Galaxy  Focus  Grand C-MAX  Focus  Fiesta  Fiesta  Focus  Grand C-MAX  Focus  EcoSport  Focus  Fiesta  Mondeo  Mondeo  Fiesta  S-MAX  Focus  Mondeo  C-MAX  Galaxy  Fiesta  Focus  Focus  Fiesta  Mondeo  Fiesta  KA  Focus  Focus  Focus  Kuga  Kuga  Fiesta  Focus  Focus  Fiesta  Kuga  Focus  Fiesta  Focus  KA  Fiesta  Focus  Focus  Focus  Fiesta  Focus  Fiesta  Fiesta  Fiesta  Focus  Focus  Mondeo  Grand C-MAX  Grand C-MAX  Fiesta  Mondeo  Fiesta  Fiesta  Fiesta  Fiesta  Kuga  Focus  Kuga  Grand C-MAX  Fiesta  Fiesta  Focus  Fiesta  Fiesta  Fiesta  Fiesta  Fiesta  Fiesta  Kuga  Fiesta  Focus  Fiesta  Focus  Focus  Kuga  Fiesta  Kuga  Fiesta  B-MAX  Focus  Focus  Focus  Fiesta  S-MAX  Fiesta  C-MAX  Focus  Focus  Kuga  Focus  Kuga  Kuga  Fiesta  Fiesta  Fiesta  Fiesta  Grand Tourneo Connect  Fiesta  EcoSport  Focus  Mondeo  Fiesta  Fiesta  B-MAX  Fiesta  C-MAX  Fusion  Kuga  Focus  Focus  B-MAX  Kuga  Focus  Fiesta  Focus  Grand C-MAX  Focus  Focus  Galaxy  Focus  Kuga  Mondeo  Edge  Kuga  Grand C-MAX  Kuga  Kuga  Focus  Fiesta  Focus  Focus  Focus  Focus  Fiesta  Focus  C-MAX  Focus  Focus  Fiesta  C-MAX  Grand C-MAX  Focus  Focus  Focus  Fiesta  Focus  Fiesta  Grand C-MAX  Fiesta  S-MAX  Kuga  Focus  Fiesta  Fiesta  Focus  Mondeo  Galaxy  Fiesta  Mondeo  Fiesta  Fiesta  Fiesta  Focus  Focus  B-MAX  Focus  Focus  Fiesta  Fiesta  Focus  Galaxy  Fiesta  Fiesta  Mondeo  Mondeo  Fiesta  Fiesta  Fiesta  Focus  EcoSport  Grand C-MAX  Kuga  Focus  Focus  Focus  Focus  Focus  Fiesta  Fiesta  B-MAX  Focus  Focus  C-MAX  Fiesta  Fiesta  Fiesta  Focus  Focus  Fiesta  Fiesta  Mondeo  Mondeo  Fiesta  Mondeo  Mondeo  Fiesta  EcoSport  Fiesta  Edge  Focus  KA  Mondeo  B-MAX  Kuga  Fiesta  EcoSport  Focus  Kuga  Galaxy  Grand C-MAX  Focus  Focus  Galaxy  Galaxy  S-MAX  Fiesta  Focus  Mondeo  Mondeo  Mondeo  Mondeo  Mondeo  Mondeo  Mondeo  Kuga  Mondeo  Kuga  Mondeo  Mondeo  Mondeo  Mondeo  Mondeo  Kuga  Mondeo  Mondeo  Focus  Kuga  Mondeo  Mondeo  Fiesta  Focus  Focus  Fiesta  Fiesta  Fiesta  Focus  Galaxy  Mondeo  Mondeo  Mondeo  Mondeo  Fiesta  Fiesta  Mondeo  Mondeo  Mondeo  EcoSport  Fiesta  Focus  Focus  KA  Fiesta  C-MAX  Focus  Fiesta  Fiesta  Focus  Fiesta  Kuga  Galaxy  Fiesta  Focus  Mondeo  Focus  Mondeo  Kuga  Kuga  Mondeo  Mondeo  Mondeo  Mondeo  Kuga  Fiesta  Fiesta  Fiesta  C-MAX  Kuga  Fiesta  Mondeo  Focus  Focus  Fiesta  Focus  Mondeo  Mondeo  Focus  Focus  Fiesta  Focus  Mondeo  C-MAX  Fiesta  Kuga  Fiesta  Fiesta  Fiesta  Fiesta  Focus  Fiesta  KA  Kuga  Focus  Galaxy  Fiesta  Fiesta  Fiesta  Fiesta  Fiesta  Fiesta  Focus  Focus  B-MAX  Grand C-MAX  Focus  C-MAX  Mondeo  B-MAX  S-MAX  Focus  EcoSport  Fiesta  Fiesta  Fiesta  Mondeo  Focus  Fiesta  Fiesta  Kuga  Fiesta  Focus  Fiesta  Focus  Fiesta  KA  Fiesta  Fiesta  Kuga  Fiesta  Focus  B-MAX  Focus  Focus  Focus  Fiesta  Focus  Focus  EcoSport  Fiesta  Fiesta  Focus  Edge  Fiesta  B-MAX  Fiesta  Focus  Grand C-MAX  Fiesta  Focus  Galaxy  Fiesta  Mustang  B-MAX  Focus  Focus  Focus  Focus  Focus  Focus  Focus  Focus  Fiesta  Fiesta  Focus  Grand C-MAX  Focus  Focus  Grand C-MAX  Focus  Focus  Focus  Mondeo  Fiesta  Kuga  Fiesta  Kuga  Fiesta  Focus  C-MAX  Galaxy  C-MAX  Grand C-MAX  Fiesta  Edge  Grand C-MAX  Grand C-MAX  Focus  Focus  Focus  Focus  KA  Kuga  Focus  Mondeo  Focus  Streetka  KA  Focus  Kuga  Fiesta  Mondeo  Fiesta  Fiesta  Kuga  Mondeo  Fiesta  Fiesta  Fiesta  Focus  Focus  Focus  B-MAX  KA  KA  EcoSport  Fiesta  Puma  Kuga  KA  Focus  Focus  Fiesta  Fiesta  Focus  Focus  Focus  Focus  Focus  Fiesta  Focus  Kuga  B-MAX  Fiesta  Fiesta  Fiesta  Kuga  Fiesta  Fiesta  Focus  Focus  Mondeo  Mondeo  Fiesta  Focus  Kuga  Focus  Focus  Kuga  EcoSport  Fiesta  Fiesta  Fiesta  Fiesta  Fiesta  EcoSport  B-MAX  Fiesta  Focus  Focus  Fiesta  Focus  Focus  Kuga  Focus  Mondeo  KA  Kuga  Focus  B-MAX  Mondeo  Fiesta  Fiesta  Focus  Kuga  Focus  S-MAX  Kuga  KA  Kuga  EcoSport  Kuga  Mondeo  Fiesta  EcoSport  C-MAX  S-MAX  Fiesta  EcoSport  Fiesta  EcoSport  Fiesta  Fiesta  Focus  Kuga  Kuga  Kuga  Focus  Focus  Focus  Puma  Puma  Focus  Focus  Kuga  Grand C-MAX  Focus  Focus  Kuga  KA  Focus  KA  EcoSport  Focus  EcoSport  Focus  Fiesta  EcoSport  Fiesta  Focus  EcoSport  Focus  Fiesta  Fiesta  Kuga  Grand Tourneo Connect  Fiesta  Kuga  Grand C-MAX  Kuga  C-MAX  Fiesta  Galaxy  Fiesta  Kuga  Fiesta  Mondeo  Focus  Kuga  Focus  Kuga  KA  Fiesta  Fiesta  B-MAX  B-MAX  Mondeo  Focus  Fiesta  Focus  Focus  EcoSport  C-MAX  EcoSport  Fiesta  Fiesta  Focus  Fiesta  Fiesta  Galaxy  C-MAX  Focus  S-MAX  Galaxy  Fiesta  Fiesta  Grand Tourneo Connect  Kuga  Fiesta  Focus  Fiesta  Kuga  Kuga  Focus  Kuga  Fiesta  Focus  Fiesta  C-MAX  Fiesta  C-MAX  Focus  Kuga  Grand C-MAX  C-MAX  Fiesta  Fiesta  Focus  Fiesta  Fiesta  Fiesta  S-MAX  Fiesta  Fiesta  Fiesta  Kuga  Focus  Focus  KA  Kuga  EcoSport  EcoSport  Fiesta  Mondeo  Mondeo  Mondeo  Kuga  Fiesta  Focus  Focus  EcoSport  Focus  Grand C-MAX  Fiesta  Kuga  Kuga  Focus  C-MAX  Focus  Fiesta  Grand Tourneo Connect  Fiesta  Fiesta  Focus  Fiesta  Fiesta  EcoSport  EcoSport  Kuga  C-MAX  Focus  Focus  Focus  Kuga  Fiesta  Focus  Grand C-MAX  KA  Fiesta  Kuga  Fiesta  Fiesta  Fiesta  Fiesta  EcoSport  EcoSport  Kuga  Fiesta  Fiesta  Puma  Fiesta  Kuga  Fiesta  Fiesta  Fiesta  Fiesta  Fiesta  Kuga  Galaxy  Focus  B-MAX  Kuga  Fiesta  Tourneo Connect  KA  Fiesta  Mondeo  Kuga  Fiesta  Fiesta  Fiesta  EcoSport  Focus  Focus  C-MAX  KA  Fiesta  Focus  EcoSport  EcoSport  Fiesta  Fiesta  Focus  Focus  Fiesta  Kuga  Fiesta  Focus  Fiesta  Focus  Fiesta  Fiesta  Mondeo  Puma  Focus  EcoSport  Kuga  Fiesta  C-MAX  Fiesta  Grand C-MAX  Focus  Fiesta  Fiesta  Kuga  EcoSport  Focus  KA  Edge  Fiesta  EcoSport  Kuga  EcoSport  Focus  Fiesta  Fiesta  Kuga  KA  EcoSport  Fiesta  EcoSport  Kuga  Kuga  Grand Tourneo Connect  B-MAX  Tourneo Custom  Fiesta  Focus  EcoSport  Fiesta  Kuga  C-MAX  Fiesta  Fiesta  Focus  Kuga  B-MAX  Focus  Fiesta  Focus  Fiesta  Focus  Kuga  EcoSport  Mondeo  Fiesta  Fiesta  Kuga  Fiesta  Edge  Fiesta  Fiesta  Fiesta  Focus  Focus  Focus  Focus  Focus  Kuga  Kuga  Fiesta  Focus  Focus  Focus  Focus  Kuga  Kuga  Fiesta  Kuga  Focus  Fiesta  Kuga  Kuga  Fiesta  Fiesta  Fiesta  Fiesta  Grand C-MAX  Focus  Kuga  EcoSport  Kuga  EcoSport  Kuga  C-MAX  C-MAX  Focus  B-MAX  Kuga  Kuga  Kuga  Kuga  Kuga  C-MAX  Fiesta  Fiesta  Kuga  EcoSport  Fiesta  Fiesta  Fiesta  Kuga  EcoSport  Fiesta  Fiesta  Mondeo  Fiesta  Focus  Focus  Kuga  Mondeo  Kuga  Focus  Kuga  Focus  Kuga  B-MAX  Focus  S-MAX  Fiesta  Kuga  Kuga  Fiesta  Kuga  Kuga  Kuga  Kuga  Edge  Kuga  Grand Tourneo Connect  Fiesta  Kuga  EcoSport  Fiesta  Fiesta  C-MAX  Focus  Focus  Grand C-MAX  Focus  Grand C-MAX  Focus  EcoSport  EcoSport  EcoSport  Edge  Mondeo  EcoSport  Edge  Fiesta  Fiesta  Focus  Kuga  Fiesta  Fiesta  Mondeo  Fiesta  Fiesta  Fiesta  Ka+  Fiesta  C-MAX  Focus  Focus  Kuga  B-MAX  Fiesta  Kuga  Kuga  Kuga  EcoSport  B-MAX  Focus  Kuga  Mondeo  Fiesta  Focus  Kuga  Fiesta  Focus  Fiesta  Fiesta  Kuga  EcoSport  Focus  Focus  Focus  C-MAX  Fiesta  Kuga  Fiesta  Focus  Focus  Fiesta  Focus  Fiesta  Fiesta  EcoSport  Fiesta  Focus  Fiesta  Fiesta  Focus  Fiesta  Focus  Focus  Focus  Fiesta  Fiesta  Kuga  Focus  EcoSport  Mondeo  B-MAX  Fiesta  Fiesta  Ka+  Kuga  Kuga  Kuga  C-MAX  Focus  Focus  Kuga  C-MAX  Fiesta  C-MAX  Galaxy  Focus  Fiesta  Focus  Kuga  Fiesta  Focus  Mondeo  Fiesta  Edge  Mondeo  Focus  Kuga  Fiesta  Focus  Focus  KA  Focus  Fiesta  Fiesta  Focus  Kuga  Focus  Fiesta  Focus  Focus  Fiesta  Fiesta  Fiesta  Edge  Fiesta  B-MAX  EcoSport  Fiesta  Kuga  Focus  EcoSport  Kuga  Grand Tourneo Connect  Focus  Grand C-MAX  Kuga  Kuga  Mondeo  Focus  Focus  Focus  Focus  Focus  Fiesta  EcoSport  Focus  Fiesta  C-MAX  Kuga  Fiesta  Focus  Focus  Fiesta  B-MAX  C-MAX  B-MAX  Kuga  Mustang  Mustang  Kuga  Fiesta  Fiesta  Kuga  C-MAX  Focus  Fiesta  Grand C-MAX  Mondeo  C-MAX  S-MAX  Fiesta  Fiesta  Fiesta  Kuga  Focus  C-MAX  Fiesta  EcoSport  Focus  Fiesta  Focus  Focus  Kuga  Fiesta  Edge  C-MAX  Fiesta  Kuga  Focus  Focus  Kuga  Kuga  Fiesta  Edge  Focus  Focus  Fiesta  Fiesta  C-MAX  Focus  Fiesta  Fiesta  Focus  Kuga  Kuga  Kuga  Fiesta  Kuga  Fiesta  Fiesta  EcoSport  Fiesta  Edge  Fiesta  Edge  KA  Focus  Fiesta  KA  Fiesta  Focus  Kuga  Kuga  Focus  Fiesta  Focus  Focus  Edge  Fiesta  Kuga  Fiesta  Kuga  Grand C-MAX  C-MAX  Fiesta  Focus  Fiesta  KA  Focus  Fiesta  Fiesta  Focus  Focus  Focus  Focus  Focus  C-MAX  Focus  Focus  Fiesta  Focus  Fiesta  Fiesta  Focus  Fiesta  KA  C-MAX  Kuga  Fiesta  Focus  Kuga  Focus  EcoSport  Galaxy  Focus  Fiesta  Focus  Mondeo  Focus  Focus  Focus  Fiesta  Fiesta  Focus  Focus  Focus  Fiesta  EcoSport  Kuga  Fiesta  Fiesta  Fiesta  Fiesta  Focus  Fiesta  Fiesta  Fiesta  Fiesta  Fiesta  Kuga  Kuga  Kuga  Fiesta  Fiesta  Edge  Fiesta  Fiesta  Focus  Fiesta  Fiesta  Focus  Fiesta  Fiesta  EcoSport  Focus  Fiesta  Fiesta  Kuga  Fiesta  KA  Fiesta  S-MAX  Kuga  Fiesta  Fiesta  Fiesta  Fiesta  Fiesta  Fiesta  Fiesta  Focus  Fiesta  Fiesta  B-MAX  Focus  Fiesta  EcoSport  EcoSport  Kuga  Fiesta  Focus  Fiesta  Fiesta  Focus  Kuga  C-MAX  Focus  Fiesta  Fiesta  B-MAX  Fiesta  Focus  Focus  Kuga  Focus  Fiesta  Fiesta  Focus  Focus  Focus  Fiesta  Fiesta  Fiesta  Fiesta  Kuga  Focus  Focus  Focus  Focus  EcoSport  Fiesta  Fiesta  Kuga  Fiesta  Fiesta  Fiesta  Fiesta  Galaxy  Fiesta  Fiesta  Focus  Focus  EcoSport  Fiesta  Mondeo  Fiesta  Focus  Kuga  C-MAX  Fiesta  Kuga  Kuga  Kuga  Fiesta  Kuga  Fiesta  Kuga  Fiesta  Focus  Kuga  Fiesta  Fiesta  Kuga  Fiesta  Focus  Fiesta  Kuga  Kuga  Kuga  Fiesta  EcoSport  Kuga  Fiesta  Kuga  Fiesta  Edge  Fiesta  Focus  C-MAX  Fiesta  Kuga  Focus  EcoSport  C-MAX  Mondeo  Focus  Fiesta  Focus  Fiesta  Fiesta  EcoSport  C-MAX  Focus  Focus  Focus  B-MAX  Fiesta  Kuga  Fiesta  Fiesta  Fiesta  Kuga  Focus  Fiesta  Fiesta  Fiesta  Galaxy  Focus  Fiesta  Focus  Fiesta  Focus  Focus  KA  Focus  Focus  Fiesta  Focus  Fiesta  Focus  Focus  Fiesta  Fiesta  Fiesta  Fiesta  Mondeo  Mondeo  Fiesta  Fiesta  Kuga  Kuga  C-MAX  C-MAX  Fiesta  Fiesta  Fiesta  Fiesta  Fiesta  KA  Fiesta  Fiesta  Focus  Fiesta  Kuga  Edge  Fiesta  KA  Fiesta  Focus  Focus  Fiesta  Fiesta  Fiesta  Kuga  B-MAX  KA  Focus  Fiesta  Fiesta  B-MAX  Kuga  Focus  C-MAX  Focus  Mondeo  Mondeo  Mondeo  Mondeo  Focus  Focus  Grand C-MAX  Mondeo  EcoSport  Focus  S-MAX  Fiesta  Focus  Focus  Mondeo  Fiesta  Focus  Focus  Focus  Fiesta  KA  Fiesta  Fiesta  Focus  Fiesta  Focus  Fiesta  KA  Fiesta  EcoSport  Kuga  Fiesta  Grand C-MAX  EcoSport  Focus  EcoSport  EcoSport  Fiesta  Fiesta  B-MAX  Fiesta  Kuga  S-MAX  Fiesta  Focus  Galaxy  Focus  Fiesta  Kuga  Focus  Fiesta  Fiesta  KA  Fiesta  Focus  Fiesta  Focus  Fiesta  Focus  Kuga  Focus  Focus  KA  KA  Mondeo  C-MAX  B-MAX  Fiesta  Fiesta  Mondeo  KA  Fiesta  Focus  C-MAX  C-MAX  Fiesta  Fiesta  Kuga  Edge  Fiesta  Focus  Focus  Focus  Fiesta  Focus  Focus  Focus  Grand C-MAX  KA  Focus  Fiesta  Edge  Focus  Mondeo  Kuga  Fiesta  Fiesta  Fiesta  EcoSport  Focus  Kuga  Focus  Kuga  Focus  Focus  B-MAX  Fiesta  Mustang  Kuga  Kuga  Focus  Fiesta  Focus  Fiesta  Fiesta  Focus  Fiesta  Fiesta  Fiesta  Fiesta  C-MAX  Focus  Kuga  EcoSport  Fiesta  Focus  Focus  Focus  Focus  Focus  Focus  Focus  Fiesta  Mondeo  Fiesta  Fiesta  B-MAX  Focus  Kuga  EcoSport  Focus  Kuga  Kuga  Kuga  Fiesta  EcoSport  S-MAX  Fiesta  Fiesta  Fiesta  Fiesta  Fiesta  Kuga  Focus  Focus  Mondeo  EcoSport  Fiesta  Kuga  Focus  Fiesta  Fiesta  Ka+  Fiesta  Fiesta  Focus  Fiesta  Fiesta  Focus  Mondeo  Kuga  Fiesta  Fiesta  Fiesta  Kuga  Focus  Fiesta  Fiesta  KA  Fiesta  Fiesta  Fiesta  EcoSport  Focus  Fiesta  S-MAX  Focus  Kuga  Fiesta  Puma  C-MAX  S-MAX  Galaxy  Galaxy  Fiesta  Kuga  Kuga  Kuga  Kuga  Fiesta  Kuga  Focus  Kuga  S-MAX  S-MAX  Kuga  Kuga  EcoSport  Kuga  KA  Focus  Kuga  Focus  Fiesta  Fiesta  Fiesta  Fiesta  B-MAX  Focus  Focus  Focus  Focus  Focus  Focus  Fiesta  Fiesta  Grand C-MAX  Grand C-MAX  Focus  Grand C-MAX  Focus  Focus  Fiesta  Mondeo  Kuga  Fiesta  Fiesta  C-MAX  Mondeo  KA  Focus  Grand C-MAX  Fiesta  Galaxy  Focus  Fiesta  Kuga  Fiesta  C-MAX  Fiesta  Focus  Fiesta  Focus  Focus  Fiesta  Fiesta  Kuga  Kuga  Fiesta  Kuga  C-MAX  B-MAX  Focus  Fiesta  Fiesta  EcoSport  Ka+  Fiesta  KA  S-MAX  Fiesta  Fiesta  Galaxy  C-MAX  Focus  Fiesta  Kuga  Focus  Fiesta  Focus  Kuga  Kuga  Fiesta  Kuga  B-MAX  Mondeo  S-MAX  Fiesta  Fiesta  EcoSport  Mondeo  Fiesta  C-MAX  Kuga  Focus  Focus  Fiesta  Mondeo  Fiesta  Mondeo  Fiesta  Fiesta  Fiesta  KA  KA  EcoSport  Kuga  Kuga  Kuga  Kuga  Focus  Focus  Focus  Kuga  Kuga  Kuga  Fiesta  Fiesta  Focus  Focus  Focus  Mondeo  C-MAX  Mondeo  Grand C-MAX  Focus  Focus  Focus  Fiesta  Focus  Fiesta  Kuga  Kuga  Fiesta  Fiesta  Focus  Kuga  Focus  Fiesta  Focus  Fiesta  Fiesta  EcoSport  Focus  Focus  Focus  Focus  Focus  Fiesta  Grand C-MAX  Fiesta  Fiesta  Focus  Fiesta  Focus  Galaxy  Mondeo  Focus  Fiesta  Fiesta  Focus  Grand C-MAX  Mondeo  Focus  Focus  Kuga  Focus  Fiesta  Focus  Grand C-MAX  Fiesta  S-MAX  Focus  Fiesta  Fiesta  C-MAX  Kuga  S-MAX  Kuga  Fiesta  Focus  Galaxy  C-MAX  Mondeo  Mondeo  Focus  Grand C-MAX  Focus  Fiesta  Focus  Fiesta  Kuga  Fiesta  Fiesta  Fiesta  Kuga  Focus  Mondeo  Fiesta  Mondeo  Focus  Fiesta  Fiesta  B-MAX  Fiesta  Fiesta  Fiesta  Focus  Focus  Focus  C-MAX  Focus  Kuga  EcoSport  Fiesta  Fiesta  EcoSport  Fiesta  EcoSport  Fiesta  Focus  Focus  C-MAX  Fiesta  Kuga  Fiesta  EcoSport  Fiesta  Focus  EcoSport  Kuga  Kuga  Grand C-MAX  Kuga  S-MAX  S-MAX  Fiesta  C-MAX  Focus  Fiesta  Focus  Fiesta  EcoSport  Kuga  Fiesta  Fiesta  Focus  Focus  KA  Focus  Kuga  Focus  Fiesta  Fiesta  Fiesta  Kuga  Kuga  Fiesta  Fiesta  Fiesta  Fiesta  Mondeo  Fiesta  EcoSport  Ka+  Grand Tourneo Connect  B-MAX  B-MAX  Fiesta  Ka+  KA  Fiesta  EcoSport  Focus  B-MAX  EcoSport  Focus  Kuga  Mondeo  Focus  Fiesta  C-MAX  Fiesta  Fiesta  Ka+  C-MAX  Focus  Fiesta  Fiesta  Kuga  S-MAX  Mondeo  C-MAX  Mondeo  Focus  Fiesta  Focus  EcoSport  EcoSport  Focus  Kuga  Mondeo  EcoSport  Fiesta  Mondeo  S-MAX  Focus  Fiesta  Focus  Ka+  Fiesta  Fiesta  Fiesta  Fiesta  Fiesta  Fiesta  Focus  Focus  Focus  Focus  Grand C-MAX  Kuga  Grand C-MAX  Ka+  Focus  EcoSport  Fiesta  Fiesta  Fiesta  Focus  Fiesta  B-MAX  Edge  Fiesta  Fiesta  Fiesta  Fiesta  EcoSport  Mondeo  EcoSport  Grand C-MAX  Fiesta  Ka+  Fiesta  Focus  Kuga  Ka+  Kuga  Focus  EcoSport  Fiesta  Fiesta  Focus  Focus  Ka+  Fiesta  Fiesta  Fiesta  Fiesta  Fiesta  Fiesta  KA  Fiesta  Fiesta  Fiesta  KA  Focus  Kuga  Fiesta  Fiesta  Fiesta  Focus  Focus  Fiesta  Focus  Focus  C-MAX  Mustang  Mustang  Fiesta  Kuga  Ka+  Kuga  Focus  Fiesta  Fiesta  Fiesta  Tourneo Connect  EcoSport  Kuga  B-MAX  Galaxy  Focus  Fiesta  Kuga  Fiesta  Fiesta  Fiesta  Galaxy  Focus  Focus  Fiesta  Fiesta  Focus  Focus  Kuga  Focus  Ka+  Fiesta  Fiesta  Grand C-MAX  Focus  Fiesta  Kuga  KA  KA  Fiesta  Fiesta  Fiesta  Fiesta  KA  Fusion  EcoSport  Focus  Focus  Mondeo  Fiesta  Mondeo  Mondeo  Focus  Mondeo  Mondeo  S-MAX  Focus  Kuga  Kuga  Kuga  Focus  C-MAX  Edge  EcoSport  Fiesta  Fiesta  Fiesta  Focus  Galaxy  Fiesta  B-MAX  Kuga  Mondeo  Kuga  S-MAX  Fiesta  Focus  Mondeo  Fiesta  Fiesta  Focus  Fiesta  C-MAX  Mondeo  Fiesta  Fiesta  Focus  Fiesta  EcoSport  Kuga  Fiesta  Fiesta  Mondeo  Fiesta  Fiesta  Fiesta  Focus  Fiesta  Focus  EcoSport  Kuga  Focus  EcoSport  Fiesta  Galaxy  Kuga  Fiesta  Mondeo  Focus  Focus  Mondeo  Mondeo  S-MAX  Focus  Focus  Fiesta  Focus  Kuga  Kuga  Edge  Focus  Focus  Fiesta  Ka+  EcoSport  EcoSport  Fiesta  Ka+  EcoSport  Fiesta  Fiesta  Fiesta  Fiesta  Focus  Fiesta  Ka+  Ka+  Fiesta  Focus  Focus  Fiesta  Focus  Focus  Focus  Fiesta  Focus  Fiesta  Fiesta  Focus  Focus  Focus  Fiesta  Focus  Fusion  Focus  Mondeo  Focus  Focus  Fiesta  Fiesta  Fiesta  Fiesta  Fiesta  EcoSport  Mondeo  Fiesta  Focus  EcoSport  Fiesta  KA  C-MAX  C-MAX  Puma  Grand C-MAX  C-MAX  Galaxy  Focus  C-MAX  Galaxy  Focus  Kuga  C-MAX  Grand C-MAX  Kuga  Mondeo  Focus  Focus  Focus  Mondeo  Mondeo  S-MAX  Focus  KA  Kuga  C-MAX  Kuga  Focus  Mondeo  Focus  Mondeo  Focus  Grand C-MAX  S-MAX  Focus  S-MAX  Focus  C-MAX  S-MAX  Fiesta  Galaxy  Fiesta  Focus  Focus  Fiesta  Focus  Focus  Fiesta  Fiesta  Fiesta  Kuga  Focus  C-MAX  Focus  Mondeo  EcoSport  Focus  KA  Focus  Mondeo  Mondeo  Mondeo  Fiesta  Fiesta  Fiesta  Fiesta  KA  Focus  Kuga  Fiesta  Focus  Focus  Focus  Fiesta  Focus  Fiesta  KA  Focus  Focus  Kuga  Focus  Focus  Focus  Focus  Focus  Focus  Focus  Fiesta  Mondeo  Mondeo  Fiesta  Kuga  C-MAX  Focus  EcoSport  Focus  Mondeo  Fiesta  Kuga  Focus  Fiesta  Fiesta  Mondeo  EcoSport  EcoSport  EcoSport  Fiesta  Fiesta  KA  KA  KA  KA  Focus  C-MAX  Fiesta  Kuga  Focus  C-MAX  Mondeo  Fiesta  Fiesta  Focus  Grand C-MAX  B-MAX  Focus  EcoSport  Galaxy  Focus  Kuga  Edge  Fiesta  KA  Fiesta  Fiesta  Focus  Fiesta  Fiesta  Kuga  Fiesta  Kuga  Mondeo  Kuga  Fiesta  Mondeo  Fiesta  Focus  Focus  Focus  Focus  Fiesta  Fiesta  Fiesta  Fiesta  Mondeo  Fiesta  C-MAX  Grand Tourneo Connect  S-MAX  S-MAX  Fiesta  EcoSport  Focus  Focus  Fiesta  B-MAX  C-MAX  Focus  Mondeo  EcoSport  Fiesta  Focus  Mondeo  Focus  Focus  Mondeo  Fiesta  Fiesta  Fiesta  EcoSport  Fiesta  Kuga  Focus  Mondeo  Focus  Focus  Focus  Focus  Kuga  Mondeo  Focus  Focus  Fiesta  Kuga  Fiesta  Focus  C-MAX  Mondeo  Galaxy  Grand C-MAX  Focus  Focus  Fiesta  Fiesta  EcoSport  Focus  Kuga  Focus  KA  B-MAX  KA  Fiesta  Kuga  Focus  Fiesta  Kuga  Fiesta  Focus  Focus  Fiesta  Mondeo  Focus  Fiesta  Fiesta  Fiesta  Focus  Fiesta  Mondeo  Fiesta  Focus  Mondeo  Focus  Fiesta  Fiesta  Focus  Fiesta  Edge  Fiesta  Fiesta  Mondeo  Fiesta  Fiesta  Fiesta  S-MAX  C-MAX  Focus  Fiesta  Fiesta  Fiesta  Fiesta  Mondeo  Focus  Mondeo  Focus  Fiesta  Fiesta  Focus  Fiesta  Fiesta  Kuga  Kuga  Focus  Focus  Kuga  Focus  EcoSport  Focus  Focus  Kuga  S-MAX  Focus  Fiesta  Fiesta  Fiesta  KA  Mondeo  Grand C-MAX  Focus  C-MAX  Mondeo  Mondeo  S-MAX  Focus  Focus  KA  Mondeo  Focus  Focus  Fiesta  S-MAX  Fiesta  C-MAX  Kuga  Fiesta  Focus  KA  Focus  Fiesta  Fiesta  Focus  Focus  Fiesta  Fiesta  Fiesta  Fiesta  Fiesta  Focus  Focus  Fiesta  Kuga  B-MAX  Kuga  Kuga  Fiesta  Focus  C-MAX  Grand C-MAX  Ka+  Kuga  Kuga  Fiesta  Fiesta  EcoSport  Fiesta  Kuga  Fiesta  Focus  Mondeo  C-MAX  Focus  Mondeo  Focus  Focus  Ka+  Focus  Fiesta  C-MAX  Fiesta  Galaxy  Focus  Focus  Fiesta  Focus  Fiesta  Fiesta  KA  Focus  Grand Tourneo Connect  Kuga  Kuga  Focus  Focus  Focus  S-MAX  Kuga  Fiesta  Fiesta  Fiesta  Fiesta  Mondeo  Fiesta  Focus  Fiesta  Galaxy  Focus  KA  Focus  C-MAX  B-MAX  Fiesta  Fiesta  Kuga  Fiesta  Galaxy  Fiesta  KA  Fiesta  Focus  Grand C-MAX  Fiesta  Fiesta  Fiesta  Focus  Focus  Focus  Fiesta  Fiesta  Galaxy  Focus  Fiesta  Mondeo  Focus  Galaxy  Fiesta  Focus  Focus  Focus  Focus  Focus  Focus  Focus  Focus  Fiesta  Fiesta  Fiesta  Focus  Fiesta  Kuga  Focus  Fiesta  Fiesta  Grand C-MAX  Fiesta  Mondeo  Focus  Kuga  Fiesta  Focus  EcoSport  Focus  Focus  Focus  Focus  Fiesta  Focus  Fiesta  B-MAX  Fiesta  Fiesta  Fiesta  Focus  KA  Focus  Mondeo  Kuga  Kuga  Fiesta  S-MAX  Kuga  Fiesta  Mondeo  Focus  Focus  Focus  Mondeo  Kuga  Mondeo  Grand C-MAX  Focus  Fiesta  Focus  Fiesta  Focus  Focus  Fiesta  Focus  Fiesta  Fiesta  Fiesta  Focus  KA  Fiesta  Mondeo  Mondeo  Mondeo  Fiesta  Focus  Focus  Fiesta  EcoSport  Galaxy  Focus  Fusion  Fiesta  Fusion  Focus  Focus  Fiesta  Focus  Kuga  EcoSport  Focus  KA  Fiesta  Fiesta  Focus  Fiesta  Fiesta  C-MAX  Fiesta  KA  Fiesta  Kuga  EcoSport  Fiesta  Mondeo  Fiesta  Focus  Fiesta  Focus  Focus  Focus  Mondeo  B-MAX  Fiesta  Fiesta  S-MAX  Kuga  Fiesta  Fiesta  B-MAX  Escort  Focus  Focus  Focus  S-MAX  Focus  Kuga  C-MAX  Focus  Fiesta  Fiesta  Fiesta  Focus  Fiesta  Kuga  KA  Focus  Fiesta  Focus  Fiesta  Mondeo  Puma  Puma  Focus  Galaxy  Fiesta  Focus  Mondeo  Mondeo  Fiesta  Fiesta  C-MAX  Fiesta  Fiesta  Fiesta  Kuga  Focus  Kuga  Kuga  Focus  Fiesta  Focus  KA  Kuga  C-MAX  Focus  Focus  KA  Focus  Fiesta  Fiesta  Fiesta  EcoSport  S-MAX  Fiesta  Kuga  C-MAX  S-MAX  Fiesta  Fiesta  Fiesta  Mondeo  KA  Fiesta  Ka+  Galaxy  Fiesta  KA  Galaxy  Focus  Fiesta  S-MAX  S-MAX  Focus  Focus  Focus  Focus  S-MAX  Edge  Focus  Focus  Focus  Fiesta  Fiesta  Fiesta  KA  Galaxy  C-MAX  Fiesta  Fiesta  Fiesta  Fiesta  Focus  Fiesta  Fiesta  Fusion  Kuga  Mondeo  Fiesta  Focus  Focus  Focus  Fiesta  Focus  Fiesta  Fiesta  Focus  Kuga  Kuga  Fusion  Fiesta  Fiesta  Focus  Focus  Kuga  B-MAX  Focus  KA  Focus  EcoSport  Focus  Fiesta  Grand C-MAX  Grand C-MAX  Focus  KA  Mondeo  Fiesta  Kuga  Kuga  Mondeo  Fiesta  Mondeo  Fiesta  Focus  Mondeo  EcoSport  Fiesta  Fiesta  Fiesta  Fiesta  EcoSport  EcoSport  Kuga  Kuga  EcoSport  Focus  S-MAX  S-MAX  Focus  KA  Fiesta  Fiesta  Focus  Focus  Fiesta  Focus  Mondeo  Focus  Fiesta  Kuga  Kuga  Fiesta  Fiesta  Fiesta  Fiesta  Focus  Fiesta  Fiesta  Fiesta  KA  Fiesta  C-MAX  B-MAX  KA  Focus  Fiesta  Focus  KA  B-MAX  Fiesta  Mondeo  KA  Mondeo  Kuga  B-MAX  Fiesta  Fiesta  Focus  Mondeo  Fiesta  Focus  Focus  Fusion  Galaxy  Fiesta  EcoSport  Fiesta  Fiesta  Mondeo  Fiesta  Fiesta  Streetka  Galaxy  Focus  Fiesta  Fiesta  Fiesta  EcoSport  Kuga  Focus  Focus  Kuga  Kuga  Fiesta  Grand C-MAX  Kuga  Fiesta  Fiesta  Fiesta  S-MAX  Kuga  Focus  Fiesta  Fiesta  Focus  EcoSport  Fiesta  Fiesta  Fiesta  Fiesta  Fiesta  Focus  Kuga  Kuga  Focus  Focus  Mondeo  Ka+  Grand C-MAX  EcoSport  Fiesta  EcoSport  C-MAX  Fiesta  Fiesta  Kuga  Fiesta  Focus  Fiesta  Fiesta  Puma  EcoSport  Focus  Focus  Kuga  Fiesta  Kuga  Kuga  Fusion  S-MAX  C-MAX  Mondeo  C-MAX  Focus  Focus  Focus  Kuga  Galaxy  Fiesta  Focus  Kuga  Fiesta  Kuga  Fiesta  Fiesta  Fiesta  KA  Focus  Fiesta  Fiesta  Focus  EcoSport  KA  Focus  Focus  Focus  Kuga  Grand C-MAX  Focus  Fiesta  Fiesta  Fiesta  Focus  Fiesta  Focus  Focus  Focus  Kuga  Fiesta  Fiesta  Fiesta  Fiesta  Edge  Fiesta  KA  Fiesta  Grand C-MAX  C-MAX  Kuga  Fiesta  Focus  Focus  KA  Fiesta  Edge  S-MAX  Fiesta  Fiesta  EcoSport  Focus  Kuga  Fiesta  Fiesta  Fiesta  C-MAX  B-MAX  Focus  B-MAX  Mustang  Galaxy  EcoSport  Kuga  Focus  EcoSport  EcoSport  Edge  Kuga  Kuga  Fiesta  Fiesta  KA  Fiesta  Fiesta  Mondeo  Focus  Fiesta  Mondeo  Fiesta  Focus  Fiesta  Fiesta  EcoSport  Fiesta  Focus  Fiesta  Focus  Fiesta  Kuga  Focus  Fiesta  Fiesta  Grand C-MAX  Fiesta  Fiesta  C-MAX  Focus  Focus  S-MAX  Kuga  KA  Fiesta  C-MAX  Kuga  Kuga  Kuga  S-MAX  Grand Tourneo Connect  Fiesta  Fiesta  Fiesta  Fiesta  Focus  Focus  Mondeo  Fiesta  Focus  S-MAX  Grand C-MAX  Focus  Focus  Focus  Fiesta  Galaxy  Focus  Focus  Mondeo  Focus  Focus  Tourneo Connect  Focus  Fiesta  Fiesta  Fiesta  Fiesta  Fiesta  Fiesta  KA  C-MAX  Fiesta  Grand C-MAX  Focus  Focus  Fiesta  Fiesta  Kuga  Fiesta  Fiesta  B-MAX  Kuga  Fusion  Focus  EcoSport  Fiesta  Fiesta  Kuga  Mustang  Fiesta  Focus  Fiesta  Fiesta  Focus  Focus  Fiesta  KA  Fiesta  Fiesta  Fiesta  Kuga  Fiesta  Focus  Fiesta  Fiesta  B-MAX  Fiesta  B-MAX  Focus  KA  Kuga  Fiesta  Fiesta  Mondeo  Fiesta  Kuga  Focus  Edge  Fiesta  Kuga  Focus  Fiesta  Focus  Grand Tourneo Connect  Fiesta  Kuga  Fiesta  Fiesta  Fiesta  Fiesta  Fiesta  Fiesta  Focus  Fiesta  Kuga  Fiesta  Kuga  Fiesta  Fiesta  Grand C-MAX  Fiesta  C-MAX  Fiesta  Focus  Fiesta  Kuga  Fiesta  Kuga  Focus  Fiesta  Focus  Focus  Focus  Focus  Fusion  KA  Focus  Focus  C-MAX  Focus  Fiesta  Focus  C-MAX  Fiesta  Kuga  KA  Fiesta  Fiesta  EcoSport  EcoSport  Fiesta  Focus  Focus  Fiesta  Kuga  KA  Fiesta  KA  KA  KA  Fiesta  Focus  Fiesta  Fiesta  Focus  Mondeo  Kuga  Focus  KA  Fiesta  Fiesta  Fiesta  Fiesta  Fiesta  EcoSport  Fiesta  Focus  KA  C-MAX  Fiesta  Fiesta  Focus  Fiesta  Fiesta  Fiesta  Fiesta  Fiesta  KA  EcoSport  Fiesta  Mondeo  Fiesta  Fiesta  Mondeo  S-MAX  C-MAX  Focus  Focus  Focus  Focus  Focus  Focus  B-MAX  Kuga  Fusion  Mondeo  C-MAX  Galaxy  Focus  S-MAX  C-MAX  Galaxy  C-MAX  Fiesta  Focus  Focus  Mondeo  Focus  Fiesta  Fusion  Mondeo  Focus  Focus  Fiesta  Focus  Focus  Fiesta  Fiesta  Edge  Fiesta  Fiesta  Focus  Mondeo  Fiesta  Fiesta  Fiesta  Fiesta  Ka+  Focus  B-MAX  Fiesta  Fiesta  Kuga  Focus  Kuga  Focus  Focus  Focus  Fiesta  Mondeo  Fiesta  Edge  Fiesta  Fiesta  Fiesta  Fiesta  Mondeo  Focus  Focus  Focus  Focus  Fiesta  Fiesta  Kuga  Kuga  Fiesta  Kuga  Focus  Focus  Fiesta  Focus  Fiesta  Fiesta  Fiesta  Fiesta  Kuga  Focus  Fiesta  Kuga  Focus  Kuga  KA  Focus  Focus  Fiesta  S-MAX  EcoSport  Fiesta  Edge  Focus  Focus  Fiesta  EcoSport  Fiesta  Fiesta  S-MAX  KA  Grand C-MAX  B-MAX  Focus  EcoSport  Mondeo  Focus  EcoSport  Fiesta  Fiesta  KA  Kuga  B-MAX  Fiesta  Grand C-MAX  Kuga  Fiesta  EcoSport  EcoSport  Fiesta  Mondeo  Kuga  Fiesta  Focus  Focus  Fiesta  Fiesta  Fiesta  Fiesta  Fiesta  Fiesta  Edge  Fiesta  Fiesta  Focus  Focus  Fiesta  S-MAX  Focus  Kuga  Fiesta  S-MAX  Focus  Fiesta  B-MAX  Fiesta  S-MAX  Kuga  Fiesta  Fiesta  Galaxy  Fiesta  Focus  Fiesta  Fiesta  Fiesta  Fiesta  Grand C-MAX  Fiesta  Fiesta  Fiesta  Fiesta  Fiesta  Focus  Kuga  Focus  Kuga  C-MAX  Kuga  Kuga  Kuga  Kuga  Fiesta  Fiesta  Kuga  B-MAX  B-MAX  Focus  Fiesta  Fiesta  Fiesta  C-MAX  Fiesta  Focus  Ka+  Fiesta  Fiesta  Fiesta  Kuga  Focus  Fiesta  Focus  Focus  Fiesta  Focus  Fiesta  Focus  Focus  S-MAX  Ka+  Focus  Kuga  Kuga  Kuga  Focus  EcoSport  Fiesta  Focus  Fiesta  Fiesta  Kuga  Fiesta  Focus  Fiesta  Focus  B-MAX  Focus  EcoSport  Grand C-MAX  EcoSport  Fiesta  Fiesta  Focus  Fiesta  Kuga  Fiesta  Fiesta  Focus  Fiesta  S-MAX  Focus  EcoSport  Fiesta  Galaxy  B-MAX  Fiesta  S-MAX  C-MAX  Focus  Focus  Kuga  S-MAX  Fiesta  EcoSport  Fiesta  Focus  Focus  Focus  Fiesta  Fiesta  Fiesta  KA  Focus  Focus  Focus  Fiesta  Kuga  Focus  Focus  Fiesta  Kuga  Kuga  EcoSport  Kuga  C-MAX  Focus  Focus  Grand C-MAX  Grand C-MAX  C-MAX  C-MAX  EcoSport  Tourneo Connect  Focus  Kuga  C-MAX  EcoSport  Fiesta  S-MAX  Mondeo  Fiesta  Fiesta  EcoSport  EcoSport  Grand Tourneo Connect  EcoSport  EcoSport  EcoSport  Fiesta  Fiesta  C-MAX  Focus  EcoSport  EcoSport  Fiesta  Focus  Kuga  Galaxy  Focus  Fiesta  Kuga  Focus  Focus  Focus  Focus  Focus  Focus  Fiesta  Fiesta  Transit Tourneo  S-MAX  Ka+  Ka+  Fiesta  Tourneo Connect  Focus  KA  Focus  Focus  Mondeo  Fiesta  Galaxy  Focus  Fiesta  C-MAX  Fusion  Focus  Fiesta  C-MAX  Focus  Fiesta  C-MAX  Focus  EcoSport  Focus  Fiesta  C-MAX  Kuga  EcoSport  EcoSport  Fiesta  C-MAX  Tourneo Custom  Fiesta  Mondeo  Galaxy  Kuga  Grand C-MAX  Fiesta  C-MAX  Focus  Fiesta  Fiesta  Fiesta  Fiesta  Fiesta  Kuga  Fiesta  B-MAX  Fiesta  Kuga  Grand C-MAX  Grand Tourneo Connect  Kuga  Fiesta  S-MAX  Fiesta  Focus  Kuga  Kuga  Galaxy  Kuga  Puma  Fiesta  Fiesta  Fiesta  Focus  Fiesta  Fiesta  Fiesta  Kuga  Fiesta  Grand Tourneo Connect  Tourneo Custom  Fiesta  Kuga  Fiesta  Fiesta  Kuga  Fiesta  Fiesta  Mondeo  Galaxy  Kuga  EcoSport  Focus  Fiesta  Galaxy  Focus  Galaxy  Mondeo  Ka+  Fiesta  Focus  B-MAX  Focus  S-MAX  Fiesta  Fiesta  Fiesta  Fiesta  Fiesta  Fiesta  Focus  Fiesta  Focus  EcoSport  Fiesta  Fiesta  Fiesta  C-MAX  Focus  EcoSport  Kuga  Fiesta  Fiesta  Focus  Fiesta  Puma  Kuga  Kuga  KA  S-MAX  Fiesta  Mustang  EcoSport  Kuga  Ka+  Fiesta  Fiesta  Ka+  Fiesta  Fiesta  EcoSport  Fiesta  Fiesta  Kuga  Fiesta  EcoSport  EcoSport  Fiesta  Kuga  Edge  EcoSport  Fiesta  Fiesta  Fiesta  Tourneo Custom  Edge  EcoSport  Fiesta  Fiesta  C-MAX  Focus  EcoSport  Fiesta  Edge  Fiesta  Ka+  Fiesta  Fiesta  Focus  Focus  Focus  Kuga  EcoSport  S-MAX  Kuga  Ka+  C-MAX  S-MAX  Fiesta  EcoSport  Fiesta  Fiesta  Fiesta  EcoSport  Fiesta  EcoSport  Ka+  Kuga  EcoSport  Fiesta  Galaxy  Kuga  Focus  Fiesta  Focus  EcoSport  Fiesta  Galaxy  Focus  Kuga  Fiesta  Fiesta  Kuga  Fiesta  Fiesta  Puma  EcoSport  Focus  Fiesta  Galaxy  Fiesta  Fiesta  Kuga  Kuga  Kuga  Kuga  EcoSport  Fiesta  Ka+  Focus  Fiesta  Grand C-MAX  EcoSport  C-MAX  C-MAX  Fiesta  B-MAX  B-MAX  Focus  KA Focus'"
            ],
            "application/vnd.google.colaboratory.intrinsic+json": {
              "type": "string"
            }
          },
          "metadata": {},
          "execution_count": 17
        }
      ],
      "source": [
        "#dftest['model'] = dftest.sum(axis=1, numeric_only=True)\n",
        "\n",
        "model_total=df['model'].tolist()\n",
        "model_total\n",
        "cadena=\" \".join(model_total)\n",
        "cadena"
      ]
    },
    {
      "cell_type": "markdown",
      "source": [
        "Se crea la nube de palabras"
      ],
      "metadata": {
        "id": "067Ohac4tY93"
      }
    },
    {
      "cell_type": "code",
      "execution_count": 18,
      "metadata": {
        "colab": {
          "base_uri": "https://localhost:8080/"
        },
        "id": "1GLKfyNSAC-Y",
        "outputId": "ee768955-8341-4ac0-be8e-4c9828a7682b"
      },
      "outputs": [
        {
          "output_type": "stream",
          "name": "stdout",
          "text": [
            "Nube de palabras creada!\n"
          ]
        }
      ],
      "source": [
        "# crear la nube de palabras\n",
        "nube_de_palabras = WordCloud(background_color='black').generate(cadena)\n",
        "\n",
        "print('Nube de palabras creada!')"
      ]
    },
    {
      "cell_type": "markdown",
      "source": [
        "Con la nube de palabras creada se decide mostrarla por pantalla, eliminando los ejes para que se pueda ver de mejor manera la nube de palabras"
      ],
      "metadata": {
        "id": "RWUWcwKNtlXB"
      }
    },
    {
      "cell_type": "code",
      "execution_count": 19,
      "metadata": {
        "colab": {
          "base_uri": "https://localhost:8080/",
          "height": 455
        },
        "id": "Ka6FPSpiDG-s",
        "outputId": "88f45b32-8237-4efd-e889-a9a893dd0707"
      },
      "outputs": [
        {
          "output_type": "display_data",
          "data": {
            "text/plain": [
              "<Figure size 1008x1296 with 1 Axes>"
            ],
            "image/png": "[encoded data removed]"
          },
          "metadata": {}
        },
        {
          "output_type": "display_data",
          "data": {
            "text/plain": [
              "<Figure size 432x288 with 0 Axes>"
            ]
          },
          "metadata": {}
        }
      ],
      "source": [
        "# desplegar la nube\n",
        "plt.figure(figsize=(14, 18))\n",
        "\n",
        "plt.imshow(nube_de_palabras, interpolation='bilinear')\n",
        "plt.axis('off')\n",
        "plt.title('Los modelos mas Comprados de Ford desde el año 1996 al 2020')\n",
        "plt.show()\n",
        "#Guarda imagen en png\n",
        "plt.savefig(\"NubeDePalabras.png\")"
      ]
    },
    {
      "cell_type": "markdown",
      "metadata": {
        "id": "NlS7uLelM8Oi"
      },
      "source": [
        "# Gráfico de Waffle <a id=\"6\"></a>\n",
        "\n",
        "Con este tipo de grafico buscaremos estudiar la columna de transmission, con la categoria de manual, automatic, semi-auto"
      ]
    },
    {
      "cell_type": "markdown",
      "metadata": {
        "id": "WjX1lJBMNE07"
      },
      "source": [
        "**Paso 1.** El primer paso para crear un gráfico de waffle es determinar la proporción de cada categoría con respecto al total."
      ]
    },
    {
      "cell_type": "code",
      "execution_count": 20,
      "metadata": {
        "colab": {
          "base_uri": "https://localhost:8080/"
        },
        "id": "wyryCcIYNNU2",
        "outputId": "012877e9-8c7f-4775-d092-2fcb87e28775"
      },
      "outputs": [
        {
          "output_type": "stream",
          "name": "stdout",
          "text": [
            "Manual       0.863743\n",
            "Automatic    0.075754\n",
            "Semi-Auto    0.060503\n",
            "Name: transmission, dtype: float64\n"
          ]
        }
      ],
      "source": [
        "#total de datos en la columna de transmission\n",
        "total=df[\"transmission\"].count()\n",
        "#total de datos en la por categoria en columna de transmission\n",
        "df[\"transmission\"].value_counts()\n",
        "\n",
        "#total de datos en la por categoria en columna de transmission\n",
        "proporcion_categorias = df[\"transmission\"].value_counts()/ df[\"transmission\"].count()\n",
        "\n",
        "print(proporcion_categorias)"
      ]
    },
    {
      "cell_type": "markdown",
      "metadata": {
        "id": "c2F4QZR8NVUH"
      },
      "source": [
        "**Paso 2.** El segundo paso es definir el tamaño total del *gráfico de waffle*.\n"
      ]
    },
    {
      "cell_type": "code",
      "execution_count": 21,
      "metadata": {
        "colab": {
          "base_uri": "https://localhost:8080/"
        },
        "id": "YkCXT5CgNWSq",
        "outputId": "b5a4eea5-8945-4811-f59f-56d49b7fa34e"
      },
      "outputs": [
        {
          "output_type": "stream",
          "name": "stdout",
          "text": [
            "Número total de cuadrados: 400.\n"
          ]
        }
      ],
      "source": [
        "ancho = 40 # ancho del gráfico\n",
        "alto = 10  # alto del gráfico\n",
        "\n",
        "num_total_cuadros = ancho * alto # número total de cuadrados\n",
        "\n",
        "print(f'Número total de cuadrados: {num_total_cuadros}.')"
      ]
    },
    {
      "cell_type": "markdown",
      "metadata": {
        "id": "WSwIXDYMNbqh"
      },
      "source": [
        "**Paso 3.** El tercer paso es usar la proporción de cada categoría para determinar el número respectivo de cuadrados que le corresponde a cada una.\n"
      ]
    },
    {
      "cell_type": "code",
      "execution_count": 22,
      "metadata": {
        "colab": {
          "base_uri": "https://localhost:8080/",
          "height": 143
        },
        "id": "N-ZRJfIfNcX-",
        "outputId": "b5925d8f-7b03-4924-8ca6-7ed0c550fdef"
      },
      "outputs": [
        {
          "output_type": "execute_result",
          "data": {
            "text/plain": [
              "           Número de cuadrados\n",
              "Manual                     345\n",
              "Automatic                   30\n",
              "Semi-Auto                   24"
            ],
            "text/html": [
              "\n",
              "  <div id=\"df-b7c7b47b-f1c8-4d36-b912-9c3f0a629fa7\">\n",
              "    <div class=\"colab-df-container\">\n",
              "      <div>\n",
              "<style scoped>\n",
              "    .dataframe tbody tr th:only-of-type {\n",
              "        vertical-align: middle;\n",
              "    }\n",
              "\n",
              "    .dataframe tbody tr th {\n",
              "        vertical-align: top;\n",
              "    }\n",
              "\n",
              "    .dataframe thead th {\n",
              "        text-align: right;\n",
              "    }\n",
              "</style>\n",
              "<table border=\"1\" class=\"dataframe\">\n",
              "  <thead>\n",
              "    <tr style=\"text-align: right;\">\n",
              "      <th></th>\n",
              "      <th>Número de cuadrados</th>\n",
              "    </tr>\n",
              "  </thead>\n",
              "  <tbody>\n",
              "    <tr>\n",
              "      <th>Manual</th>\n",
              "      <td>345</td>\n",
              "    </tr>\n",
              "    <tr>\n",
              "      <th>Automatic</th>\n",
              "      <td>30</td>\n",
              "    </tr>\n",
              "    <tr>\n",
              "      <th>Semi-Auto</th>\n",
              "      <td>24</td>\n",
              "    </tr>\n",
              "  </tbody>\n",
              "</table>\n",
              "</div>\n",
              "      <button class=\"colab-df-convert\" onclick=\"convertToInteractive('df-b7c7b47b-f1c8-4d36-b912-9c3f0a629fa7')\"\n",
              "              title=\"Convert this dataframe to an interactive table.\"\n",
              "              style=\"display:none;\">\n",
              "        \n",
              "  <svg xmlns=\"http://www.w3.org/2000/svg\" height=\"24px\"viewBox=\"0 0 24 24\"\n",
              "       width=\"24px\">\n",
              "    <path d=\"M0 0h24v24H0V0z\" fill=\"none\"/>\n",
              "    <path d=\"M18.56 5.44l.94 2.06.94-2.06 2.06-.94-2.06-.94-.94-2.06-.94 2.06-2.06.94zm-11 1L8.5 8.5l.94-2.06 2.06-.94-2.06-.94L8.5 2.5l-.94 2.06-2.06.94zm10 10l.94 2.06.94-2.06 2.06-.94-2.06-.94-.94-2.06-.94 2.06-2.06.94z\"/><path d=\"M17.41 7.96l-1.37-1.37c-.4-.4-.92-.59-1.43-.59-.52 0-1.04.2-1.43.59L10.3 9.45l-7.72 7.72c-.78.78-.78 2.05 0 2.83L4 21.41c.39.39.9.59 1.41.59.51 0 1.02-.2 1.41-.59l7.78-7.78 2.81-2.81c.8-.78.8-2.07 0-2.86zM5.41 20L4 18.59l7.72-7.72 1.47 1.35L5.41 20z\"/>\n",
              "  </svg>\n",
              "      </button>\n",
              "      \n",
              "  <style>\n",
              "    .colab-df-container {\n",
              "      display:flex;\n",
              "      flex-wrap:wrap;\n",
              "      gap: 12px;\n",
              "    }\n",
              "\n",
              "    .colab-df-convert {\n",
              "      background-color: #E8F0FE;\n",
              "      border: none;\n",
              "      border-radius: 50%;\n",
              "      cursor: pointer;\n",
              "      display: none;\n",
              "      fill: #1967D2;\n",
              "      height: 32px;\n",
              "      padding: 0 0 0 0;\n",
              "      width: 32px;\n",
              "    }\n",
              "\n",
              "    .colab-df-convert:hover {\n",
              "      background-color: #E2EBFA;\n",
              "      box-shadow: 0px 1px 2px rgba(60, 64, 67, 0.3), 0px 1px 3px 1px rgba(60, 64, 67, 0.15);\n",
              "      fill: #174EA6;\n",
              "    }\n",
              "\n",
              "    [theme=dark] .colab-df-convert {\n",
              "      background-color: #3B4455;\n",
              "      fill: #D2E3FC;\n",
              "    }\n",
              "\n",
              "    [theme=dark] .colab-df-convert:hover {\n",
              "      background-color: #434B5C;\n",
              "      box-shadow: 0px 1px 3px 1px rgba(0, 0, 0, 0.15);\n",
              "      filter: drop-shadow(0px 1px 2px rgba(0, 0, 0, 0.3));\n",
              "      fill: #FFFFFF;\n",
              "    }\n",
              "  </style>\n",
              "\n",
              "      <script>\n",
              "        const buttonEl =\n",
              "          document.querySelector('#df-b7c7b47b-f1c8-4d36-b912-9c3f0a629fa7 button.colab-df-convert');\n",
              "        buttonEl.style.display =\n",
              "          google.colab.kernel.accessAllowed ? 'block' : 'none';\n",
              "\n",
              "        async function convertToInteractive(key) {\n",
              "          const element = document.querySelector('#df-b7c7b47b-f1c8-4d36-b912-9c3f0a629fa7');\n",
              "          const dataTable =\n",
              "            await google.colab.kernel.invokeFunction('convertToInteractive',\n",
              "                                                     [key], {});\n",
              "          if (!dataTable) return;\n",
              "\n",
              "          const docLinkHtml = 'Like what you see? Visit the ' +\n",
              "            '<a target=\"_blank\" href=https://colab.research.google.com/notebooks/data_table.ipynb>data table notebook</a>'\n",
              "            + ' to learn more about interactive tables.';\n",
              "          element.innerHTML = '';\n",
              "          dataTable['output_type'] = 'display_data';\n",
              "          await google.colab.output.renderOutput(dataTable, element);\n",
              "          const docLink = document.createElement('div');\n",
              "          docLink.innerHTML = docLinkHtml;\n",
              "          element.appendChild(docLink);\n",
              "        }\n",
              "      </script>\n",
              "    </div>\n",
              "  </div>\n",
              "  "
            ]
          },
          "metadata": {},
          "execution_count": 22
        }
      ],
      "source": [
        "# calcular el número de cuadrados para cada categoría\n",
        "cuadros_por_categoria = (proporcion_categorias * num_total_cuadros).round().astype(int)\n",
        "\n",
        "# mostrar el número de cuadrados por categoría\n",
        "pd.DataFrame({\"Número de cuadrados\": cuadros_por_categoria})"
      ]
    },
    {
      "cell_type": "markdown",
      "metadata": {
        "id": "KV_MSIeJNfTg"
      },
      "source": [
        "Según las proporciones calculadas, Manual ocupará 345 cuadrados del *gráfico de waffle*, Automatic ocupará 30 cuadrados y Semi-auto ocupará 24 cuadrados."
      ]
    },
    {
      "cell_type": "markdown",
      "metadata": {
        "id": "am6l5IbwNo3F"
      },
      "source": [
        "**Paso 4.** El cuarto paso es crear una matriz que se parezca a un *gráfico de waffle* y llenarlo.\n"
      ]
    },
    {
      "cell_type": "code",
      "execution_count": 23,
      "metadata": {
        "id": "WBwTPuJzNpgq"
      },
      "outputs": [],
      "source": [
        "# inicializar el gráfico de waffle con una matriz vacía\n",
        "grafico_waffle = np.zeros((alto, ancho), dtype = np.uint)\n",
        "\n",
        "# definir índices para recorrer el gráfico de waffle\n",
        "categoria_indice = 0\n",
        "cuadrado_indice = 0\n",
        "\n",
        "# poblar el gráfico de waffle\n",
        "for col in range(ancho):\n",
        "    for fil in range(alto):\n",
        "        cuadrado_indice += 1\n",
        "\n",
        "        #  si el número de cuadrados poblado para la categoría actual es igual al numero de cuadrados asignados ...\n",
        "        if cuadrado_indice > sum(cuadros_por_categoria[0:categoria_indice]):\n",
        "            # ...pasa a la siguiente categoria\n",
        "            categoria_indice += 1       \n",
        "            \n",
        "        # configurar el valor de la clases a entero, el cual se incrementa con la clase\n",
        "        grafico_waffle[fil, col] = categoria_indice"
      ]
    },
    {
      "cell_type": "markdown",
      "metadata": {
        "id": "X6j6oBg-NsvR"
      },
      "source": [
        "La matriz consta de tres categorías y el número total de instancias de cada categoría coincide con el número total de mosaicos asignados a cada categoría."
      ]
    },
    {
      "cell_type": "markdown",
      "metadata": {
        "id": "tNkR37d1Nuq2"
      },
      "source": [
        "**Paso 5.** Asignar la matriz del *gráfico de waffle* a un objeto visual y embellecer el gráfico."
      ]
    },
    {
      "cell_type": "code",
      "execution_count": 24,
      "metadata": {
        "colab": {
          "base_uri": "https://localhost:8080/",
          "height": 303
        },
        "id": "NmrusXOxNwNj",
        "outputId": "bbf36672-2dce-47cb-bef0-827bb270e861"
      },
      "outputs": [
        {
          "output_type": "display_data",
          "data": {
            "text/plain": [
              "<Figure size 432x288 with 0 Axes>"
            ]
          },
          "metadata": {}
        },
        {
          "output_type": "display_data",
          "data": {
            "text/plain": [
              "<Figure size 1152x288 with 1 Axes>"
            ],
            "image/png": "[encoded data removed]"
          },
          "metadata": {}
        }
      ],
      "source": [
        "# crear un nuevo objeto del tipo figura\n",
        "figura = plt.figure()\n",
        "\n",
        "# usar matshow para mostrar el gráfico de waffle\n",
        "mapacolores = plt.cm.coolwarm\n",
        "plt.matshow(grafico_waffle, cmap=mapacolores)\n",
        "\n",
        "# obtener los ejes\n",
        "ax = plt.gca()\n",
        "\n",
        "# configurar la marca menor\n",
        "ax.set_xticks(np.arange(-.5, (ancho), 1), minor=True)\n",
        "ax.set_yticks(np.arange(-.5, (alto), 1), minor=True)\n",
        "    \n",
        "# agregar lineas a la grilla basado en las marcas menores\n",
        "ax.grid(which='minor', color='w', linestyle='-', linewidth=2)\n",
        "\n",
        "plt.title(\"Tipos de transmission\")\n",
        "plt.xticks([])\n",
        "plt.yticks([])\n",
        "#Guarda imagen en png\n",
        "plt.savefig(\"GraficoWaffle.png\", bbox_inches='tight')\n",
        "\n",
        "plt.show()"
      ]
    },
    {
      "cell_type": "markdown",
      "source": [
        "Se puede observar de mejor forma la distribución de los tipos de transmission, los favoritos son los manuales, seguidos por los automáticos y más abajo lo semi-automáticos"
      ],
      "metadata": {
        "id": "FElh1YAzx02T"
      }
    },
    {
      "cell_type": "markdown",
      "metadata": {
        "id": "N1ZbMY44OE7n"
      },
      "source": [
        "# Gráfico Histograma <a id=\"6\"></a>\n",
        "\n",
        "Con este tipo de grafico buscaremos estudiar la columna de km/L, para conocer el consumo de los automoviles"
      ]
    },
    {
      "cell_type": "markdown",
      "metadata": {
        "id": "umHG9pA9OIxW"
      },
      "source": [
        "Generar los contenedores usando la funcion de `numpy` (**numpy** `linspace(valor_inicial, valor_final, numero_divisiones)`)."
      ]
    },
    {
      "cell_type": "code",
      "execution_count": 25,
      "metadata": {
        "colab": {
          "base_uri": "https://localhost:8080/"
        },
        "id": "34fWNAIUOKep",
        "outputId": "53df6f57-3119-4ed5-d4ad-a70949c38114"
      },
      "outputs": [
        {
          "output_type": "execute_result",
          "data": {
            "text/plain": [
              "array([ 8.        , 33.66666667, 59.33333333, 85.        ])"
            ]
          },
          "metadata": {},
          "execution_count": 25
        }
      ],
      "source": [
        "contenedores = np.linspace(min(df['fuel consumption(km/l)']), max(df['fuel consumption(km/l)']), 4)\n",
        "contenedores"
      ]
    },
    {
      "cell_type": "markdown",
      "metadata": {
        "id": "rDDGyjvgONbJ"
      },
      "source": [
        "Se crea una lista con el grupo de las variables, las cuales se dividiran en bajo, mediano y alto."
      ]
    },
    {
      "cell_type": "code",
      "execution_count": 26,
      "metadata": {
        "id": "9q7fg5w-OPsV"
      },
      "outputs": [],
      "source": [
        "gasto =['Bajo', 'Mediano', 'Alto']"
      ]
    },
    {
      "cell_type": "markdown",
      "metadata": {
        "id": "evJsK9phOR3T"
      },
      "source": [
        "Se utiliza la funcion `cut` para definir los valores pertenecientes a cada grupo "
      ]
    },
    {
      "cell_type": "code",
      "execution_count": 27,
      "metadata": {
        "colab": {
          "base_uri": "https://localhost:8080/",
          "height": 206
        },
        "id": "4XXBOHjQOTn0",
        "outputId": "f5a88d34-2aca-4482-86f1-3c419e1b8504"
      },
      "outputs": [
        {
          "output_type": "execute_result",
          "data": {
            "text/plain": [
              "   fuel consumption(km/l) gastos-en-km/L\n",
              "0                      24           Bajo\n",
              "1                      24           Bajo\n",
              "2                      24           Bajo\n",
              "3                      17           Bajo\n",
              "4                      20           Bajo"
            ],
            "text/html": [
              "\n",
              "  <div id=\"df-cdcaaa0f-d96f-4582-ad47-4147fc3c93f1\">\n",
              "    <div class=\"colab-df-container\">\n",
              "      <div>\n",
              "<style scoped>\n",
              "    .dataframe tbody tr th:only-of-type {\n",
              "        vertical-align: middle;\n",
              "    }\n",
              "\n",
              "    .dataframe tbody tr th {\n",
              "        vertical-align: top;\n",
              "    }\n",
              "\n",
              "    .dataframe thead th {\n",
              "        text-align: right;\n",
              "    }\n",
              "</style>\n",
              "<table border=\"1\" class=\"dataframe\">\n",
              "  <thead>\n",
              "    <tr style=\"text-align: right;\">\n",
              "      <th></th>\n",
              "      <th>fuel consumption(km/l)</th>\n",
              "      <th>gastos-en-km/L</th>\n",
              "    </tr>\n",
              "  </thead>\n",
              "  <tbody>\n",
              "    <tr>\n",
              "      <th>0</th>\n",
              "      <td>24</td>\n",
              "      <td>Bajo</td>\n",
              "    </tr>\n",
              "    <tr>\n",
              "      <th>1</th>\n",
              "      <td>24</td>\n",
              "      <td>Bajo</td>\n",
              "    </tr>\n",
              "    <tr>\n",
              "      <th>2</th>\n",
              "      <td>24</td>\n",
              "      <td>Bajo</td>\n",
              "    </tr>\n",
              "    <tr>\n",
              "      <th>3</th>\n",
              "      <td>17</td>\n",
              "      <td>Bajo</td>\n",
              "    </tr>\n",
              "    <tr>\n",
              "      <th>4</th>\n",
              "      <td>20</td>\n",
              "      <td>Bajo</td>\n",
              "    </tr>\n",
              "  </tbody>\n",
              "</table>\n",
              "</div>\n",
              "      <button class=\"colab-df-convert\" onclick=\"convertToInteractive('df-cdcaaa0f-d96f-4582-ad47-4147fc3c93f1')\"\n",
              "              title=\"Convert this dataframe to an interactive table.\"\n",
              "              style=\"display:none;\">\n",
              "        \n",
              "  <svg xmlns=\"http://www.w3.org/2000/svg\" height=\"24px\"viewBox=\"0 0 24 24\"\n",
              "       width=\"24px\">\n",
              "    <path d=\"M0 0h24v24H0V0z\" fill=\"none\"/>\n",
              "    <path d=\"M18.56 5.44l.94 2.06.94-2.06 2.06-.94-2.06-.94-.94-2.06-.94 2.06-2.06.94zm-11 1L8.5 8.5l.94-2.06 2.06-.94-2.06-.94L8.5 2.5l-.94 2.06-2.06.94zm10 10l.94 2.06.94-2.06 2.06-.94-2.06-.94-.94-2.06-.94 2.06-2.06.94z\"/><path d=\"M17.41 7.96l-1.37-1.37c-.4-.4-.92-.59-1.43-.59-.52 0-1.04.2-1.43.59L10.3 9.45l-7.72 7.72c-.78.78-.78 2.05 0 2.83L4 21.41c.39.39.9.59 1.41.59.51 0 1.02-.2 1.41-.59l7.78-7.78 2.81-2.81c.8-.78.8-2.07 0-2.86zM5.41 20L4 18.59l7.72-7.72 1.47 1.35L5.41 20z\"/>\n",
              "  </svg>\n",
              "      </button>\n",
              "      \n",
              "  <style>\n",
              "    .colab-df-container {\n",
              "      display:flex;\n",
              "      flex-wrap:wrap;\n",
              "      gap: 12px;\n",
              "    }\n",
              "\n",
              "    .colab-df-convert {\n",
              "      background-color: #E8F0FE;\n",
              "      border: none;\n",
              "      border-radius: 50%;\n",
              "      cursor: pointer;\n",
              "      display: none;\n",
              "      fill: #1967D2;\n",
              "      height: 32px;\n",
              "      padding: 0 0 0 0;\n",
              "      width: 32px;\n",
              "    }\n",
              "\n",
              "    .colab-df-convert:hover {\n",
              "      background-color: #E2EBFA;\n",
              "      box-shadow: 0px 1px 2px rgba(60, 64, 67, 0.3), 0px 1px 3px 1px rgba(60, 64, 67, 0.15);\n",
              "      fill: #174EA6;\n",
              "    }\n",
              "\n",
              "    [theme=dark] .colab-df-convert {\n",
              "      background-color: #3B4455;\n",
              "      fill: #D2E3FC;\n",
              "    }\n",
              "\n",
              "    [theme=dark] .colab-df-convert:hover {\n",
              "      background-color: #434B5C;\n",
              "      box-shadow: 0px 1px 3px 1px rgba(0, 0, 0, 0.15);\n",
              "      filter: drop-shadow(0px 1px 2px rgba(0, 0, 0, 0.3));\n",
              "      fill: #FFFFFF;\n",
              "    }\n",
              "  </style>\n",
              "\n",
              "      <script>\n",
              "        const buttonEl =\n",
              "          document.querySelector('#df-cdcaaa0f-d96f-4582-ad47-4147fc3c93f1 button.colab-df-convert');\n",
              "        buttonEl.style.display =\n",
              "          google.colab.kernel.accessAllowed ? 'block' : 'none';\n",
              "\n",
              "        async function convertToInteractive(key) {\n",
              "          const element = document.querySelector('#df-cdcaaa0f-d96f-4582-ad47-4147fc3c93f1');\n",
              "          const dataTable =\n",
              "            await google.colab.kernel.invokeFunction('convertToInteractive',\n",
              "                                                     [key], {});\n",
              "          if (!dataTable) return;\n",
              "\n",
              "          const docLinkHtml = 'Like what you see? Visit the ' +\n",
              "            '<a target=\"_blank\" href=https://colab.research.google.com/notebooks/data_table.ipynb>data table notebook</a>'\n",
              "            + ' to learn more about interactive tables.';\n",
              "          element.innerHTML = '';\n",
              "          dataTable['output_type'] = 'display_data';\n",
              "          await google.colab.output.renderOutput(dataTable, element);\n",
              "          const docLink = document.createElement('div');\n",
              "          docLink.innerHTML = docLinkHtml;\n",
              "          element.appendChild(docLink);\n",
              "        }\n",
              "      </script>\n",
              "    </div>\n",
              "  </div>\n",
              "  "
            ]
          },
          "metadata": {},
          "execution_count": 27
        }
      ],
      "source": [
        "df['gastos-en-km/L'] = pd.cut(df['fuel consumption(km/l)'], contenedores, labels=gasto, include_lowest=True )\n",
        "df[['fuel consumption(km/l)','gastos-en-km/L']].head(5)"
      ]
    },
    {
      "cell_type": "markdown",
      "metadata": {
        "id": "tVb0uEhAOYdx"
      },
      "source": [
        "Para ver el numero de autos que hay en cada grupo de gastos en km/L, se usa el metodo `.values_counts()`"
      ]
    },
    {
      "cell_type": "code",
      "execution_count": 28,
      "metadata": {
        "colab": {
          "base_uri": "https://localhost:8080/"
        },
        "id": "dMPL4IwTOZ9-",
        "outputId": "cdc457f4-ce08-4d94-ba84-15e7cbb439e4"
      },
      "outputs": [
        {
          "output_type": "execute_result",
          "data": {
            "text/plain": [
              "Bajo       17770\n",
              "Mediano      191\n",
              "Alto           5\n",
              "Name: gastos-en-km/L, dtype: int64"
            ]
          },
          "metadata": {},
          "execution_count": 28
        }
      ],
      "source": [
        "df['gastos-en-km/L'].value_counts() "
      ]
    },
    {
      "cell_type": "markdown",
      "metadata": {
        "id": "ykEAzIT1OcCJ"
      },
      "source": [
        "#### Gráfico de cada distribución <a id=\"1\"></a>\n"
      ]
    },
    {
      "cell_type": "code",
      "execution_count": 29,
      "metadata": {
        "colab": {
          "base_uri": "https://localhost:8080/",
          "height": 305
        },
        "id": "hSkjeQMAOdmZ",
        "outputId": "1a7e16e9-a5b2-42e4-8451-dc768e825a07"
      },
      "outputs": [
        {
          "output_type": "display_data",
          "data": {
            "text/plain": [
              "<Figure size 432x288 with 1 Axes>"
            ],
            "image/png": "[encoded data removed]"
          },
          "metadata": {
            "needs_background": "light"
          }
        }
      ],
      "source": [
        "%matplotlib inline\n",
        "import matplotlib as plt\n",
        "\n",
        "\n",
        "plt.pyplot.bar(gasto, df[\"gastos-en-km/L\"].value_counts(),color = \"skyblue\", lw=0)\n",
        "#Configurar las etiquetas para los ejes x e y más un título\n",
        "font1 = {'family':'serif','color':'blue','size':15}\n",
        "font2 = {'family':'serif','color':'blue','size':15}\n",
        "font3 = {'family':'serif','color':'black','size':20}\n",
        "\n",
        "\n",
        "\n",
        "plt.pyplot.xlabel(\"fuel consumption(km/l)\", fontdict = font1)\n",
        "plt.pyplot.ylabel(\"cantidad automoviles\", fontdict = font2)\n",
        "plt.pyplot.title(\"Contenedores km/L\", fontdict = font3)\n",
        "\n",
        "\n",
        "\n",
        "\n",
        "#Guarda imagen en png\n",
        "plt.pyplot.savefig(\"HistogramaConContenedores.png\")"
      ]
    },
    {
      "cell_type": "markdown",
      "metadata": {
        "id": "WVDWLk02Oh61"
      },
      "source": [
        "Se ve claramente la tendencia del consumo bajo de los automoviles, por lo que el consumo de combustible cumple un rol muy importante a la hora de tener un automovil "
      ]
    },
    {
      "cell_type": "code",
      "execution_count": 30,
      "metadata": {
        "colab": {
          "base_uri": "https://localhost:8080/",
          "height": 305
        },
        "id": "N_1HCM7fOiw7",
        "outputId": "5fb5821d-ba75-42ed-82b1-2c30460b56d4"
      },
      "outputs": [
        {
          "output_type": "display_data",
          "data": {
            "text/plain": [
              "<Figure size 432x288 with 1 Axes>"
            ],
            "image/png": "[encoded data removed]"
          },
          "metadata": {
            "needs_background": "light"
          }
        }
      ],
      "source": [
        "plt.pyplot.hist(df[\"fuel consumption(km/l)\"], bins=3,color = \"skyblue\", lw=0)\n",
        "\n",
        "#Configurar las etiquetas para los ejes x e y más un título\n",
        "\n",
        "font1 = {'family':'serif','color':'blue','size':15}\n",
        "font2 = {'family':'serif','color':'blue','size':15}\n",
        "font3 = {'family':'serif','color':'black','size':20}\n",
        "\n",
        "plt.pyplot.xlabel(\"fuel consumption(km/l)\", fontdict = font1)\n",
        "plt.pyplot.ylabel(\"cantidad\", fontdict = font2)\n",
        "plt.pyplot.title(\"Contenedores km/L\", fontdict = font3)\n",
        "\n",
        "#Guarda imagen en png\n",
        "\n",
        "plt.pyplot.savefig(\"HistogramaSinContenedores.png\")"
      ]
    },
    {
      "cell_type": "markdown",
      "metadata": {
        "id": "7JdUjWPtOlZb"
      },
      "source": [
        "Aqui se puede ver de mejor forma la distribucion segun los km/L en cada contenedor creado."
      ]
    },
    {
      "cell_type": "markdown",
      "source": [
        "# Subgráfico <a id=\"6\"></a>"
      ],
      "metadata": {
        "id": "RH_FNTdbUTtA"
      }
    },
    {
      "cell_type": "markdown",
      "source": [
        "Cargar el conjunto de datos"
      ],
      "metadata": {
        "id": "EscMFACwUlHo"
      }
    },
    {
      "cell_type": "code",
      "source": [
        "df_subgraph = pd.read_csv('datos_vehiculos_procesados.csv')"
      ],
      "metadata": {
        "id": "7PfOaNHoUVH8"
      },
      "execution_count": 33,
      "outputs": []
    },
    {
      "cell_type": "markdown",
      "source": [
        "Se eliminan las columnas innecesarias"
      ],
      "metadata": {
        "id": "0UDnZBTF8y3J"
      }
    },
    {
      "cell_type": "code",
      "source": [
        "df_subgraph.drop(['transmission', 'mileage', 'fuelType', 'tax', 'gastos-en-km/L', 'Transmision Automatica', 'Transmision Manual', 'Transmision Semi-Automatica', 'km/L', 'km/LNorm','kmNorm'], axis=1, inplace=True)"
      ],
      "metadata": {
        "id": "pBUZvu0xVA3t"
      },
      "execution_count": 34,
      "outputs": []
    },
    {
      "cell_type": "markdown",
      "source": [
        "Se cambia el nombre de las columnas, para mayor comodidad"
      ],
      "metadata": {
        "id": "Z2a-VG6s853z"
      }
    },
    {
      "cell_type": "code",
      "source": [
        "df_subgraph.rename(columns={'model':'Modelo', 'year':'Año','price':'Precio en EUR','mpg':'Millas por galón','engineSize':'Tamaño del motor'}, inplace=True)"
      ],
      "metadata": {
        "id": "q1VofJta85Xf"
      },
      "execution_count": 35,
      "outputs": []
    },
    {
      "cell_type": "markdown",
      "source": [
        "Hay que asegurarse que las etiquetas de las columnas son de tipo string, para mantener la coherencia"
      ],
      "metadata": {
        "id": "wBR29qTl8-4Q"
      }
    },
    {
      "cell_type": "code",
      "source": [
        "df_subgraph.columns = list(map(str, df_subgraph.columns))"
      ],
      "metadata": {
        "id": "CYUQBzdE8-ZZ"
      },
      "execution_count": 36,
      "outputs": []
    },
    {
      "cell_type": "markdown",
      "source": [
        "Finalmente, así queda el DataFrame:"
      ],
      "metadata": {
        "id": "HlUFbu6w9HVG"
      }
    },
    {
      "cell_type": "code",
      "source": [
        "df_subgraph"
      ],
      "metadata": {
        "colab": {
          "base_uri": "https://localhost:8080/",
          "height": 424
        },
        "id": "gi-rJDNgVFuM",
        "outputId": "0f6338fe-50a9-44f6-a2c5-f42ad22390fe"
      },
      "execution_count": 41,
      "outputs": [
        {
          "output_type": "execute_result",
          "data": {
            "text/plain": [
              "        Modelo   Año  Precio en EUR  Millas por galón  Tamaño del motor  \\\n",
              "0       Fiesta  2017          12000              57.7               1.0   \n",
              "1        Focus  2018          14000              57.7               1.0   \n",
              "2        Focus  2017          13000              57.7               1.0   \n",
              "3       Fiesta  2019          17500              40.3               1.5   \n",
              "4       Fiesta  2019          16500              48.7               1.0   \n",
              "...        ...   ...            ...               ...               ...   \n",
              "17961    B-MAX  2017           8999              47.1               1.4   \n",
              "17962    B-MAX  2014           7499              57.7               1.0   \n",
              "17963    Focus  2015           9999              67.3               1.6   \n",
              "17964       KA  2018           8299              57.7               1.2   \n",
              "17965    Focus  2015           8299              57.7               1.0   \n",
              "\n",
              "                km  \n",
              "0      25659.31696  \n",
              "1      14617.63522  \n",
              "2      20045.93904  \n",
              "3      16833.69640  \n",
              "4       2385.04188  \n",
              "...            ...  \n",
              "17961  26875.97800  \n",
              "17962  65500.13800  \n",
              "17963  11281.47340  \n",
              "17964   8057.96538  \n",
              "17965   8057.96538  \n",
              "\n",
              "[17966 rows x 6 columns]"
            ],
            "text/html": [
              "\n",
              "  <div id=\"df-c7a8b478-2a01-42ed-ad2f-d0fbc96b1d10\">\n",
              "    <div class=\"colab-df-container\">\n",
              "      <div>\n",
              "<style scoped>\n",
              "    .dataframe tbody tr th:only-of-type {\n",
              "        vertical-align: middle;\n",
              "    }\n",
              "\n",
              "    .dataframe tbody tr th {\n",
              "        vertical-align: top;\n",
              "    }\n",
              "\n",
              "    .dataframe thead th {\n",
              "        text-align: right;\n",
              "    }\n",
              "</style>\n",
              "<table border=\"1\" class=\"dataframe\">\n",
              "  <thead>\n",
              "    <tr style=\"text-align: right;\">\n",
              "      <th></th>\n",
              "      <th>Modelo</th>\n",
              "      <th>Año</th>\n",
              "      <th>Precio en EUR</th>\n",
              "      <th>Millas por galón</th>\n",
              "      <th>Tamaño del motor</th>\n",
              "      <th>km</th>\n",
              "    </tr>\n",
              "  </thead>\n",
              "  <tbody>\n",
              "    <tr>\n",
              "      <th>0</th>\n",
              "      <td>Fiesta</td>\n",
              "      <td>2017</td>\n",
              "      <td>12000</td>\n",
              "      <td>57.7</td>\n",
              "      <td>1.0</td>\n",
              "      <td>25659.31696</td>\n",
              "    </tr>\n",
              "    <tr>\n",
              "      <th>1</th>\n",
              "      <td>Focus</td>\n",
              "      <td>2018</td>\n",
              "      <td>14000</td>\n",
              "      <td>57.7</td>\n",
              "      <td>1.0</td>\n",
              "      <td>14617.63522</td>\n",
              "    </tr>\n",
              "    <tr>\n",
              "      <th>2</th>\n",
              "      <td>Focus</td>\n",
              "      <td>2017</td>\n",
              "      <td>13000</td>\n",
              "      <td>57.7</td>\n",
              "      <td>1.0</td>\n",
              "      <td>20045.93904</td>\n",
              "    </tr>\n",
              "    <tr>\n",
              "      <th>3</th>\n",
              "      <td>Fiesta</td>\n",
              "      <td>2019</td>\n",
              "      <td>17500</td>\n",
              "      <td>40.3</td>\n",
              "      <td>1.5</td>\n",
              "      <td>16833.69640</td>\n",
              "    </tr>\n",
              "    <tr>\n",
              "      <th>4</th>\n",
              "      <td>Fiesta</td>\n",
              "      <td>2019</td>\n",
              "      <td>16500</td>\n",
              "      <td>48.7</td>\n",
              "      <td>1.0</td>\n",
              "      <td>2385.04188</td>\n",
              "    </tr>\n",
              "    <tr>\n",
              "      <th>...</th>\n",
              "      <td>...</td>\n",
              "      <td>...</td>\n",
              "      <td>...</td>\n",
              "      <td>...</td>\n",
              "      <td>...</td>\n",
              "      <td>...</td>\n",
              "    </tr>\n",
              "    <tr>\n",
              "      <th>17961</th>\n",
              "      <td>B-MAX</td>\n",
              "      <td>2017</td>\n",
              "      <td>8999</td>\n",
              "      <td>47.1</td>\n",
              "      <td>1.4</td>\n",
              "      <td>26875.97800</td>\n",
              "    </tr>\n",
              "    <tr>\n",
              "      <th>17962</th>\n",
              "      <td>B-MAX</td>\n",
              "      <td>2014</td>\n",
              "      <td>7499</td>\n",
              "      <td>57.7</td>\n",
              "      <td>1.0</td>\n",
              "      <td>65500.13800</td>\n",
              "    </tr>\n",
              "    <tr>\n",
              "      <th>17963</th>\n",
              "      <td>Focus</td>\n",
              "      <td>2015</td>\n",
              "      <td>9999</td>\n",
              "      <td>67.3</td>\n",
              "      <td>1.6</td>\n",
              "      <td>11281.47340</td>\n",
              "    </tr>\n",
              "    <tr>\n",
              "      <th>17964</th>\n",
              "      <td>KA</td>\n",
              "      <td>2018</td>\n",
              "      <td>8299</td>\n",
              "      <td>57.7</td>\n",
              "      <td>1.2</td>\n",
              "      <td>8057.96538</td>\n",
              "    </tr>\n",
              "    <tr>\n",
              "      <th>17965</th>\n",
              "      <td>Focus</td>\n",
              "      <td>2015</td>\n",
              "      <td>8299</td>\n",
              "      <td>57.7</td>\n",
              "      <td>1.0</td>\n",
              "      <td>8057.96538</td>\n",
              "    </tr>\n",
              "  </tbody>\n",
              "</table>\n",
              "<p>17966 rows × 6 columns</p>\n",
              "</div>\n",
              "      <button class=\"colab-df-convert\" onclick=\"convertToInteractive('df-c7a8b478-2a01-42ed-ad2f-d0fbc96b1d10')\"\n",
              "              title=\"Convert this dataframe to an interactive table.\"\n",
              "              style=\"display:none;\">\n",
              "        \n",
              "  <svg xmlns=\"http://www.w3.org/2000/svg\" height=\"24px\"viewBox=\"0 0 24 24\"\n",
              "       width=\"24px\">\n",
              "    <path d=\"M0 0h24v24H0V0z\" fill=\"none\"/>\n",
              "    <path d=\"M18.56 5.44l.94 2.06.94-2.06 2.06-.94-2.06-.94-.94-2.06-.94 2.06-2.06.94zm-11 1L8.5 8.5l.94-2.06 2.06-.94-2.06-.94L8.5 2.5l-.94 2.06-2.06.94zm10 10l.94 2.06.94-2.06 2.06-.94-2.06-.94-.94-2.06-.94 2.06-2.06.94z\"/><path d=\"M17.41 7.96l-1.37-1.37c-.4-.4-.92-.59-1.43-.59-.52 0-1.04.2-1.43.59L10.3 9.45l-7.72 7.72c-.78.78-.78 2.05 0 2.83L4 21.41c.39.39.9.59 1.41.59.51 0 1.02-.2 1.41-.59l7.78-7.78 2.81-2.81c.8-.78.8-2.07 0-2.86zM5.41 20L4 18.59l7.72-7.72 1.47 1.35L5.41 20z\"/>\n",
              "  </svg>\n",
              "      </button>\n",
              "      \n",
              "  <style>\n",
              "    .colab-df-container {\n",
              "      display:flex;\n",
              "      flex-wrap:wrap;\n",
              "      gap: 12px;\n",
              "    }\n",
              "\n",
              "    .colab-df-convert {\n",
              "      background-color: #E8F0FE;\n",
              "      border: none;\n",
              "      border-radius: 50%;\n",
              "      cursor: pointer;\n",
              "      display: none;\n",
              "      fill: #1967D2;\n",
              "      height: 32px;\n",
              "      padding: 0 0 0 0;\n",
              "      width: 32px;\n",
              "    }\n",
              "\n",
              "    .colab-df-convert:hover {\n",
              "      background-color: #E2EBFA;\n",
              "      box-shadow: 0px 1px 2px rgba(60, 64, 67, 0.3), 0px 1px 3px 1px rgba(60, 64, 67, 0.15);\n",
              "      fill: #174EA6;\n",
              "    }\n",
              "\n",
              "    [theme=dark] .colab-df-convert {\n",
              "      background-color: #3B4455;\n",
              "      fill: #D2E3FC;\n",
              "    }\n",
              "\n",
              "    [theme=dark] .colab-df-convert:hover {\n",
              "      background-color: #434B5C;\n",
              "      box-shadow: 0px 1px 3px 1px rgba(0, 0, 0, 0.15);\n",
              "      filter: drop-shadow(0px 1px 2px rgba(0, 0, 0, 0.3));\n",
              "      fill: #FFFFFF;\n",
              "    }\n",
              "  </style>\n",
              "\n",
              "      <script>\n",
              "        const buttonEl =\n",
              "          document.querySelector('#df-c7a8b478-2a01-42ed-ad2f-d0fbc96b1d10 button.colab-df-convert');\n",
              "        buttonEl.style.display =\n",
              "          google.colab.kernel.accessAllowed ? 'block' : 'none';\n",
              "\n",
              "        async function convertToInteractive(key) {\n",
              "          const element = document.querySelector('#df-c7a8b478-2a01-42ed-ad2f-d0fbc96b1d10');\n",
              "          const dataTable =\n",
              "            await google.colab.kernel.invokeFunction('convertToInteractive',\n",
              "                                                     [key], {});\n",
              "          if (!dataTable) return;\n",
              "\n",
              "          const docLinkHtml = 'Like what you see? Visit the ' +\n",
              "            '<a target=\"_blank\" href=https://colab.research.google.com/notebooks/data_table.ipynb>data table notebook</a>'\n",
              "            + ' to learn more about interactive tables.';\n",
              "          element.innerHTML = '';\n",
              "          dataTable['output_type'] = 'display_data';\n",
              "          await google.colab.output.renderOutput(dataTable, element);\n",
              "          const docLink = document.createElement('div');\n",
              "          docLink.innerHTML = docLinkHtml;\n",
              "          element.appendChild(docLink);\n",
              "        }\n",
              "      </script>\n",
              "    </div>\n",
              "  </div>\n",
              "  "
            ]
          },
          "metadata": {},
          "execution_count": 41
        }
      ]
    },
    {
      "cell_type": "markdown",
      "source": [
        "Se agrupa el dataframe por el año, se obtiene la media de los precios en cada rango de años y se guarda en un nuevo dataframe.  \n",
        "*Observación: Al crear este nuevo DataFrame, se reinicia el index para que quede por defecto de manera que los datos queden ordenados."
      ],
      "metadata": {
        "id": "8yieB6IqXM6_"
      }
    },
    {
      "cell_type": "code",
      "source": [
        "agrupacion = df_subgraph.groupby('Año')\n",
        "\n",
        "prom_precio = agrupacion['Precio en EUR'].mean()\n",
        "\n",
        "df_grafico = pd.DataFrame(prom_precio)\n",
        "df_grafico = df_grafico.reset_index()"
      ],
      "metadata": {
        "id": "nbkSen9T9OiY"
      },
      "execution_count": 42,
      "outputs": []
    },
    {
      "cell_type": "markdown",
      "source": [
        "Luego, se elimina el único dato que existe en el año 2060, ya que al ser este un outlier dentro de los años, está perjudicando al resto de datos."
      ],
      "metadata": {
        "id": "ssSym0Y19Z0R"
      }
    },
    {
      "cell_type": "code",
      "source": [
        "# Se elimina el único dato que hay en el año 2060 ya que genera problemas al graficar, siendo un año muy alejado al resto.\n",
        "drop = df_grafico[(df_grafico.Año == 2060)].index\n",
        "df_grafico.drop(drop, inplace=True)"
      ],
      "metadata": {
        "id": "7ci1XbCXVN1h"
      },
      "execution_count": 43,
      "outputs": []
    },
    {
      "cell_type": "markdown",
      "source": [
        "Finalmente, se deja el año como el índice del dataframe nuevo."
      ],
      "metadata": {
        "id": "1RvsFF9s9dZ1"
      }
    },
    {
      "cell_type": "code",
      "source": [
        "df_grafico.set_index('Año', inplace=True)\n",
        "\n",
        "df_grafico"
      ],
      "metadata": {
        "colab": {
          "base_uri": "https://localhost:8080/",
          "height": 771
        },
        "id": "pONNgrjC96b3",
        "outputId": "42118c11-e7a6-477f-b3db-8a2093e480fe"
      },
      "execution_count": 44,
      "outputs": [
        {
          "output_type": "execute_result",
          "data": {
            "text/plain": [
              "      Precio en EUR\n",
              "Año                \n",
              "1996    3000.000000\n",
              "1998    2699.000000\n",
              "2000    1995.000000\n",
              "2002    1928.333333\n",
              "2003    2063.000000\n",
              "2004    1436.000000\n",
              "2005    1593.000000\n",
              "2006    2202.615385\n",
              "2007    2603.562500\n",
              "2008    2598.894737\n",
              "2009    3719.725275\n",
              "2010    4058.253731\n",
              "2011    5022.478723\n",
              "2012    5680.930435\n",
              "2013    6703.940887\n",
              "2014    7541.874534\n",
              "2015    8777.817982\n",
              "2016   10665.668812\n",
              "2017   11965.689853\n",
              "2018   13157.894619\n",
              "2019   17176.449280\n",
              "2020   20819.872093"
            ],
            "text/html": [
              "\n",
              "  <div id=\"df-f9781b60-1058-493f-ad54-ee643fb6cd47\">\n",
              "    <div class=\"colab-df-container\">\n",
              "      <div>\n",
              "<style scoped>\n",
              "    .dataframe tbody tr th:only-of-type {\n",
              "        vertical-align: middle;\n",
              "    }\n",
              "\n",
              "    .dataframe tbody tr th {\n",
              "        vertical-align: top;\n",
              "    }\n",
              "\n",
              "    .dataframe thead th {\n",
              "        text-align: right;\n",
              "    }\n",
              "</style>\n",
              "<table border=\"1\" class=\"dataframe\">\n",
              "  <thead>\n",
              "    <tr style=\"text-align: right;\">\n",
              "      <th></th>\n",
              "      <th>Precio en EUR</th>\n",
              "    </tr>\n",
              "    <tr>\n",
              "      <th>Año</th>\n",
              "      <th></th>\n",
              "    </tr>\n",
              "  </thead>\n",
              "  <tbody>\n",
              "    <tr>\n",
              "      <th>1996</th>\n",
              "      <td>3000.000000</td>\n",
              "    </tr>\n",
              "    <tr>\n",
              "      <th>1998</th>\n",
              "      <td>2699.000000</td>\n",
              "    </tr>\n",
              "    <tr>\n",
              "      <th>2000</th>\n",
              "      <td>1995.000000</td>\n",
              "    </tr>\n",
              "    <tr>\n",
              "      <th>2002</th>\n",
              "      <td>1928.333333</td>\n",
              "    </tr>\n",
              "    <tr>\n",
              "      <th>2003</th>\n",
              "      <td>2063.000000</td>\n",
              "    </tr>\n",
              "    <tr>\n",
              "      <th>2004</th>\n",
              "      <td>1436.000000</td>\n",
              "    </tr>\n",
              "    <tr>\n",
              "      <th>2005</th>\n",
              "      <td>1593.000000</td>\n",
              "    </tr>\n",
              "    <tr>\n",
              "      <th>2006</th>\n",
              "      <td>2202.615385</td>\n",
              "    </tr>\n",
              "    <tr>\n",
              "      <th>2007</th>\n",
              "      <td>2603.562500</td>\n",
              "    </tr>\n",
              "    <tr>\n",
              "      <th>2008</th>\n",
              "      <td>2598.894737</td>\n",
              "    </tr>\n",
              "    <tr>\n",
              "      <th>2009</th>\n",
              "      <td>3719.725275</td>\n",
              "    </tr>\n",
              "    <tr>\n",
              "      <th>2010</th>\n",
              "      <td>4058.253731</td>\n",
              "    </tr>\n",
              "    <tr>\n",
              "      <th>2011</th>\n",
              "      <td>5022.478723</td>\n",
              "    </tr>\n",
              "    <tr>\n",
              "      <th>2012</th>\n",
              "      <td>5680.930435</td>\n",
              "    </tr>\n",
              "    <tr>\n",
              "      <th>2013</th>\n",
              "      <td>6703.940887</td>\n",
              "    </tr>\n",
              "    <tr>\n",
              "      <th>2014</th>\n",
              "      <td>7541.874534</td>\n",
              "    </tr>\n",
              "    <tr>\n",
              "      <th>2015</th>\n",
              "      <td>8777.817982</td>\n",
              "    </tr>\n",
              "    <tr>\n",
              "      <th>2016</th>\n",
              "      <td>10665.668812</td>\n",
              "    </tr>\n",
              "    <tr>\n",
              "      <th>2017</th>\n",
              "      <td>11965.689853</td>\n",
              "    </tr>\n",
              "    <tr>\n",
              "      <th>2018</th>\n",
              "      <td>13157.894619</td>\n",
              "    </tr>\n",
              "    <tr>\n",
              "      <th>2019</th>\n",
              "      <td>17176.449280</td>\n",
              "    </tr>\n",
              "    <tr>\n",
              "      <th>2020</th>\n",
              "      <td>20819.872093</td>\n",
              "    </tr>\n",
              "  </tbody>\n",
              "</table>\n",
              "</div>\n",
              "      <button class=\"colab-df-convert\" onclick=\"convertToInteractive('df-f9781b60-1058-493f-ad54-ee643fb6cd47')\"\n",
              "              title=\"Convert this dataframe to an interactive table.\"\n",
              "              style=\"display:none;\">\n",
              "        \n",
              "  <svg xmlns=\"http://www.w3.org/2000/svg\" height=\"24px\"viewBox=\"0 0 24 24\"\n",
              "       width=\"24px\">\n",
              "    <path d=\"M0 0h24v24H0V0z\" fill=\"none\"/>\n",
              "    <path d=\"M18.56 5.44l.94 2.06.94-2.06 2.06-.94-2.06-.94-.94-2.06-.94 2.06-2.06.94zm-11 1L8.5 8.5l.94-2.06 2.06-.94-2.06-.94L8.5 2.5l-.94 2.06-2.06.94zm10 10l.94 2.06.94-2.06 2.06-.94-2.06-.94-.94-2.06-.94 2.06-2.06.94z\"/><path d=\"M17.41 7.96l-1.37-1.37c-.4-.4-.92-.59-1.43-.59-.52 0-1.04.2-1.43.59L10.3 9.45l-7.72 7.72c-.78.78-.78 2.05 0 2.83L4 21.41c.39.39.9.59 1.41.59.51 0 1.02-.2 1.41-.59l7.78-7.78 2.81-2.81c.8-.78.8-2.07 0-2.86zM5.41 20L4 18.59l7.72-7.72 1.47 1.35L5.41 20z\"/>\n",
              "  </svg>\n",
              "      </button>\n",
              "      \n",
              "  <style>\n",
              "    .colab-df-container {\n",
              "      display:flex;\n",
              "      flex-wrap:wrap;\n",
              "      gap: 12px;\n",
              "    }\n",
              "\n",
              "    .colab-df-convert {\n",
              "      background-color: #E8F0FE;\n",
              "      border: none;\n",
              "      border-radius: 50%;\n",
              "      cursor: pointer;\n",
              "      display: none;\n",
              "      fill: #1967D2;\n",
              "      height: 32px;\n",
              "      padding: 0 0 0 0;\n",
              "      width: 32px;\n",
              "    }\n",
              "\n",
              "    .colab-df-convert:hover {\n",
              "      background-color: #E2EBFA;\n",
              "      box-shadow: 0px 1px 2px rgba(60, 64, 67, 0.3), 0px 1px 3px 1px rgba(60, 64, 67, 0.15);\n",
              "      fill: #174EA6;\n",
              "    }\n",
              "\n",
              "    [theme=dark] .colab-df-convert {\n",
              "      background-color: #3B4455;\n",
              "      fill: #D2E3FC;\n",
              "    }\n",
              "\n",
              "    [theme=dark] .colab-df-convert:hover {\n",
              "      background-color: #434B5C;\n",
              "      box-shadow: 0px 1px 3px 1px rgba(0, 0, 0, 0.15);\n",
              "      filter: drop-shadow(0px 1px 2px rgba(0, 0, 0, 0.3));\n",
              "      fill: #FFFFFF;\n",
              "    }\n",
              "  </style>\n",
              "\n",
              "      <script>\n",
              "        const buttonEl =\n",
              "          document.querySelector('#df-f9781b60-1058-493f-ad54-ee643fb6cd47 button.colab-df-convert');\n",
              "        buttonEl.style.display =\n",
              "          google.colab.kernel.accessAllowed ? 'block' : 'none';\n",
              "\n",
              "        async function convertToInteractive(key) {\n",
              "          const element = document.querySelector('#df-f9781b60-1058-493f-ad54-ee643fb6cd47');\n",
              "          const dataTable =\n",
              "            await google.colab.kernel.invokeFunction('convertToInteractive',\n",
              "                                                     [key], {});\n",
              "          if (!dataTable) return;\n",
              "\n",
              "          const docLinkHtml = 'Like what you see? Visit the ' +\n",
              "            '<a target=\"_blank\" href=https://colab.research.google.com/notebooks/data_table.ipynb>data table notebook</a>'\n",
              "            + ' to learn more about interactive tables.';\n",
              "          element.innerHTML = '';\n",
              "          dataTable['output_type'] = 'display_data';\n",
              "          await google.colab.output.renderOutput(dataTable, element);\n",
              "          const docLink = document.createElement('div');\n",
              "          docLink.innerHTML = docLinkHtml;\n",
              "          element.appendChild(docLink);\n",
              "        }\n",
              "      </script>\n",
              "    </div>\n",
              "  </div>\n",
              "  "
            ]
          },
          "metadata": {},
          "execution_count": 44
        }
      ]
    },
    {
      "cell_type": "markdown",
      "source": [
        "Se crean listas y diccionarios para trabajar los gráficos que estarán dentro del subgráfico"
      ],
      "metadata": {
        "id": "6Vo_OsVw-Agj"
      }
    },
    {
      "cell_type": "code",
      "source": [
        "#Colores para el gráfico circular\n",
        "#Se crearon más colores porque matplotlib sólo tiene 10 colores básicos para los gráficos circulares\n",
        "colors = ['chocolate','aqua','lightcoral','lime','indigo','brown','darkred','darkorange','royalblue','lightgreen','blue',\n",
        "          'mediumpurple','gold','darkgreen','dodgerblue','khaki','violet','yellow','deepskyblue','fuchsia','red','yellowgreen','hotpink','pink']\n",
        "\n",
        "#Explode del gráfico circular\n",
        "explodelist = [0,0,0,0,0,0,0,0,0,0,0,0,0,0,0,0,0,0,0,0,0.08,0.08]\n",
        "\n",
        "#Diccionario de palabras clave para el gráfico de caja\n",
        "colores_dict =  {'patch_artist':True,\n",
        "                 'boxprops':dict(color='black', facecolor='red',linewidth=2),\n",
        "                 'capprops':dict(color='black',linewidth=2),\n",
        "                 'flierprops':dict(color='black',linewidth=2),\n",
        "                 'medianprops':dict(color='black',linewidth=2),\n",
        "                 'whiskerprops':dict(color='black',linewidth=2)}"
      ],
      "metadata": {
        "id": "JcgHF8V1VysK"
      },
      "execution_count": 45,
      "outputs": []
    },
    {
      "cell_type": "markdown",
      "source": [
        "Se crea el subgráfico"
      ],
      "metadata": {
        "id": "Y1ceQI-vV12X"
      }
    },
    {
      "cell_type": "code",
      "source": [
        "subgraph = plt.figure() # crear figura\n",
        "\n",
        "ax1 = subgraph.add_subplot(2, 2, 1) # agregar subgráfico 1\n",
        "ax2 = subgraph.add_subplot(2, 2, 2) # agregar subgráfico 2\n",
        "ax3 = subgraph.add_subplot(2, 2, 3) # agregar subgráfico 3\n",
        "ax4 = subgraph.add_subplot(2, 2, 4) # agregar subgráfico 4\n",
        "\n",
        "# Subgráfico 1: Gráfico de caja\n",
        "graph1 = ax1.boxplot(df_grafico['Precio en EUR'].transpose(), **colores_dict)\n",
        "#graph1 = df_grafico.plot(kind='box', figsize=(28, 15), ax=ax1, patch_artist=True)\n",
        "ax1.set_title('Gráfico de caja del precio promedio de los vehículos.', fontsize=15)\n",
        "ax1.set_ylabel('Precio promedio')\n",
        "\n",
        "ax1.tick_params(labelbottom=False)\n",
        "\n",
        "# Subgráfico 2: Gráfico de línea\n",
        "graph2 = df_grafico.plot(kind='line', figsize=(28, 15), color='black', ax=ax2)\n",
        "ax2.set_title('Gráfico de línea del precio promedio de los vehículos en el tiempo (1996-2020)', fontsize=15)\n",
        "ax2.set_ylabel('Precio promedio')\n",
        "ax2.set_xlabel('Años')\n",
        "\n",
        "ax2.legend(prop={'size':13})\n",
        "\n",
        "# Subgráfico 3: Gráfico circular\n",
        "graph3 = df_grafico['Precio en EUR'].plot(kind='pie', figsize=(28, 15), labels=None, colors=colors, ax=ax3, shadow=True, explode=explodelist, startangle=90)\n",
        "ax3.set_title('Gráfico circular del precio promedio de los vehículos en el tiempo (1996-2020)', fontsize=15)\n",
        "ax3.legend(labels=df_grafico.index, loc = 'upper right', bbox_to_anchor=(1.15,1.0))\n",
        "\n",
        "# Subgráfico 4: Gráfico de barras\n",
        "graph4 = df_grafico.plot(kind='bar', figsize=(28, 15), ax=ax4, color='royalblue')\n",
        "ax4.set_title('Gráfico de barras del precio promedio de los vehículos en el tiempo (1996-2020)', fontsize=15)\n",
        "ax4.set_ylabel('Precio promedio')\n",
        "ax4.set_xlabel('Años')\n",
        "\n",
        "ax4.legend(prop={'size':13})\n",
        "\n",
        "ax4.annotate('Mínimo', xy=(5, 2000), xytext=(5, 5000), arrowprops=dict(arrowstyle='->', connectionstyle='arc3', color='red', lw=2))\n",
        "\n",
        "# Se guarda el subgráfico como png y se muestra en pantalla\n",
        "plt.savefig('subgrafico.png')\n",
        "subgraph.show()\n",
        "\n",
        "#Observación: No quise cambiar la transparencia de las líneas en los gráficos ya que opino que se ve mal, pero para hacerlo, tendría que agregar lo siguiente al crear el plot:\n",
        "#alpha=0.5\n",
        "#Lo anterior le daría un 50% de transparencia a la línea del gráfico.\n",
        "#En un ejemplo real, quedaría algo como:\n",
        "#graph2 = df_grafico.plot(kind='line', figsize=(28, 15), color='black', ax=ax2, alpha=0.5)"
      ],
      "metadata": {
        "colab": {
          "base_uri": "https://localhost:8080/",
          "height": 889
        },
        "id": "fqm7I-V3V1K0",
        "outputId": "cee90f4c-54da-40da-fd31-4bf432ae7c66"
      },
      "execution_count": 48,
      "outputs": [
        {
          "output_type": "display_data",
          "data": {
            "text/plain": [
              "<Figure size 2016x1080 with 4 Axes>"
            ],
            "image/png": "[encoded data removed]"
          },
          "metadata": {
            "needs_background": "light"
          }
        }
      ]
    },
    {
      "cell_type": "markdown",
      "source": [
        "Del subgráfico anterior se puede concluir que los precios han variado entre los 2500 EUR y los 8500 EUR.\n",
        "También, que a medida avanzan los años, más cuestan los vehículos. \n",
        "Además, es claro que en los años 2020 y 2019 los vehículos han sido más caros, pues por si solos ya representan el 25% de la muestra.\n",
        "Finalmente, se puede observar que el mínimo de precio fue en el año 2004."
      ],
      "metadata": {
        "id": "PCUC0OuWhm3v"
      }
    },
    {
      "cell_type": "code",
      "source": [
        ""
      ],
      "metadata": {
        "id": "lGQquRvKABf1"
      },
      "execution_count": null,
      "outputs": []
    }
  ],
  "metadata": {
    "colab": {
      "collapsed_sections": [],
      "name": "Tarea3_Python.ipynb",
      "provenance": []
    },
    "kernelspec": {
      "display_name": "Python 3",
      "name": "python3"
    },
    "language_info": {
      "name": "python"
    }
  },
  "nbformat": 4,
  "nbformat_minor": 0
}